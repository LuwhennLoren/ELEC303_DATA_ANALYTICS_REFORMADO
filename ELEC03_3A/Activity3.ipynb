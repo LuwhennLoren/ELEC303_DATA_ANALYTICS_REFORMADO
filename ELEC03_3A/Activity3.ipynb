{
 "cells": [
  {
   "cell_type": "markdown",
   "id": "6537f459-a586-49e0-a847-aaaad777a474",
   "metadata": {},
   "source": [
    "<h1>---Importing Necessary Files---</h1>"
   ]
  },
  {
   "cell_type": "code",
   "execution_count": 1,
   "id": "69d9cf7a-8bee-4e37-8a19-9bca8a48db4a",
   "metadata": {},
   "outputs": [],
   "source": [
    "import numpy as np\n",
    "import pandas as pd\n",
    "import warnings\n",
    "warnings.filterwarnings('ignore')\n",
    "from scipy.stats import f_oneway"
   ]
  },
  {
   "cell_type": "markdown",
   "id": "2b327509-27fa-483f-a689-392616da707f",
   "metadata": {},
   "source": [
    "<hr>\n",
    "<h1>---Making a DataFrame for the Dataset---</h1>"
   ]
  },
  {
   "cell_type": "code",
   "execution_count": 2,
   "id": "c19b1d9f-efd5-48d6-a784-d7078cc0153e",
   "metadata": {},
   "outputs": [],
   "source": [
    "ukroadaccident = pd.read_csv('datasets\\\\uk_road_accident.csv')"
   ]
  },
  {
   "cell_type": "markdown",
   "id": "5d7d7a1d-ef82-4b43-9168-11ae7f9be71b",
   "metadata": {},
   "source": [
    "<hr>\n",
    "<h1>---Checking if the DataFrame is Working---</h1>"
   ]
  },
  {
   "cell_type": "code",
   "execution_count": 3,
   "id": "03042180-7fce-42e6-b6bd-5909dd4db8fd",
   "metadata": {},
   "outputs": [
    {
     "data": {
      "text/html": [
       "<div>\n",
       "<style scoped>\n",
       "    .dataframe tbody tr th:only-of-type {\n",
       "        vertical-align: middle;\n",
       "    }\n",
       "\n",
       "    .dataframe tbody tr th {\n",
       "        vertical-align: top;\n",
       "    }\n",
       "\n",
       "    .dataframe thead th {\n",
       "        text-align: right;\n",
       "    }\n",
       "</style>\n",
       "<table border=\"1\" class=\"dataframe\">\n",
       "  <thead>\n",
       "    <tr style=\"text-align: right;\">\n",
       "      <th></th>\n",
       "      <th>Index</th>\n",
       "      <th>Accident_Severity</th>\n",
       "      <th>Accident Date</th>\n",
       "      <th>Latitude</th>\n",
       "      <th>Light_Conditions</th>\n",
       "      <th>District Area</th>\n",
       "      <th>Longitude</th>\n",
       "      <th>Number_of_Casualties</th>\n",
       "      <th>Number_of_Vehicles</th>\n",
       "      <th>Road_Surface_Conditions</th>\n",
       "      <th>Road_Type</th>\n",
       "      <th>Urban_or_Rural_Area</th>\n",
       "      <th>Weather_Conditions</th>\n",
       "      <th>Vehicle_Type</th>\n",
       "    </tr>\n",
       "  </thead>\n",
       "  <tbody>\n",
       "    <tr>\n",
       "      <th>0</th>\n",
       "      <td>200701BS64157</td>\n",
       "      <td>Serious</td>\n",
       "      <td>5/6/2019</td>\n",
       "      <td>51.506187</td>\n",
       "      <td>Darkness - lights lit</td>\n",
       "      <td>Kensington and Chelsea</td>\n",
       "      <td>-0.209082</td>\n",
       "      <td>1</td>\n",
       "      <td>2</td>\n",
       "      <td>Dry</td>\n",
       "      <td>Single carriageway</td>\n",
       "      <td>Urban</td>\n",
       "      <td>Fine no high winds</td>\n",
       "      <td>Car</td>\n",
       "    </tr>\n",
       "    <tr>\n",
       "      <th>1</th>\n",
       "      <td>200701BS65737</td>\n",
       "      <td>Serious</td>\n",
       "      <td>2/7/2019</td>\n",
       "      <td>51.495029</td>\n",
       "      <td>Daylight</td>\n",
       "      <td>Kensington and Chelsea</td>\n",
       "      <td>-0.173647</td>\n",
       "      <td>1</td>\n",
       "      <td>2</td>\n",
       "      <td>Wet or damp</td>\n",
       "      <td>Single carriageway</td>\n",
       "      <td>Urban</td>\n",
       "      <td>Raining no high winds</td>\n",
       "      <td>Car</td>\n",
       "    </tr>\n",
       "    <tr>\n",
       "      <th>2</th>\n",
       "      <td>200701BS66127</td>\n",
       "      <td>Serious</td>\n",
       "      <td>26-08-2019</td>\n",
       "      <td>51.517715</td>\n",
       "      <td>Darkness - lighting unknown</td>\n",
       "      <td>Kensington and Chelsea</td>\n",
       "      <td>-0.210215</td>\n",
       "      <td>1</td>\n",
       "      <td>3</td>\n",
       "      <td>Dry</td>\n",
       "      <td>NaN</td>\n",
       "      <td>Urban</td>\n",
       "      <td>NaN</td>\n",
       "      <td>Taxi/Private hire car</td>\n",
       "    </tr>\n",
       "    <tr>\n",
       "      <th>3</th>\n",
       "      <td>200701BS66128</td>\n",
       "      <td>Serious</td>\n",
       "      <td>16-08-2019</td>\n",
       "      <td>51.495478</td>\n",
       "      <td>Daylight</td>\n",
       "      <td>Kensington and Chelsea</td>\n",
       "      <td>-0.202731</td>\n",
       "      <td>1</td>\n",
       "      <td>4</td>\n",
       "      <td>Dry</td>\n",
       "      <td>Single carriageway</td>\n",
       "      <td>Urban</td>\n",
       "      <td>Fine no high winds</td>\n",
       "      <td>Bus or coach (17 or more pass seats)</td>\n",
       "    </tr>\n",
       "    <tr>\n",
       "      <th>4</th>\n",
       "      <td>200701BS66837</td>\n",
       "      <td>Slight</td>\n",
       "      <td>3/9/2019</td>\n",
       "      <td>51.488576</td>\n",
       "      <td>Darkness - lights lit</td>\n",
       "      <td>Kensington and Chelsea</td>\n",
       "      <td>-0.192487</td>\n",
       "      <td>1</td>\n",
       "      <td>2</td>\n",
       "      <td>Dry</td>\n",
       "      <td>NaN</td>\n",
       "      <td>Urban</td>\n",
       "      <td>NaN</td>\n",
       "      <td>Other vehicle</td>\n",
       "    </tr>\n",
       "    <tr>\n",
       "      <th>...</th>\n",
       "      <td>...</td>\n",
       "      <td>...</td>\n",
       "      <td>...</td>\n",
       "      <td>...</td>\n",
       "      <td>...</td>\n",
       "      <td>...</td>\n",
       "      <td>...</td>\n",
       "      <td>...</td>\n",
       "      <td>...</td>\n",
       "      <td>...</td>\n",
       "      <td>...</td>\n",
       "      <td>...</td>\n",
       "      <td>...</td>\n",
       "      <td>...</td>\n",
       "    </tr>\n",
       "    <tr>\n",
       "      <th>660674</th>\n",
       "      <td>201091NM01760</td>\n",
       "      <td>Slight</td>\n",
       "      <td>18-02-2022</td>\n",
       "      <td>57.374005</td>\n",
       "      <td>Daylight</td>\n",
       "      <td>Highland</td>\n",
       "      <td>-3.467828</td>\n",
       "      <td>2</td>\n",
       "      <td>1</td>\n",
       "      <td>Dry</td>\n",
       "      <td>Single carriageway</td>\n",
       "      <td>Rural</td>\n",
       "      <td>Fine no high winds</td>\n",
       "      <td>Car</td>\n",
       "    </tr>\n",
       "    <tr>\n",
       "      <th>660675</th>\n",
       "      <td>201091NM01881</td>\n",
       "      <td>Slight</td>\n",
       "      <td>21-02-2022</td>\n",
       "      <td>57.232273</td>\n",
       "      <td>Darkness - no lighting</td>\n",
       "      <td>Highland</td>\n",
       "      <td>-3.809281</td>\n",
       "      <td>1</td>\n",
       "      <td>1</td>\n",
       "      <td>Frost or ice</td>\n",
       "      <td>Single carriageway</td>\n",
       "      <td>Rural</td>\n",
       "      <td>Fine no high winds</td>\n",
       "      <td>Car</td>\n",
       "    </tr>\n",
       "    <tr>\n",
       "      <th>660676</th>\n",
       "      <td>201091NM01935</td>\n",
       "      <td>Slight</td>\n",
       "      <td>23-02-2022</td>\n",
       "      <td>57.585044</td>\n",
       "      <td>Daylight</td>\n",
       "      <td>Highland</td>\n",
       "      <td>-3.862727</td>\n",
       "      <td>1</td>\n",
       "      <td>3</td>\n",
       "      <td>Frost or ice</td>\n",
       "      <td>Single carriageway</td>\n",
       "      <td>Rural</td>\n",
       "      <td>Fine no high winds</td>\n",
       "      <td>Car</td>\n",
       "    </tr>\n",
       "    <tr>\n",
       "      <th>660677</th>\n",
       "      <td>201091NM01964</td>\n",
       "      <td>Serious</td>\n",
       "      <td>23-02-2022</td>\n",
       "      <td>57.214898</td>\n",
       "      <td>Darkness - no lighting</td>\n",
       "      <td>Highland</td>\n",
       "      <td>-3.823997</td>\n",
       "      <td>1</td>\n",
       "      <td>2</td>\n",
       "      <td>Wet or damp</td>\n",
       "      <td>Single carriageway</td>\n",
       "      <td>Rural</td>\n",
       "      <td>Fine no high winds</td>\n",
       "      <td>Motorcycle over 500cc</td>\n",
       "    </tr>\n",
       "    <tr>\n",
       "      <th>660678</th>\n",
       "      <td>201091NM02142</td>\n",
       "      <td>Serious</td>\n",
       "      <td>28-02-2022</td>\n",
       "      <td>57.575210</td>\n",
       "      <td>Daylight</td>\n",
       "      <td>Highland</td>\n",
       "      <td>-3.895673</td>\n",
       "      <td>1</td>\n",
       "      <td>1</td>\n",
       "      <td>Wet or damp</td>\n",
       "      <td>Dual carriageway</td>\n",
       "      <td>Rural</td>\n",
       "      <td>Snowing no high winds</td>\n",
       "      <td>Car</td>\n",
       "    </tr>\n",
       "  </tbody>\n",
       "</table>\n",
       "<p>660679 rows × 14 columns</p>\n",
       "</div>"
      ],
      "text/plain": [
       "                Index Accident_Severity Accident Date   Latitude  \\\n",
       "0       200701BS64157           Serious      5/6/2019  51.506187   \n",
       "1       200701BS65737           Serious      2/7/2019  51.495029   \n",
       "2       200701BS66127           Serious    26-08-2019  51.517715   \n",
       "3       200701BS66128           Serious    16-08-2019  51.495478   \n",
       "4       200701BS66837            Slight      3/9/2019  51.488576   \n",
       "...               ...               ...           ...        ...   \n",
       "660674  201091NM01760            Slight    18-02-2022  57.374005   \n",
       "660675  201091NM01881            Slight    21-02-2022  57.232273   \n",
       "660676  201091NM01935            Slight    23-02-2022  57.585044   \n",
       "660677  201091NM01964           Serious    23-02-2022  57.214898   \n",
       "660678  201091NM02142           Serious    28-02-2022  57.575210   \n",
       "\n",
       "                   Light_Conditions           District Area  Longitude  \\\n",
       "0             Darkness - lights lit  Kensington and Chelsea  -0.209082   \n",
       "1                          Daylight  Kensington and Chelsea  -0.173647   \n",
       "2       Darkness - lighting unknown  Kensington and Chelsea  -0.210215   \n",
       "3                          Daylight  Kensington and Chelsea  -0.202731   \n",
       "4             Darkness - lights lit  Kensington and Chelsea  -0.192487   \n",
       "...                             ...                     ...        ...   \n",
       "660674                     Daylight                Highland  -3.467828   \n",
       "660675       Darkness - no lighting                Highland  -3.809281   \n",
       "660676                     Daylight                Highland  -3.862727   \n",
       "660677       Darkness - no lighting                Highland  -3.823997   \n",
       "660678                     Daylight                Highland  -3.895673   \n",
       "\n",
       "        Number_of_Casualties  Number_of_Vehicles Road_Surface_Conditions  \\\n",
       "0                          1                   2                     Dry   \n",
       "1                          1                   2             Wet or damp   \n",
       "2                          1                   3                     Dry   \n",
       "3                          1                   4                     Dry   \n",
       "4                          1                   2                     Dry   \n",
       "...                      ...                 ...                     ...   \n",
       "660674                     2                   1                     Dry   \n",
       "660675                     1                   1            Frost or ice   \n",
       "660676                     1                   3            Frost or ice   \n",
       "660677                     1                   2             Wet or damp   \n",
       "660678                     1                   1             Wet or damp   \n",
       "\n",
       "                 Road_Type Urban_or_Rural_Area     Weather_Conditions  \\\n",
       "0       Single carriageway               Urban     Fine no high winds   \n",
       "1       Single carriageway               Urban  Raining no high winds   \n",
       "2                      NaN               Urban                    NaN   \n",
       "3       Single carriageway               Urban     Fine no high winds   \n",
       "4                      NaN               Urban                    NaN   \n",
       "...                    ...                 ...                    ...   \n",
       "660674  Single carriageway               Rural     Fine no high winds   \n",
       "660675  Single carriageway               Rural     Fine no high winds   \n",
       "660676  Single carriageway               Rural     Fine no high winds   \n",
       "660677  Single carriageway               Rural     Fine no high winds   \n",
       "660678    Dual carriageway               Rural  Snowing no high winds   \n",
       "\n",
       "                                Vehicle_Type  \n",
       "0                                        Car  \n",
       "1                                        Car  \n",
       "2                      Taxi/Private hire car  \n",
       "3       Bus or coach (17 or more pass seats)  \n",
       "4                              Other vehicle  \n",
       "...                                      ...  \n",
       "660674                                   Car  \n",
       "660675                                   Car  \n",
       "660676                                   Car  \n",
       "660677                 Motorcycle over 500cc  \n",
       "660678                                   Car  \n",
       "\n",
       "[660679 rows x 14 columns]"
      ]
     },
     "execution_count": 3,
     "metadata": {},
     "output_type": "execute_result"
    }
   ],
   "source": [
    "ukroadaccident"
   ]
  },
  {
   "cell_type": "markdown",
   "id": "80b9d57e-2a32-4ae6-87e9-02183b00fae0",
   "metadata": {},
   "source": [
    "<h1>---Cleaning the Inconsistencies on the Accident date---</h1>"
   ]
  },
  {
   "cell_type": "code",
   "execution_count": 4,
   "id": "6d97e68b-5c42-46da-bd64-f6d9d60a9270",
   "metadata": {},
   "outputs": [],
   "source": [
    "ukroadaccident['Accident Date'] = ukroadaccident['Accident Date'].astype('str')\n",
    "ukroadaccident['Accident Date'] = ukroadaccident['Accident Date'].str.strip()\n",
    "ukroadaccident['Accident Date'] = ukroadaccident['Accident Date'].str.replace('/', '-')"
   ]
  },
  {
   "cell_type": "markdown",
   "id": "41bb4b4c-42c4-4546-89d7-31c69991debc",
   "metadata": {},
   "source": [
    "<h1>---Coverting the Data Type of the Accident Date---</h1>"
   ]
  },
  {
   "cell_type": "code",
   "execution_count": 5,
   "id": "2eaa988c-e32f-4830-8e0f-19cb92860f2e",
   "metadata": {},
   "outputs": [],
   "source": [
    "ukroadaccident['Accident Date'] = pd.to_datetime(ukroadaccident['Accident Date'], dayfirst=True, errors='coerce')"
   ]
  },
  {
   "cell_type": "markdown",
   "id": "05efdd18-0a73-4414-9763-f16ed1252c1f",
   "metadata": {},
   "source": [
    "<h1>---Extracting New Columns from Accident Date---</h1>"
   ]
  },
  {
   "cell_type": "code",
   "execution_count": 6,
   "id": "9d175371-5870-4e62-acbf-f5e957fbbb15",
   "metadata": {},
   "outputs": [],
   "source": [
    "ukroadaccident['Year'] = ukroadaccident['Accident Date'].dt.year\n",
    "ukroadaccident['Month_Number'] = ukroadaccident['Accident Date'].dt.month\n",
    "ukroadaccident['Month'] = ukroadaccident['Accident Date'].dt.month_name()\n",
    "ukroadaccident['Day'] = ukroadaccident['Accident Date'].dt.day\n",
    "ukroadaccident['DayofWeek'] = ukroadaccident['Accident Date'].dt.dayofweek  # Monday=0, Sunday=6"
   ]
  },
  {
   "cell_type": "markdown",
   "id": "b8598230-d36d-4c3e-9a5c-80a2bcbab3dc",
   "metadata": {},
   "source": [
    "<hr>\n",
    "<h1>---Checking for Null Values---</h1>"
   ]
  },
  {
   "cell_type": "code",
   "execution_count": 7,
   "id": "6e179ed3-1942-49ed-8f76-d7d0a39364a6",
   "metadata": {},
   "outputs": [
    {
     "data": {
      "text/plain": [
       "Index                          0\n",
       "Accident_Severity              0\n",
       "Accident Date                  0\n",
       "Latitude                      25\n",
       "Light_Conditions               0\n",
       "District Area                  0\n",
       "Longitude                     26\n",
       "Number_of_Casualties           0\n",
       "Number_of_Vehicles             0\n",
       "Road_Surface_Conditions      726\n",
       "Road_Type                   4520\n",
       "Urban_or_Rural_Area           15\n",
       "Weather_Conditions         14128\n",
       "Vehicle_Type                   0\n",
       "Year                           0\n",
       "Month_Number                   0\n",
       "Month                          0\n",
       "Day                            0\n",
       "DayofWeek                      0\n",
       "dtype: int64"
      ]
     },
     "execution_count": 7,
     "metadata": {},
     "output_type": "execute_result"
    }
   ],
   "source": [
    "ukroadaccident.isnull().sum()"
   ]
  },
  {
   "cell_type": "markdown",
   "id": "e10b202d-5874-4ba2-86b4-5f1f0c8fb9cb",
   "metadata": {},
   "source": [
    "<h1>---Fixing the Null Values---</h1>"
   ]
  },
  {
   "cell_type": "markdown",
   "id": "ae6ed67f-0b28-43dd-b569-8ce9248c5020",
   "metadata": {},
   "source": [
    "<h3>-Numerical Null Values-</h3>"
   ]
  },
  {
   "cell_type": "code",
   "execution_count": 8,
   "id": "5c2bc6c9-a954-4aea-b57d-9bf0be3cbc1d",
   "metadata": {},
   "outputs": [
    {
     "data": {
      "text/plain": [
       "np.float64(52.553865761110956)"
      ]
     },
     "execution_count": 8,
     "metadata": {},
     "output_type": "execute_result"
    }
   ],
   "source": [
    "ukroadaccident['Latitude'].mean()"
   ]
  },
  {
   "cell_type": "code",
   "execution_count": 9,
   "id": "4ecc38fb-9aae-4208-aaff-f658c089d215",
   "metadata": {},
   "outputs": [],
   "source": [
    "ukroadaccident['Latitude'] = ukroadaccident['Latitude'].fillna(ukroadaccident['Latitude'].mean())"
   ]
  },
  {
   "cell_type": "markdown",
   "id": "525d342b-bdf3-4b92-9b56-bab10e315f1b",
   "metadata": {},
   "source": [
    "<p>---------------------------------------------</p>"
   ]
  },
  {
   "cell_type": "code",
   "execution_count": 10,
   "id": "8bfe2109-41fe-4402-bde7-24048c772080",
   "metadata": {},
   "outputs": [
    {
     "data": {
      "text/plain": [
       "np.float64(-1.431210368502073)"
      ]
     },
     "execution_count": 10,
     "metadata": {},
     "output_type": "execute_result"
    }
   ],
   "source": [
    "ukroadaccident['Longitude'].mean()"
   ]
  },
  {
   "cell_type": "code",
   "execution_count": 11,
   "id": "50896a52-15d9-4a14-8c5a-79f49c17f039",
   "metadata": {},
   "outputs": [],
   "source": [
    "ukroadaccident['Longitude'] = ukroadaccident['Longitude'].fillna(ukroadaccident['Longitude'].mean())"
   ]
  },
  {
   "cell_type": "markdown",
   "id": "aa786a6a-e24d-4cd8-ba41-cd9ebeb2933b",
   "metadata": {},
   "source": [
    "<h3>-Categorical Null Values-</h3>"
   ]
  },
  {
   "cell_type": "code",
   "execution_count": 12,
   "id": "d4d155a9-e87f-40ac-a787-130c0cf1c685",
   "metadata": {},
   "outputs": [],
   "source": [
    "ukroadaccident['Road_Surface_Conditions'] = ukroadaccident['Road_Surface_Conditions'].fillna('unaccounted')"
   ]
  },
  {
   "cell_type": "markdown",
   "id": "d3e74c38-42a9-49c3-9365-32934b007f77",
   "metadata": {},
   "source": [
    "<p>---------------------------------------------</p>"
   ]
  },
  {
   "cell_type": "code",
   "execution_count": 13,
   "id": "4bb00251-f8de-4d63-979c-dfd0fac66b58",
   "metadata": {},
   "outputs": [],
   "source": [
    "ukroadaccident['Road_Type'] = ukroadaccident['Road_Type'].fillna('unaccounted')"
   ]
  },
  {
   "cell_type": "markdown",
   "id": "142a4a51-a513-407e-835d-2b31c4ae3d6c",
   "metadata": {},
   "source": [
    "<p>---------------------------------------------</p>"
   ]
  },
  {
   "cell_type": "code",
   "execution_count": 14,
   "id": "51159b98-83da-4d4c-9993-36eb54b8f15f",
   "metadata": {},
   "outputs": [
    {
     "data": {
      "text/plain": [
       "0    Urban\n",
       "Name: Urban_or_Rural_Area, dtype: object"
      ]
     },
     "execution_count": 14,
     "metadata": {},
     "output_type": "execute_result"
    }
   ],
   "source": [
    "ukroadaccident['Urban_or_Rural_Area'].mode()"
   ]
  },
  {
   "cell_type": "code",
   "execution_count": 15,
   "id": "e2a122f4-b386-4040-b874-9d331bbf013f",
   "metadata": {},
   "outputs": [],
   "source": [
    "ukroadaccident['Urban_or_Rural_Area'] = ukroadaccident['Urban_or_Rural_Area'].fillna(ukroadaccident['Urban_or_Rural_Area'].mode()[0])"
   ]
  },
  {
   "cell_type": "markdown",
   "id": "f6811a4d-d8ff-49a0-a649-54a731de6222",
   "metadata": {},
   "source": [
    "<p>---------------------------------------------</p>"
   ]
  },
  {
   "cell_type": "code",
   "execution_count": 16,
   "id": "9550e822-aaf5-4724-b90d-aced9b1679b2",
   "metadata": {},
   "outputs": [],
   "source": [
    "ukroadaccident['Weather_Conditions'] = ukroadaccident['Weather_Conditions'].fillna('unaccounted')"
   ]
  },
  {
   "cell_type": "markdown",
   "id": "f3fac675-95c7-46ea-bfa5-5ba5d08be489",
   "metadata": {},
   "source": [
    "<h1>---Checking if there are still Null Values---</h1>"
   ]
  },
  {
   "cell_type": "code",
   "execution_count": 17,
   "id": "98d6f815-f321-4fbc-83dc-2b0354a23c56",
   "metadata": {},
   "outputs": [
    {
     "data": {
      "text/plain": [
       "Index                      0\n",
       "Accident_Severity          0\n",
       "Accident Date              0\n",
       "Latitude                   0\n",
       "Light_Conditions           0\n",
       "District Area              0\n",
       "Longitude                  0\n",
       "Number_of_Casualties       0\n",
       "Number_of_Vehicles         0\n",
       "Road_Surface_Conditions    0\n",
       "Road_Type                  0\n",
       "Urban_or_Rural_Area        0\n",
       "Weather_Conditions         0\n",
       "Vehicle_Type               0\n",
       "Year                       0\n",
       "Month_Number               0\n",
       "Month                      0\n",
       "Day                        0\n",
       "DayofWeek                  0\n",
       "dtype: int64"
      ]
     },
     "execution_count": 17,
     "metadata": {},
     "output_type": "execute_result"
    }
   ],
   "source": [
    "ukroadaccident.isnull().sum()"
   ]
  },
  {
   "cell_type": "markdown",
   "id": "66429a22-f7c7-4b47-b313-3a1dcdaee3e5",
   "metadata": {},
   "source": [
    "<hr>\n",
    "<h1>---Checking the Data Type---</h1>"
   ]
  },
  {
   "cell_type": "code",
   "execution_count": 18,
   "id": "9104dd56-fd3a-44fb-a2cb-6f2bf5e207ca",
   "metadata": {},
   "outputs": [
    {
     "name": "stdout",
     "output_type": "stream",
     "text": [
      "<class 'pandas.core.frame.DataFrame'>\n",
      "RangeIndex: 660679 entries, 0 to 660678\n",
      "Data columns (total 19 columns):\n",
      " #   Column                   Non-Null Count   Dtype         \n",
      "---  ------                   --------------   -----         \n",
      " 0   Index                    660679 non-null  object        \n",
      " 1   Accident_Severity        660679 non-null  object        \n",
      " 2   Accident Date            660679 non-null  datetime64[ns]\n",
      " 3   Latitude                 660679 non-null  float64       \n",
      " 4   Light_Conditions         660679 non-null  object        \n",
      " 5   District Area            660679 non-null  object        \n",
      " 6   Longitude                660679 non-null  float64       \n",
      " 7   Number_of_Casualties     660679 non-null  int64         \n",
      " 8   Number_of_Vehicles       660679 non-null  int64         \n",
      " 9   Road_Surface_Conditions  660679 non-null  object        \n",
      " 10  Road_Type                660679 non-null  object        \n",
      " 11  Urban_or_Rural_Area      660679 non-null  object        \n",
      " 12  Weather_Conditions       660679 non-null  object        \n",
      " 13  Vehicle_Type             660679 non-null  object        \n",
      " 14  Year                     660679 non-null  int32         \n",
      " 15  Month_Number             660679 non-null  int32         \n",
      " 16  Month                    660679 non-null  object        \n",
      " 17  Day                      660679 non-null  int32         \n",
      " 18  DayofWeek                660679 non-null  int32         \n",
      "dtypes: datetime64[ns](1), float64(2), int32(4), int64(2), object(10)\n",
      "memory usage: 85.7+ MB\n"
     ]
    }
   ],
   "source": [
    "ukroadaccident.info()"
   ]
  },
  {
   "cell_type": "markdown",
   "id": "8afba6e4-c4f5-4008-9fbf-4b23af5dc01c",
   "metadata": {},
   "source": [
    "<h1>---Fixing the Data Type---</h1>"
   ]
  },
  {
   "cell_type": "code",
   "execution_count": 19,
   "id": "bfc3d944-da89-4589-b1e9-f995096520fd",
   "metadata": {},
   "outputs": [],
   "source": [
    "ukroadaccident['Index'] = ukroadaccident['Index'].astype('category') \n",
    "ukroadaccident['Accident_Severity'] = ukroadaccident['Accident_Severity'].astype('category')\n",
    "ukroadaccident['Light_Conditions'] = ukroadaccident['Light_Conditions'].astype('category')\n",
    "ukroadaccident['District Area'] = ukroadaccident['District Area'].astype('category')\n",
    "ukroadaccident['Road_Surface_Conditions'] = ukroadaccident['Road_Surface_Conditions'].astype('category') \n",
    "ukroadaccident['Road_Type'] = ukroadaccident['Road_Type'].astype('category') \n",
    "ukroadaccident['Urban_or_Rural_Area'] = ukroadaccident['Urban_or_Rural_Area'].astype('category') \n",
    "ukroadaccident['Weather_Conditions'] = ukroadaccident['Weather_Conditions'].astype('category') \n",
    "ukroadaccident['Vehicle_Type'] = ukroadaccident['Vehicle_Type'].astype('category')\n",
    "ukroadaccident['Month'] = ukroadaccident['Month'].astype('category')\n",
    "ukroadaccident['Year'] = ukroadaccident['Year'].astype('category')"
   ]
  },
  {
   "cell_type": "markdown",
   "id": "d7200b58-e223-4de0-a0ce-e52919ca2995",
   "metadata": {},
   "source": [
    "<h1>---Checking again---</h1>"
   ]
  },
  {
   "cell_type": "code",
   "execution_count": 20,
   "id": "e8a8ebbb-0a33-43a0-8883-14887f96574d",
   "metadata": {},
   "outputs": [
    {
     "name": "stdout",
     "output_type": "stream",
     "text": [
      "<class 'pandas.core.frame.DataFrame'>\n",
      "RangeIndex: 660679 entries, 0 to 660678\n",
      "Data columns (total 19 columns):\n",
      " #   Column                   Non-Null Count   Dtype         \n",
      "---  ------                   --------------   -----         \n",
      " 0   Index                    660679 non-null  category      \n",
      " 1   Accident_Severity        660679 non-null  category      \n",
      " 2   Accident Date            660679 non-null  datetime64[ns]\n",
      " 3   Latitude                 660679 non-null  float64       \n",
      " 4   Light_Conditions         660679 non-null  category      \n",
      " 5   District Area            660679 non-null  category      \n",
      " 6   Longitude                660679 non-null  float64       \n",
      " 7   Number_of_Casualties     660679 non-null  int64         \n",
      " 8   Number_of_Vehicles       660679 non-null  int64         \n",
      " 9   Road_Surface_Conditions  660679 non-null  category      \n",
      " 10  Road_Type                660679 non-null  category      \n",
      " 11  Urban_or_Rural_Area      660679 non-null  category      \n",
      " 12  Weather_Conditions       660679 non-null  category      \n",
      " 13  Vehicle_Type             660679 non-null  category      \n",
      " 14  Year                     660679 non-null  category      \n",
      " 15  Month_Number             660679 non-null  int32         \n",
      " 16  Month                    660679 non-null  category      \n",
      " 17  Day                      660679 non-null  int32         \n",
      " 18  DayofWeek                660679 non-null  int32         \n",
      "dtypes: category(11), datetime64[ns](1), float64(2), int32(3), int64(2)\n",
      "memory usage: 61.6 MB\n"
     ]
    }
   ],
   "source": [
    "ukroadaccident.info()"
   ]
  },
  {
   "cell_type": "markdown",
   "id": "a93fcec4-0079-420e-ab31-a6bd284f1dba",
   "metadata": {},
   "source": [
    "<hr>\n",
    "<h1>---20 Questions and Insights---</h1>\n",
    "<hr>"
   ]
  },
  {
   "cell_type": "markdown",
   "id": "3beb076d-b9c6-4ae7-85e4-38bb6d56fc57",
   "metadata": {},
   "source": [
    "<h1>~EDA~</h1>"
   ]
  },
  {
   "cell_type": "markdown",
   "id": "d5ea8643-da8e-49a8-8d1d-2c6a4491b63e",
   "metadata": {},
   "source": [
    "<h1>1. What is the most usual vehicle type?</h1>"
   ]
  },
  {
   "cell_type": "code",
   "execution_count": 21,
   "id": "4605ec78-6b0e-4f47-9ed2-dcaee27ef55d",
   "metadata": {},
   "outputs": [
    {
     "data": {
      "text/plain": [
       "0    Car\n",
       "Name: Vehicle_Type, dtype: category\n",
       "Categories (16, object): ['Agricultural vehicle', 'Bus or coach (17 or more pass seats)', 'Car', 'Data missing or out of range', ..., 'Pedal cycle', 'Ridden horse', 'Taxi/Private hire car', 'Van / Goods 3.5 tonnes mgw or under']"
      ]
     },
     "execution_count": 21,
     "metadata": {},
     "output_type": "execute_result"
    }
   ],
   "source": [
    "ukroadaccident['Vehicle_Type'].mode()"
   ]
  },
  {
   "cell_type": "markdown",
   "id": "a3f08193-1006-4bb0-84d7-a51fd2b470be",
   "metadata": {},
   "source": [
    "<h2><strong>Insight: </strong> <i>According to the result, the most frequent/usual type of vehicle involve in accidents is car.</i></h2>"
   ]
  },
  {
   "cell_type": "markdown",
   "id": "5b964d9f-fdab-4941-b8ab-8438c6e52a47",
   "metadata": {},
   "source": [
    "<hr>\n",
    "<h1>2. What is the usual light condition during the accidents?</h1>"
   ]
  },
  {
   "cell_type": "code",
   "execution_count": 22,
   "id": "8d02caef-856b-4d99-a3d2-87ed0de712b4",
   "metadata": {},
   "outputs": [
    {
     "data": {
      "text/plain": [
       "0    Daylight\n",
       "Name: Light_Conditions, dtype: category\n",
       "Categories (5, object): ['Darkness - lighting unknown', 'Darkness - lights lit', 'Darkness - lights unlit', 'Darkness - no lighting', 'Daylight']"
      ]
     },
     "execution_count": 22,
     "metadata": {},
     "output_type": "execute_result"
    }
   ],
   "source": [
    "ukroadaccident['Light_Conditions'].mode()"
   ]
  },
  {
   "cell_type": "markdown",
   "id": "726f49f0-2790-4fba-9c0f-fc9774eac9bd",
   "metadata": {},
   "source": [
    "<h2> <strong>Insight: </strong> <i>The result shows that accidents are usually happening during daylight.</i> </h2>"
   ]
  },
  {
   "cell_type": "markdown",
   "id": "60192ad0-1b92-46e1-8063-95cdc7efd8d9",
   "metadata": {},
   "source": [
    "<hr>\n",
    "<h1>3. In terms of road surface conditions, what is the the most frequent?</h1>"
   ]
  },
  {
   "cell_type": "code",
   "execution_count": 23,
   "id": "f58e7db6-f76a-428d-b4e2-09ab902a1648",
   "metadata": {},
   "outputs": [
    {
     "data": {
      "text/plain": [
       "0    Dry\n",
       "Name: Road_Surface_Conditions, dtype: category\n",
       "Categories (6, object): ['Dry', 'Flood over 3cm. deep', 'Frost or ice', 'Snow', 'Wet or damp', 'unaccounted']"
      ]
     },
     "execution_count": 23,
     "metadata": {},
     "output_type": "execute_result"
    }
   ],
   "source": [
    "ukroadaccident['Road_Surface_Conditions'].mode()"
   ]
  },
  {
   "cell_type": "markdown",
   "id": "6c619a55-57d2-4c39-a497-c7b61d3ddfa7",
   "metadata": {},
   "source": [
    "<h2> <strong>Insight: </strong> <i>Based on the result, dry road surface condition are prone to accidents.</i> </h2>"
   ]
  },
  {
   "cell_type": "markdown",
   "id": "9f8a1964-0d37-49b1-84f4-2a2117f9e1e6",
   "metadata": {},
   "source": [
    "<hr>\n",
    "<h1>4. How many number of vehicles are mostly being involved during accidents?</h1>"
   ]
  },
  {
   "cell_type": "code",
   "execution_count": 24,
   "id": "da4e9f3c-a55d-41e5-85a2-4172c3674b3b",
   "metadata": {},
   "outputs": [
    {
     "data": {
      "text/plain": [
       "0    2\n",
       "Name: Number_of_Vehicles, dtype: int64"
      ]
     },
     "execution_count": 24,
     "metadata": {},
     "output_type": "execute_result"
    }
   ],
   "source": [
    "ukroadaccident['Number_of_Vehicles'].mode()"
   ]
  },
  {
   "cell_type": "markdown",
   "id": "5b1ae7eb-5b76-4c98-9f11-dfd2eee2dc68",
   "metadata": {},
   "source": [
    "<h2> <strong>Insight: </strong> <i>The result shows that two vehicles are mostly involved during road accidents.</i> </h2>"
   ]
  },
  {
   "cell_type": "markdown",
   "id": "28d4651e-95d6-452d-94cf-f084cd084786",
   "metadata": {},
   "source": [
    "<hr>\n",
    "<h1>5. What type of road does the accidents usually happen? </h1>"
   ]
  },
  {
   "cell_type": "code",
   "execution_count": 25,
   "id": "35aeaaab-105c-4a99-a0d8-251b0661e7a9",
   "metadata": {},
   "outputs": [
    {
     "data": {
      "text/plain": [
       "0    Single carriageway\n",
       "Name: Road_Type, dtype: category\n",
       "Categories (6, object): ['Dual carriageway', 'One way street', 'Roundabout', 'Single carriageway', 'Slip road', 'unaccounted']"
      ]
     },
     "execution_count": 25,
     "metadata": {},
     "output_type": "execute_result"
    }
   ],
   "source": [
    "ukroadaccident['Road_Type'].mode()"
   ]
  },
  {
   "cell_type": "markdown",
   "id": "d01b4d78-d96b-4d3e-b36a-154720275215",
   "metadata": {},
   "source": [
    "<h2> <strong>Insight: </strong> <i>According to the result, accidents usually happen on a single carriageway road.</i> </h2>"
   ]
  },
  {
   "cell_type": "markdown",
   "id": "fb6f7cae-8356-4afe-be5b-2b96bccbdb30",
   "metadata": {},
   "source": [
    "<h1>6. How many record of accidents per year?</h1>"
   ]
  },
  {
   "cell_type": "code",
   "execution_count": 26,
   "id": "726480b8-0dae-4c21-8323-ebcb2bdfcbfe",
   "metadata": {},
   "outputs": [
    {
     "data": {
      "text/plain": [
       "Year\n",
       "2019    182115\n",
       "2020    170591\n",
       "2021    163554\n",
       "2022    144419\n",
       "Name: count, dtype: int64"
      ]
     },
     "execution_count": 26,
     "metadata": {},
     "output_type": "execute_result"
    }
   ],
   "source": [
    "ukroadaccident['Year'].value_counts()"
   ]
  },
  {
   "cell_type": "markdown",
   "id": "e64bfe68-096c-47a0-8420-6b27a05ec8ef",
   "metadata": {},
   "source": [
    "<h2> <strong>Insight 1: </strong><i>The accidents record is <strong>gradually decreasing year by year from 27.57% in 2019 to 21.84% in 2022.</strong></i> </h2>\n",
    "<h2> <strong>Insight 2: </strong><i>The highest number of accidents is on 2019, followed by 2020 at 25.83%, followed by 2021 with 24.76%, then 2022 is the lowest at 21.84%.</i> </h2>"
   ]
  },
  {
   "cell_type": "markdown",
   "id": "b099f580-99a8-4af1-af0e-9e2a0e2dc746",
   "metadata": {},
   "source": [
    "<h1>7. In terms of weather conditions, when does the least and most accidents record?</h1>"
   ]
  },
  {
   "cell_type": "code",
   "execution_count": 27,
   "id": "c1876650-163a-4832-89ef-74e91c4bfcf7",
   "metadata": {},
   "outputs": [
    {
     "data": {
      "text/plain": [
       "Weather_Conditions\n",
       "Fine no high winds       520885\n",
       "Raining no high winds     79696\n",
       "Other                     17150\n",
       "unaccounted               14128\n",
       "Raining + high winds       9615\n",
       "Fine + high winds          8554\n",
       "Snowing no high winds      6238\n",
       "Fog or mist                3528\n",
       "Snowing + high winds        885\n",
       "Name: count, dtype: int64"
      ]
     },
     "execution_count": 27,
     "metadata": {},
     "output_type": "execute_result"
    }
   ],
   "source": [
    "ukroadaccident['Weather_Conditions'].value_counts()"
   ]
  },
  {
   "cell_type": "markdown",
   "id": "3b9f1a11-fe33-41a7-a3ec-854695861d83",
   "metadata": {},
   "source": [
    "<h2> <strong>Insight 1: </strong> <i>Based on the result, the <strong>majority of incidents (79%) happen under fine weather with no high winds</strong> weather condition. So, even a fine weather is not safe from road accidents.</i> </h2>\n",
    "<h2> <strong>Insight 2: </strong> <i>Raining without high winds condition accounts for 12%, which is the second most condition.</i> </h2>\n",
    "<h2> <strong>Insight 3: </strong> <i>The other conditions are 2% to below 1% rate, and the <strong>lowest is snowy with high winds at 0.13%</strong>lowest is snowy with high winds at 0.13%</i> </h2>\n",
    "<h2> <strong>Insight 4: </strong> <i>There is a small portion of incidents classified as “Other” or “Unaccounted” (4.7% combined) which indicates the records under unknown conditions.</i> </h2>"
   ]
  },
  {
   "cell_type": "markdown",
   "id": "7eca60f3-2b73-40d3-abd3-882cc09cb57a",
   "metadata": {},
   "source": [
    "<h1>~Aggregation~</h1>"
   ]
  },
  {
   "cell_type": "markdown",
   "id": "2a19e178-da4c-4522-9636-166729be8d01",
   "metadata": {},
   "source": [
    "<h1>8. What is the total number of accidents per road type?</h1>"
   ]
  },
  {
   "cell_type": "code",
   "execution_count": 28,
   "id": "5418ae0b-1e0c-495d-9cbc-570b06c3d267",
   "metadata": {},
   "outputs": [
    {
     "data": {
      "text/plain": [
       "Road_Type\n",
       "Dual carriageway       99424\n",
       "One way street         13559\n",
       "Roundabout             43992\n",
       "Single carriageway    492143\n",
       "Slip road               7041\n",
       "unaccounted             4520\n",
       "dtype: int64"
      ]
     },
     "execution_count": 28,
     "metadata": {},
     "output_type": "execute_result"
    }
   ],
   "source": [
    "ukroadaccident.groupby('Road_Type').size()"
   ]
  },
  {
   "cell_type": "markdown",
   "id": "6019b06a-d2a5-437f-888f-6243701c4d14",
   "metadata": {},
   "source": [
    "<h2> <strong>Insight 1: </strong> <i>Single carriageways had the highest record of incidents with <strong>74.55%</strong>, which means this type of road is accident-prone.</i> </h2>\n",
    "<h2> <strong>Insight 2: </strong> <i>Dual carriageways is 15%, showing fewer incidents compared to single carriageways.</i> </h2>\n",
    "<h2> <strong>Insight 2: </strong> <i>A very small portion of 0.7% is unaccounted, which is the lowest data but valuable still.</i> </h2>"
   ]
  },
  {
   "cell_type": "markdown",
   "id": "d11a7b90-377c-45e5-b22a-669266820188",
   "metadata": {},
   "source": [
    "<h1>9. What is the average of number of casualties involved in accidents by accident severity?</h1>"
   ]
  },
  {
   "cell_type": "code",
   "execution_count": 29,
   "id": "ddea5649-e4af-4429-8968-fe48fd785b83",
   "metadata": {},
   "outputs": [
    {
     "data": {
      "text/plain": [
       "Accident_Severity\n",
       "Fatal      1.903129\n",
       "Serious    1.467280\n",
       "Slight     1.331402\n",
       "Name: Number_of_Casualties, dtype: float64"
      ]
     },
     "execution_count": 29,
     "metadata": {},
     "output_type": "execute_result"
    }
   ],
   "source": [
    "ukroadaccident.groupby('Accident_Severity')['Number_of_Casualties'].mean()"
   ]
  },
  {
   "cell_type": "markdown",
   "id": "64a2238e-4bc4-4452-bdea-de422387425d",
   "metadata": {},
   "source": [
    "<h2> <strong>Insight: </strong> <i>The average of accident severity in terms of fatal is 1.903129 (highest), serious is 1.467280, and slight is 1.331402 (lowest).</i> </h2>"
   ]
  },
  {
   "cell_type": "markdown",
   "id": "b0726253-f606-4e62-83ff-e311b7ee91e6",
   "metadata": {},
   "source": [
    "<h1>10. How do accident severities vary across different light conditions?</h1>"
   ]
  },
  {
   "cell_type": "code",
   "execution_count": 30,
   "id": "869d11bf-a606-4dd7-9e22-103bf79a8ac8",
   "metadata": {},
   "outputs": [
    {
     "data": {
      "text/html": [
       "<div>\n",
       "<style scoped>\n",
       "    .dataframe tbody tr th:only-of-type {\n",
       "        vertical-align: middle;\n",
       "    }\n",
       "\n",
       "    .dataframe tbody tr th {\n",
       "        vertical-align: top;\n",
       "    }\n",
       "\n",
       "    .dataframe thead th {\n",
       "        text-align: right;\n",
       "    }\n",
       "</style>\n",
       "<table border=\"1\" class=\"dataframe\">\n",
       "  <thead>\n",
       "    <tr style=\"text-align: right;\">\n",
       "      <th>Light_Conditions</th>\n",
       "      <th>Darkness - lighting unknown</th>\n",
       "      <th>Darkness - lights lit</th>\n",
       "      <th>Darkness - lights unlit</th>\n",
       "      <th>Darkness - no lighting</th>\n",
       "      <th>Daylight</th>\n",
       "    </tr>\n",
       "    <tr>\n",
       "      <th>Accident_Severity</th>\n",
       "      <th></th>\n",
       "      <th></th>\n",
       "      <th></th>\n",
       "      <th></th>\n",
       "      <th></th>\n",
       "    </tr>\n",
       "  </thead>\n",
       "  <tbody>\n",
       "    <tr>\n",
       "      <th>Fatal</th>\n",
       "      <td>68</td>\n",
       "      <td>1860</td>\n",
       "      <td>45</td>\n",
       "      <td>1612</td>\n",
       "      <td>5076</td>\n",
       "    </tr>\n",
       "    <tr>\n",
       "      <th>Serious</th>\n",
       "      <td>794</td>\n",
       "      <td>19130</td>\n",
       "      <td>360</td>\n",
       "      <td>7174</td>\n",
       "      <td>60759</td>\n",
       "    </tr>\n",
       "    <tr>\n",
       "      <th>Slight</th>\n",
       "      <td>5622</td>\n",
       "      <td>108345</td>\n",
       "      <td>2138</td>\n",
       "      <td>28651</td>\n",
       "      <td>419045</td>\n",
       "    </tr>\n",
       "  </tbody>\n",
       "</table>\n",
       "</div>"
      ],
      "text/plain": [
       "Light_Conditions   Darkness - lighting unknown  Darkness - lights lit  \\\n",
       "Accident_Severity                                                       \n",
       "Fatal                                       68                   1860   \n",
       "Serious                                    794                  19130   \n",
       "Slight                                    5622                 108345   \n",
       "\n",
       "Light_Conditions   Darkness - lights unlit  Darkness - no lighting  Daylight  \n",
       "Accident_Severity                                                             \n",
       "Fatal                                   45                    1612      5076  \n",
       "Serious                                360                    7174     60759  \n",
       "Slight                                2138                   28651    419045  "
      ]
     },
     "execution_count": 30,
     "metadata": {},
     "output_type": "execute_result"
    }
   ],
   "source": [
    "ukroadaccident.groupby(['Accident_Severity', 'Light_Conditions']).size().unstack()"
   ]
  },
  {
   "cell_type": "markdown",
   "id": "05690768-f22b-4e1f-a10e-03c4d06dd511",
   "metadata": {},
   "source": [
    "<h2> <strong>Insight: </strong> <i>We can conclude that all the three types of accident severity happens the most during the daylight, while the three of them also happens the least during darkness - lights unlit. </i> </h2>"
   ]
  },
  {
   "cell_type": "markdown",
   "id": "7e076ae6-417a-431c-8e8d-2899e6cf7f68",
   "metadata": {},
   "source": [
    "<h1>11. What is the distribution of accidents by road type and road surface condition?</h1>"
   ]
  },
  {
   "cell_type": "code",
   "execution_count": 31,
   "id": "050163a0-8bfd-4685-8129-b5ad58d77c72",
   "metadata": {},
   "outputs": [
    {
     "data": {
      "text/html": [
       "<div>\n",
       "<style scoped>\n",
       "    .dataframe tbody tr th:only-of-type {\n",
       "        vertical-align: middle;\n",
       "    }\n",
       "\n",
       "    .dataframe tbody tr th {\n",
       "        vertical-align: top;\n",
       "    }\n",
       "\n",
       "    .dataframe thead th {\n",
       "        text-align: right;\n",
       "    }\n",
       "</style>\n",
       "<table border=\"1\" class=\"dataframe\">\n",
       "  <thead>\n",
       "    <tr style=\"text-align: right;\">\n",
       "      <th>Road_Surface_Conditions</th>\n",
       "      <th>Dry</th>\n",
       "      <th>Flood over 3cm. deep</th>\n",
       "      <th>Frost or ice</th>\n",
       "      <th>Snow</th>\n",
       "      <th>Wet or damp</th>\n",
       "      <th>unaccounted</th>\n",
       "    </tr>\n",
       "    <tr>\n",
       "      <th>Road_Type</th>\n",
       "      <th></th>\n",
       "      <th></th>\n",
       "      <th></th>\n",
       "      <th></th>\n",
       "      <th></th>\n",
       "      <th></th>\n",
       "    </tr>\n",
       "  </thead>\n",
       "  <tbody>\n",
       "    <tr>\n",
       "      <th>Dual carriageway</th>\n",
       "      <td>66205</td>\n",
       "      <td>302</td>\n",
       "      <td>2408</td>\n",
       "      <td>909</td>\n",
       "      <td>29533</td>\n",
       "      <td>67</td>\n",
       "    </tr>\n",
       "    <tr>\n",
       "      <th>One way street</th>\n",
       "      <td>10068</td>\n",
       "      <td>5</td>\n",
       "      <td>183</td>\n",
       "      <td>76</td>\n",
       "      <td>3195</td>\n",
       "      <td>32</td>\n",
       "    </tr>\n",
       "    <tr>\n",
       "      <th>Roundabout</th>\n",
       "      <td>30698</td>\n",
       "      <td>22</td>\n",
       "      <td>745</td>\n",
       "      <td>232</td>\n",
       "      <td>12209</td>\n",
       "      <td>86</td>\n",
       "    </tr>\n",
       "    <tr>\n",
       "      <th>Single carriageway</th>\n",
       "      <td>332698</td>\n",
       "      <td>672</td>\n",
       "      <td>14918</td>\n",
       "      <td>4585</td>\n",
       "      <td>138743</td>\n",
       "      <td>527</td>\n",
       "    </tr>\n",
       "    <tr>\n",
       "      <th>Slip road</th>\n",
       "      <td>4714</td>\n",
       "      <td>9</td>\n",
       "      <td>178</td>\n",
       "      <td>60</td>\n",
       "      <td>2074</td>\n",
       "      <td>6</td>\n",
       "    </tr>\n",
       "    <tr>\n",
       "      <th>unaccounted</th>\n",
       "      <td>3438</td>\n",
       "      <td>7</td>\n",
       "      <td>85</td>\n",
       "      <td>28</td>\n",
       "      <td>954</td>\n",
       "      <td>8</td>\n",
       "    </tr>\n",
       "  </tbody>\n",
       "</table>\n",
       "</div>"
      ],
      "text/plain": [
       "Road_Surface_Conditions     Dry  Flood over 3cm. deep  Frost or ice  Snow  \\\n",
       "Road_Type                                                                   \n",
       "Dual carriageway          66205                   302          2408   909   \n",
       "One way street            10068                     5           183    76   \n",
       "Roundabout                30698                    22           745   232   \n",
       "Single carriageway       332698                   672         14918  4585   \n",
       "Slip road                  4714                     9           178    60   \n",
       "unaccounted                3438                     7            85    28   \n",
       "\n",
       "Road_Surface_Conditions  Wet or damp  unaccounted  \n",
       "Road_Type                                          \n",
       "Dual carriageway               29533           67  \n",
       "One way street                  3195           32  \n",
       "Roundabout                     12209           86  \n",
       "Single carriageway            138743          527  \n",
       "Slip road                       2074            6  \n",
       "unaccounted                      954            8  "
      ]
     },
     "execution_count": 31,
     "metadata": {},
     "output_type": "execute_result"
    }
   ],
   "source": [
    "ukroadaccident.groupby(['Road_Type', 'Road_Surface_Conditions']).size().unstack()"
   ]
  },
  {
   "cell_type": "markdown",
   "id": "6b12bc5c-7de2-4edc-bc50-1f24b428817f",
   "metadata": {},
   "source": [
    "<h2> <strong>Insight: </strong> <i>The result shows that all of the road types had the same highest number of accidents in terms of road surface conditions which is dry, they also had the same least number of accidents which is flood over 3cm. deep (road surface condition). </i> </h2>"
   ]
  },
  {
   "cell_type": "markdown",
   "id": "1097e090-721d-4571-9c86-72b309084e16",
   "metadata": {},
   "source": [
    "<h1>12. What type of area does accidents happen the most?</h1>"
   ]
  },
  {
   "cell_type": "code",
   "execution_count": 32,
   "id": "ca8b80a9-fdb1-4451-a39f-e2fbeb82a23f",
   "metadata": {},
   "outputs": [
    {
     "data": {
      "text/plain": [
       "Urban_or_Rural_Area\n",
       "Rural          238990\n",
       "Unallocated        11\n",
       "Urban          421678\n",
       "dtype: int64"
      ]
     },
     "execution_count": 32,
     "metadata": {},
     "output_type": "execute_result"
    }
   ],
   "source": [
    "ukroadaccident.groupby('Urban_or_Rural_Area').size()"
   ]
  },
  {
   "cell_type": "markdown",
   "id": "c93b54d5-0d57-49b8-819b-59c5af30c63b",
   "metadata": {},
   "source": [
    "<h2> <strong>Insight 1: </strong> <i>According to the result, accidents usually happen at Urban areas with <strong>63.82%</strong>. On the other hand, Rural areas account for <strong>36%</strong>, still a significant portion.</i> </h2>\n",
    "<h2> <strong>Insight 2: </strong> <i>The Rural accidents record somehow half of the records in Urban areas, both are significant because if we only look at one a time, both are large numbers.</i> </h2>"
   ]
  },
  {
   "cell_type": "markdown",
   "id": "d45fe357-72f9-4493-8378-bbe3acd02647",
   "metadata": {},
   "source": [
    "<h1>13. What month does accidents usually happens?</h1>"
   ]
  },
  {
   "cell_type": "code",
   "execution_count": 33,
   "id": "083926c8-6c6d-428b-b2fb-5a28e9a24700",
   "metadata": {},
   "outputs": [
    {
     "data": {
      "text/plain": [
       "Month\n",
       "April        51744\n",
       "August       53913\n",
       "December     51836\n",
       "February     49491\n",
       "January      52872\n",
       "July         57445\n",
       "June         56481\n",
       "March        54086\n",
       "May          56352\n",
       "November     60424\n",
       "October      59580\n",
       "September    56455\n",
       "dtype: int64"
      ]
     },
     "execution_count": 33,
     "metadata": {},
     "output_type": "execute_result"
    }
   ],
   "source": [
    "ukroadaccident.groupby('Month').size()"
   ]
  },
  {
   "cell_type": "markdown",
   "id": "03add06d-d91d-47d0-93fd-6ea9374cb9da",
   "metadata": {},
   "source": [
    "<h2> <strong>Insight 1: </strong> <i>The result shows that accidents usually happen during the month of November with <strong>9.15%</strong> and February (7.49%) has the lowest.</i> </h2>\n",
    "<h2> <strong>Insight 2: </strong> <i>Most months are fairly close, around 7.5–8.7%, showing fairly consistent incident distribution across the year.</i> </h2>\n",
    "<h2> <strong>Insight 3: </strong> <i>Summer months (June–August) account for roughly ~25% combined, indicating higher traffic or activity during that period.</i> </h2>\n",
    "<h2> <strong>Insight 4: </strong> <i>The slight peaks in October(9.02%)–November(9.15%) could indicate weather changes, holidays, or increased traffic contributing to incidents.</i> </h2>"
   ]
  },
  {
   "cell_type": "markdown",
   "id": "9e2692af-419c-409c-a9bf-4321c4c5ffb7",
   "metadata": {},
   "source": [
    "<h1>14. What is the distribution of accidents by accident severity and vehicle type?</h1>"
   ]
  },
  {
   "cell_type": "code",
   "execution_count": 34,
   "id": "5ea4011b-4426-436e-9d8d-4225add02028",
   "metadata": {},
   "outputs": [
    {
     "data": {
      "text/html": [
       "<div>\n",
       "<style scoped>\n",
       "    .dataframe tbody tr th:only-of-type {\n",
       "        vertical-align: middle;\n",
       "    }\n",
       "\n",
       "    .dataframe tbody tr th {\n",
       "        vertical-align: top;\n",
       "    }\n",
       "\n",
       "    .dataframe thead th {\n",
       "        text-align: right;\n",
       "    }\n",
       "</style>\n",
       "<table border=\"1\" class=\"dataframe\">\n",
       "  <thead>\n",
       "    <tr style=\"text-align: right;\">\n",
       "      <th>Vehicle_Type</th>\n",
       "      <th>Agricultural vehicle</th>\n",
       "      <th>Bus or coach (17 or more pass seats)</th>\n",
       "      <th>Car</th>\n",
       "      <th>Data missing or out of range</th>\n",
       "      <th>Goods 7.5 tonnes mgw and over</th>\n",
       "      <th>Goods over 3.5t. and under 7.5t</th>\n",
       "      <th>Minibus (8 - 16 passenger seats)</th>\n",
       "      <th>Motorcycle 125cc and under</th>\n",
       "      <th>Motorcycle 50cc and under</th>\n",
       "      <th>Motorcycle over 125cc and up to 500cc</th>\n",
       "      <th>Motorcycle over 500cc</th>\n",
       "      <th>Other vehicle</th>\n",
       "      <th>Pedal cycle</th>\n",
       "      <th>Ridden horse</th>\n",
       "      <th>Taxi/Private hire car</th>\n",
       "      <th>Van / Goods 3.5 tonnes mgw or under</th>\n",
       "    </tr>\n",
       "    <tr>\n",
       "      <th>Accident_Severity</th>\n",
       "      <th></th>\n",
       "      <th></th>\n",
       "      <th></th>\n",
       "      <th></th>\n",
       "      <th></th>\n",
       "      <th></th>\n",
       "      <th></th>\n",
       "      <th></th>\n",
       "      <th></th>\n",
       "      <th></th>\n",
       "      <th></th>\n",
       "      <th></th>\n",
       "      <th></th>\n",
       "      <th></th>\n",
       "      <th></th>\n",
       "      <th></th>\n",
       "    </tr>\n",
       "  </thead>\n",
       "  <tbody>\n",
       "    <tr>\n",
       "      <th>Fatal</th>\n",
       "      <td>21</td>\n",
       "      <td>325</td>\n",
       "      <td>6577</td>\n",
       "      <td>0</td>\n",
       "      <td>216</td>\n",
       "      <td>67</td>\n",
       "      <td>29</td>\n",
       "      <td>189</td>\n",
       "      <td>95</td>\n",
       "      <td>105</td>\n",
       "      <td>339</td>\n",
       "      <td>70</td>\n",
       "      <td>6</td>\n",
       "      <td>0</td>\n",
       "      <td>155</td>\n",
       "      <td>467</td>\n",
       "    </tr>\n",
       "    <tr>\n",
       "      <th>Serious</th>\n",
       "      <td>282</td>\n",
       "      <td>3373</td>\n",
       "      <td>66461</td>\n",
       "      <td>0</td>\n",
       "      <td>2321</td>\n",
       "      <td>857</td>\n",
       "      <td>276</td>\n",
       "      <td>2031</td>\n",
       "      <td>1014</td>\n",
       "      <td>1014</td>\n",
       "      <td>3457</td>\n",
       "      <td>767</td>\n",
       "      <td>39</td>\n",
       "      <td>0</td>\n",
       "      <td>1771</td>\n",
       "      <td>4554</td>\n",
       "    </tr>\n",
       "    <tr>\n",
       "      <th>Slight</th>\n",
       "      <td>1644</td>\n",
       "      <td>22180</td>\n",
       "      <td>424954</td>\n",
       "      <td>6</td>\n",
       "      <td>14770</td>\n",
       "      <td>5172</td>\n",
       "      <td>1671</td>\n",
       "      <td>13049</td>\n",
       "      <td>6494</td>\n",
       "      <td>6537</td>\n",
       "      <td>21861</td>\n",
       "      <td>4800</td>\n",
       "      <td>152</td>\n",
       "      <td>4</td>\n",
       "      <td>11368</td>\n",
       "      <td>29139</td>\n",
       "    </tr>\n",
       "  </tbody>\n",
       "</table>\n",
       "</div>"
      ],
      "text/plain": [
       "Vehicle_Type       Agricultural vehicle  Bus or coach (17 or more pass seats)  \\\n",
       "Accident_Severity                                                               \n",
       "Fatal                                21                                   325   \n",
       "Serious                             282                                  3373   \n",
       "Slight                             1644                                 22180   \n",
       "\n",
       "Vehicle_Type          Car  Data missing or out of range  \\\n",
       "Accident_Severity                                         \n",
       "Fatal                6577                             0   \n",
       "Serious             66461                             0   \n",
       "Slight             424954                             6   \n",
       "\n",
       "Vehicle_Type       Goods 7.5 tonnes mgw and over  \\\n",
       "Accident_Severity                                  \n",
       "Fatal                                        216   \n",
       "Serious                                     2321   \n",
       "Slight                                     14770   \n",
       "\n",
       "Vehicle_Type       Goods over 3.5t. and under 7.5t  \\\n",
       "Accident_Severity                                    \n",
       "Fatal                                           67   \n",
       "Serious                                        857   \n",
       "Slight                                        5172   \n",
       "\n",
       "Vehicle_Type       Minibus (8 - 16 passenger seats)  \\\n",
       "Accident_Severity                                     \n",
       "Fatal                                            29   \n",
       "Serious                                         276   \n",
       "Slight                                         1671   \n",
       "\n",
       "Vehicle_Type       Motorcycle 125cc and under  Motorcycle 50cc and under  \\\n",
       "Accident_Severity                                                          \n",
       "Fatal                                     189                         95   \n",
       "Serious                                  2031                       1014   \n",
       "Slight                                  13049                       6494   \n",
       "\n",
       "Vehicle_Type       Motorcycle over 125cc and up to 500cc  \\\n",
       "Accident_Severity                                          \n",
       "Fatal                                                105   \n",
       "Serious                                             1014   \n",
       "Slight                                              6537   \n",
       "\n",
       "Vehicle_Type       Motorcycle over 500cc  Other vehicle  Pedal cycle  \\\n",
       "Accident_Severity                                                      \n",
       "Fatal                                339             70            6   \n",
       "Serious                             3457            767           39   \n",
       "Slight                             21861           4800          152   \n",
       "\n",
       "Vehicle_Type       Ridden horse  Taxi/Private hire car  \\\n",
       "Accident_Severity                                        \n",
       "Fatal                         0                    155   \n",
       "Serious                       0                   1771   \n",
       "Slight                        4                  11368   \n",
       "\n",
       "Vehicle_Type       Van / Goods 3.5 tonnes mgw or under  \n",
       "Accident_Severity                                       \n",
       "Fatal                                              467  \n",
       "Serious                                           4554  \n",
       "Slight                                           29139  "
      ]
     },
     "execution_count": 34,
     "metadata": {},
     "output_type": "execute_result"
    }
   ],
   "source": [
    "ukroadaccident.groupby(['Accident_Severity','Vehicle_Type']).size().unstack()"
   ]
  },
  {
   "cell_type": "markdown",
   "id": "8ccb4144-3614-48f9-8736-3c605f7e94ca",
   "metadata": {},
   "source": [
    "<h2> <strong>Insight: </strong> <i>According to the result, car is the vehicle type that got the highest accident of all the three types of accident severity, while ridden horse has the least.</i> </h2>"
   ]
  },
  {
   "cell_type": "markdown",
   "id": "f800ccea-1f21-4c08-97dd-654faa6f52a6",
   "metadata": {},
   "source": [
    "<h1>~Correlation~</h1>"
   ]
  },
  {
   "cell_type": "markdown",
   "id": "670bba35-6856-43c4-8884-7d46758d1fa3",
   "metadata": {},
   "source": [
    "<h1>15. Is there a correlation between the number of casualties and number of vehicles?</h1>"
   ]
  },
  {
   "cell_type": "code",
   "execution_count": 35,
   "id": "e6ea8744-1ba5-413c-88f9-e2e3d72c80dc",
   "metadata": {},
   "outputs": [
    {
     "data": {
      "text/plain": [
       "np.float64(0.2288888612692756)"
      ]
     },
     "execution_count": 35,
     "metadata": {},
     "output_type": "execute_result"
    }
   ],
   "source": [
    "ukroadaccident['Number_of_Casualties'].corr(ukroadaccident['Number_of_Vehicles'])"
   ]
  },
  {
   "cell_type": "markdown",
   "id": "b410be02-3cd3-4f81-a71d-9554c10708e1",
   "metadata": {},
   "source": [
    "<h2> <strong>Insight: </strong> <i>The result shows that number of casualties and number of vehicles has no correlation.</i> </h2>"
   ]
  },
  {
   "cell_type": "markdown",
   "id": "3c78e0ba-a1a8-4d01-85b0-80aebf1cbcd2",
   "metadata": {},
   "source": [
    "<h1>16. Is there a correlation betweem latitude number of casualties?</h1>"
   ]
  },
  {
   "cell_type": "code",
   "execution_count": 36,
   "id": "ea2afa9a-1d82-42ca-97c8-364997144be2",
   "metadata": {},
   "outputs": [
    {
     "data": {
      "text/plain": [
       "np.float64(0.032200686625906395)"
      ]
     },
     "execution_count": 36,
     "metadata": {},
     "output_type": "execute_result"
    }
   ],
   "source": [
    "ukroadaccident['Latitude'].corr(ukroadaccident['Number_of_Casualties'])"
   ]
  },
  {
   "cell_type": "markdown",
   "id": "66e90315-0c43-4f13-816f-9ab7fd2341fb",
   "metadata": {},
   "source": [
    "<h2> <strong>Insight: </strong> <i>Based on the result, there is no correlation between laltitude and number of casualties.</i> </h2>"
   ]
  },
  {
   "cell_type": "markdown",
   "id": "5acdc8e6-1d11-4cea-8fc4-953cf9b0fb32",
   "metadata": {},
   "source": [
    "<h1>17. Is there a correlation between longitude and number of casualties?</h1>"
   ]
  },
  {
   "cell_type": "code",
   "execution_count": 37,
   "id": "c942c2df-f2d4-486d-8356-8b693d7c4eb4",
   "metadata": {},
   "outputs": [
    {
     "data": {
      "text/plain": [
       "np.float64(-0.0404056457884545)"
      ]
     },
     "execution_count": 37,
     "metadata": {},
     "output_type": "execute_result"
    }
   ],
   "source": [
    "ukroadaccident['Longitude'].corr(ukroadaccident['Number_of_Casualties'])"
   ]
  },
  {
   "cell_type": "markdown",
   "id": "b550e5d6-5283-4a98-9826-5290aec438fa",
   "metadata": {},
   "source": [
    "<h2> <strong>Insight: </strong> <i>The result shows that there is no correlation between longitude and number of casualties.</i> </h2>"
   ]
  },
  {
   "cell_type": "markdown",
   "id": "0df9161d-20c3-4241-8320-0b3c7ce99699",
   "metadata": {},
   "source": [
    "<h1>18. Is there a significant difference between accident severity and number of vehicles?</h1>"
   ]
  },
  {
   "cell_type": "code",
   "execution_count": 38,
   "id": "094c613a-e624-4154-b7c4-e5efca15853f",
   "metadata": {},
   "outputs": [
    {
     "data": {
      "text/plain": [
       "['Serious', 'Slight', 'Fatal']\n",
       "Categories (3, object): ['Fatal', 'Serious', 'Slight']"
      ]
     },
     "execution_count": 38,
     "metadata": {},
     "output_type": "execute_result"
    }
   ],
   "source": [
    "ukroadaccident['Accident_Severity'].unique()"
   ]
  },
  {
   "cell_type": "code",
   "execution_count": 39,
   "id": "63f6e2b3-9bde-4523-815f-c7b629797fe2",
   "metadata": {},
   "outputs": [],
   "source": [
    "vehiserious = ukroadaccident[ukroadaccident['Accident_Severity'] == 'Serious']['Number_of_Vehicles']\n",
    "vehislight = ukroadaccident[ukroadaccident['Accident_Severity'] == 'Slight']['Number_of_Vehicles']\n",
    "vehifatal = ukroadaccident[ukroadaccident['Accident_Severity'] == 'Fatal']['Number_of_Vehicles']"
   ]
  },
  {
   "cell_type": "code",
   "execution_count": 40,
   "id": "e11a2589-bea4-44d2-afbf-21eabe04ee74",
   "metadata": {},
   "outputs": [
    {
     "data": {
      "text/plain": [
       "np.float64(0.0)"
      ]
     },
     "execution_count": 40,
     "metadata": {},
     "output_type": "execute_result"
    }
   ],
   "source": [
    "result, pvalue = f_oneway(vehiserious, vehislight, vehifatal)\n",
    "pvalue"
   ]
  },
  {
   "cell_type": "markdown",
   "id": "ba4bbc86-4cbf-43fd-9783-13529d566b3a",
   "metadata": {},
   "source": [
    "<h2> <strong>Insight: </strong> <i>The result shows that there is extremely significance between the accident severity and number of vehicles, it shows that they are very related to each other.</i> </h2>"
   ]
  },
  {
   "cell_type": "markdown",
   "id": "9118be1a-b507-431b-87d0-3d4520a5e2d6",
   "metadata": {},
   "source": [
    "<h1>19. Is there a significant difference between the area and number of casualties?</h1>"
   ]
  },
  {
   "cell_type": "code",
   "execution_count": 41,
   "id": "cbbbc916-a5e6-401f-a610-db3e3b61bc79",
   "metadata": {},
   "outputs": [
    {
     "data": {
      "text/plain": [
       "['Urban', 'Rural', 'Unallocated']\n",
       "Categories (3, object): ['Rural', 'Unallocated', 'Urban']"
      ]
     },
     "execution_count": 41,
     "metadata": {},
     "output_type": "execute_result"
    }
   ],
   "source": [
    "ukroadaccident['Urban_or_Rural_Area'].unique()"
   ]
  },
  {
   "cell_type": "code",
   "execution_count": 42,
   "id": "ffbd893e-bc17-4dba-a940-40afd5fe533d",
   "metadata": {},
   "outputs": [],
   "source": [
    "urbancasualty = ukroadaccident[ukroadaccident['Urban_or_Rural_Area'] == 'Urban']['Number_of_Casualties']\n",
    "ruralcasualty = ukroadaccident[ukroadaccident['Urban_or_Rural_Area'] == 'Rural']['Number_of_Casualties']\n",
    "unallocatedcasualty = ukroadaccident[ukroadaccident['Urban_or_Rural_Area'] == 'Unallocated']['Number_of_Casualties']"
   ]
  },
  {
   "cell_type": "code",
   "execution_count": 43,
   "id": "3f4b6217-23a7-4d8b-afa4-bf7d756a303a",
   "metadata": {},
   "outputs": [
    {
     "data": {
      "text/plain": [
       "np.float64(0.0)"
      ]
     },
     "execution_count": 43,
     "metadata": {},
     "output_type": "execute_result"
    }
   ],
   "source": [
    "result, pvalue = f_oneway(urbancasualty, ruralcasualty, unallocatedcasualty)\n",
    "pvalue"
   ]
  },
  {
   "cell_type": "markdown",
   "id": "d4b61afb-98b1-46fd-a090-8f89518fafb8",
   "metadata": {},
   "source": [
    "<h2> <strong>Insight: </strong> <i>According to the result, there is a significant difference between the areas and the number of casualties.</i> </h2>"
   ]
  },
  {
   "cell_type": "markdown",
   "id": "e6cd9596-0fb8-4280-8c5c-0303b9cf5793",
   "metadata": {},
   "source": [
    "<h1>20. Is there a significant difference between light conditions and latitude?</h1>"
   ]
  },
  {
   "cell_type": "code",
   "execution_count": 44,
   "id": "7074f0dd-c991-4eb6-914d-66fcc953bebd",
   "metadata": {},
   "outputs": [
    {
     "data": {
      "text/plain": [
       "['Darkness - lights lit', 'Daylight', 'Darkness - lighting unknown', 'Darkness - lights unlit', 'Darkness - no lighting']\n",
       "Categories (5, object): ['Darkness - lighting unknown', 'Darkness - lights lit', 'Darkness - lights unlit', 'Darkness - no lighting', 'Daylight']"
      ]
     },
     "execution_count": 44,
     "metadata": {},
     "output_type": "execute_result"
    }
   ],
   "source": [
    "ukroadaccident['Light_Conditions'].unique()"
   ]
  },
  {
   "cell_type": "code",
   "execution_count": 45,
   "id": "c696e168-0c2f-474f-b664-4b8adedad374",
   "metadata": {},
   "outputs": [],
   "source": [
    "lighta = ukroadaccident[ukroadaccident['Light_Conditions'] == 'Darkness - lights lit']['Latitude']\n",
    "lightb = ukroadaccident[ukroadaccident['Light_Conditions'] == 'Daylight']['Latitude']\n",
    "lightc = ukroadaccident[ukroadaccident['Light_Conditions'] == 'Darkness - lighting unknown']['Latitude']\n",
    "lightd = ukroadaccident[ukroadaccident['Light_Conditions'] == 'Darkness - lights unlit']['Latitude']\n",
    "lighte = ukroadaccident[ukroadaccident['Light_Conditions'] == 'Darkness - no lighting']['Latitude']"
   ]
  },
  {
   "cell_type": "code",
   "execution_count": 46,
   "id": "9a6978a2-8c49-4444-b136-ed4fc9800c03",
   "metadata": {},
   "outputs": [
    {
     "data": {
      "text/plain": [
       "np.float64(1.224998791423201e-27)"
      ]
     },
     "execution_count": 46,
     "metadata": {},
     "output_type": "execute_result"
    }
   ],
   "source": [
    "result, pvalue = f_oneway(lighta, lightb, lightc, lightd, lighte)\n",
    "pvalue"
   ]
  },
  {
   "cell_type": "markdown",
   "id": "7ce77989-c53d-47e4-be67-3e7231f6b51d",
   "metadata": {},
   "source": [
    "<h2> <strong>Insight: </strong> <i>The result shows that the difference between light conditions and latitude is very significant, mean the light conditions has an extreme effect on the latitude.</i> </h2>"
   ]
  },
  {
   "cell_type": "markdown",
   "id": "45261672-a44e-489c-bc91-519c32f02da9",
   "metadata": {},
   "source": [
    "<hr>\n",
    "<h1>---Additional Five Questions about Accident Date---</h1>"
   ]
  },
  {
   "cell_type": "markdown",
   "id": "b7b3f5b8-04d5-4edb-9065-09777b281589",
   "metadata": {},
   "source": [
    "<h2>-UniVariate-</h2>"
   ]
  },
  {
   "cell_type": "markdown",
   "id": "134f696d-7780-41ce-9445-d388da14ca80",
   "metadata": {},
   "source": [
    "<h1>21. Which day of the week had the most accidents record?</h1>"
   ]
  },
  {
   "cell_type": "code",
   "execution_count": 47,
   "id": "93d1a15c-f7de-488f-b176-a4f4f1e165d7",
   "metadata": {},
   "outputs": [
    {
     "data": {
      "text/plain": [
       "DayofWeek\n",
       "5    107178\n",
       "2     99558\n",
       "3     99511\n",
       "4     97900\n",
       "1     94550\n",
       "6     89302\n",
       "0     72680\n",
       "Name: count, dtype: int64"
      ]
     },
     "execution_count": 47,
     "metadata": {},
     "output_type": "execute_result"
    }
   ],
   "source": [
    "ukroadaccident['DayofWeek'].value_counts()"
   ]
  },
  {
   "cell_type": "markdown",
   "id": "d5ab67ac-100f-4fa4-bdd5-b2f54571851f",
   "metadata": {},
   "source": [
    "<h2> <strong>Insight: </strong> <i>Based on the result, accidents mostly occurs on Saturday, and accidents happen the least during Mondays.</i> </h2>"
   ]
  },
  {
   "cell_type": "markdown",
   "id": "188e45eb-a250-4f18-948c-1f31ee121cfc",
   "metadata": {},
   "source": [
    "<h2>-BiVariate-</h2>"
   ]
  },
  {
   "cell_type": "markdown",
   "id": "7b3fe77b-ffba-40a1-848c-71399ed8b246",
   "metadata": {},
   "source": [
    "<h1>22. What is the number of accidents per month in each year?</h1>"
   ]
  },
  {
   "cell_type": "code",
   "execution_count": 48,
   "id": "c1654154-927c-499d-baa3-8ec448d42442",
   "metadata": {},
   "outputs": [
    {
     "data": {
      "text/html": [
       "<div>\n",
       "<style scoped>\n",
       "    .dataframe tbody tr th:only-of-type {\n",
       "        vertical-align: middle;\n",
       "    }\n",
       "\n",
       "    .dataframe tbody tr th {\n",
       "        vertical-align: top;\n",
       "    }\n",
       "\n",
       "    .dataframe thead th {\n",
       "        text-align: right;\n",
       "    }\n",
       "</style>\n",
       "<table border=\"1\" class=\"dataframe\">\n",
       "  <thead>\n",
       "    <tr style=\"text-align: right;\">\n",
       "      <th>Year</th>\n",
       "      <th>2019</th>\n",
       "      <th>2020</th>\n",
       "      <th>2021</th>\n",
       "      <th>2022</th>\n",
       "    </tr>\n",
       "    <tr>\n",
       "      <th>Month</th>\n",
       "      <th></th>\n",
       "      <th></th>\n",
       "      <th></th>\n",
       "      <th></th>\n",
       "    </tr>\n",
       "  </thead>\n",
       "  <tbody>\n",
       "    <tr>\n",
       "      <th>April</th>\n",
       "      <td>14125</td>\n",
       "      <td>13394</td>\n",
       "      <td>12715</td>\n",
       "      <td>11510</td>\n",
       "    </tr>\n",
       "    <tr>\n",
       "      <th>August</th>\n",
       "      <td>15044</td>\n",
       "      <td>13366</td>\n",
       "      <td>13415</td>\n",
       "      <td>12088</td>\n",
       "    </tr>\n",
       "    <tr>\n",
       "      <th>December</th>\n",
       "      <td>14708</td>\n",
       "      <td>13794</td>\n",
       "      <td>13709</td>\n",
       "      <td>9625</td>\n",
       "    </tr>\n",
       "    <tr>\n",
       "      <th>February</th>\n",
       "      <td>13253</td>\n",
       "      <td>14353</td>\n",
       "      <td>10950</td>\n",
       "      <td>10935</td>\n",
       "    </tr>\n",
       "    <tr>\n",
       "      <th>January</th>\n",
       "      <td>15355</td>\n",
       "      <td>14133</td>\n",
       "      <td>13417</td>\n",
       "      <td>9967</td>\n",
       "    </tr>\n",
       "    <tr>\n",
       "      <th>July</th>\n",
       "      <td>15862</td>\n",
       "      <td>14630</td>\n",
       "      <td>14300</td>\n",
       "      <td>12653</td>\n",
       "    </tr>\n",
       "    <tr>\n",
       "      <th>June</th>\n",
       "      <td>15528</td>\n",
       "      <td>14205</td>\n",
       "      <td>13936</td>\n",
       "      <td>12812</td>\n",
       "    </tr>\n",
       "    <tr>\n",
       "      <th>March</th>\n",
       "      <td>15049</td>\n",
       "      <td>13494</td>\n",
       "      <td>13202</td>\n",
       "      <td>12341</td>\n",
       "    </tr>\n",
       "    <tr>\n",
       "      <th>May</th>\n",
       "      <td>15833</td>\n",
       "      <td>14336</td>\n",
       "      <td>13811</td>\n",
       "      <td>12372</td>\n",
       "    </tr>\n",
       "    <tr>\n",
       "      <th>November</th>\n",
       "      <td>16559</td>\n",
       "      <td>14770</td>\n",
       "      <td>15473</td>\n",
       "      <td>13622</td>\n",
       "    </tr>\n",
       "    <tr>\n",
       "      <th>October</th>\n",
       "      <td>15528</td>\n",
       "      <td>15684</td>\n",
       "      <td>14834</td>\n",
       "      <td>13534</td>\n",
       "    </tr>\n",
       "    <tr>\n",
       "      <th>September</th>\n",
       "      <td>15271</td>\n",
       "      <td>14432</td>\n",
       "      <td>13792</td>\n",
       "      <td>12960</td>\n",
       "    </tr>\n",
       "  </tbody>\n",
       "</table>\n",
       "</div>"
      ],
      "text/plain": [
       "Year        2019   2020   2021   2022\n",
       "Month                                \n",
       "April      14125  13394  12715  11510\n",
       "August     15044  13366  13415  12088\n",
       "December   14708  13794  13709   9625\n",
       "February   13253  14353  10950  10935\n",
       "January    15355  14133  13417   9967\n",
       "July       15862  14630  14300  12653\n",
       "June       15528  14205  13936  12812\n",
       "March      15049  13494  13202  12341\n",
       "May        15833  14336  13811  12372\n",
       "November   16559  14770  15473  13622\n",
       "October    15528  15684  14834  13534\n",
       "September  15271  14432  13792  12960"
      ]
     },
     "execution_count": 48,
     "metadata": {},
     "output_type": "execute_result"
    }
   ],
   "source": [
    "accidentpermonth = ukroadaccident.groupby(['Month', 'Year']).size()\n",
    "accidentpermonth.unstack()"
   ]
  },
  {
   "cell_type": "markdown",
   "id": "43808f31-5eb9-45a2-aa3b-7563b99287f3",
   "metadata": {},
   "source": [
    "<h2> <strong>Insight 1: </strong> <i>Based on their percentage equivalence, <strong>November is consistenly the peak month of accidents</strong> across all four years with two consequtive above 9% rate (2021, and 2022). Hoevwer, October also has high percentage with three ratings of 9% and above but November slightly beats it in most years.</i></h2>\n",
    "<h2> <strong>Insight 2: </strong> <i><strong>February has the lowest percentage</strong> of accidents especially 2021 at just <strong>6.7%.</strong> It suggests that road accidents tend to be more common in October, while February is generally a safer month.</i></h2>\n",
    "<h2> <strong>Insight 3: </strong> <i>Most of the months had high road accident rate on the year 2019, and we could see from the numbers that on the years 2020-2022, the number had decreased and we can conclude that this is  perhaps because of the pandemic.</i> </h2>"
   ]
  },
  {
   "cell_type": "markdown",
   "id": "aa607c20-b560-4799-850f-62039f35ecee",
   "metadata": {},
   "source": [
    "<h1>23. What is the state of accident severity across years?</h1>"
   ]
  },
  {
   "cell_type": "code",
   "execution_count": 49,
   "id": "91631def-d82b-47e0-87c6-a96badebb6c7",
   "metadata": {},
   "outputs": [
    {
     "data": {
      "text/html": [
       "<div>\n",
       "<style scoped>\n",
       "    .dataframe tbody tr th:only-of-type {\n",
       "        vertical-align: middle;\n",
       "    }\n",
       "\n",
       "    .dataframe tbody tr th {\n",
       "        vertical-align: top;\n",
       "    }\n",
       "\n",
       "    .dataframe thead th {\n",
       "        text-align: right;\n",
       "    }\n",
       "</style>\n",
       "<table border=\"1\" class=\"dataframe\">\n",
       "  <thead>\n",
       "    <tr style=\"text-align: right;\">\n",
       "      <th>Year</th>\n",
       "      <th>2019</th>\n",
       "      <th>2020</th>\n",
       "      <th>2021</th>\n",
       "      <th>2022</th>\n",
       "    </tr>\n",
       "    <tr>\n",
       "      <th>Accident_Severity</th>\n",
       "      <th></th>\n",
       "      <th></th>\n",
       "      <th></th>\n",
       "      <th></th>\n",
       "    </tr>\n",
       "  </thead>\n",
       "  <tbody>\n",
       "    <tr>\n",
       "      <th>Fatal</th>\n",
       "      <td>2714</td>\n",
       "      <td>2341</td>\n",
       "      <td>2057</td>\n",
       "      <td>1549</td>\n",
       "    </tr>\n",
       "    <tr>\n",
       "      <th>Serious</th>\n",
       "      <td>24322</td>\n",
       "      <td>23121</td>\n",
       "      <td>21997</td>\n",
       "      <td>18777</td>\n",
       "    </tr>\n",
       "    <tr>\n",
       "      <th>Slight</th>\n",
       "      <td>155079</td>\n",
       "      <td>145129</td>\n",
       "      <td>139500</td>\n",
       "      <td>124093</td>\n",
       "    </tr>\n",
       "  </tbody>\n",
       "</table>\n",
       "</div>"
      ],
      "text/plain": [
       "Year                 2019    2020    2021    2022\n",
       "Accident_Severity                                \n",
       "Fatal                2714    2341    2057    1549\n",
       "Serious             24322   23121   21997   18777\n",
       "Slight             155079  145129  139500  124093"
      ]
     },
     "execution_count": 49,
     "metadata": {},
     "output_type": "execute_result"
    }
   ],
   "source": [
    "ukroadaccident.groupby(['Accident_Severity', 'Year']).size().unstack()"
   ]
  },
  {
   "cell_type": "markdown",
   "id": "8000c40c-c496-4c24-935f-4ed71cf00a48",
   "metadata": {},
   "source": [
    "<h2> <strong>Insight 1: </strong> <i>From the number itself, it shows that deadly crashes are rare compared to other types of accident severity. <strong>Fatal accidents are only around 1% of all cases.</strong> They even decreased slightly over the years, from 1.49% in 2019 down to 1.07% in 2022.</i></h2>\n",
    "<h2> <strong>Insight 2: </strong> <i>On the other hand, <strong>slight accidents had the highest consistent record at around 85% every year</strong>.</i> </h2>\n",
    "<h2> <strong>Insight 3: </strong> <i><strong>Seious accidents</strong> are in the middle of the percentage, <strong>staying between 13–14%</strong>.</i></h2>\n",
    "<h2> <strong>Insight 4: </strong> <i>Accidents across the years were slight and less harmful, a small portion are serious, and very few cases are fatal.</i></h2>"
   ]
  },
  {
   "cell_type": "markdown",
   "id": "c473d0e0-05df-4a91-8979-413eb5b15960",
   "metadata": {},
   "source": [
    "<h2>-MultiVariate-</h2>"
   ]
  },
  {
   "cell_type": "markdown",
   "id": "9bf844aa-dd47-490f-af54-d99db536d694",
   "metadata": {},
   "source": [
    "<h1>24. What is the average casualties per month, year, and road surface conditions?</h1>"
   ]
  },
  {
   "cell_type": "code",
   "execution_count": 50,
   "id": "2dbced6e-8b47-4f20-b013-f1a3ffd22ba4",
   "metadata": {},
   "outputs": [
    {
     "data": {
      "text/html": [
       "<div>\n",
       "<style scoped>\n",
       "    .dataframe tbody tr th:only-of-type {\n",
       "        vertical-align: middle;\n",
       "    }\n",
       "\n",
       "    .dataframe tbody tr th {\n",
       "        vertical-align: top;\n",
       "    }\n",
       "\n",
       "    .dataframe thead th {\n",
       "        text-align: right;\n",
       "    }\n",
       "</style>\n",
       "<table border=\"1\" class=\"dataframe\">\n",
       "  <thead>\n",
       "    <tr style=\"text-align: right;\">\n",
       "      <th></th>\n",
       "      <th>Road_Surface_Conditions</th>\n",
       "      <th>Dry</th>\n",
       "      <th>Flood over 3cm. deep</th>\n",
       "      <th>Frost or ice</th>\n",
       "      <th>Snow</th>\n",
       "      <th>Wet or damp</th>\n",
       "      <th>unaccounted</th>\n",
       "    </tr>\n",
       "    <tr>\n",
       "      <th>Month</th>\n",
       "      <th>Year</th>\n",
       "      <th></th>\n",
       "      <th></th>\n",
       "      <th></th>\n",
       "      <th></th>\n",
       "      <th></th>\n",
       "      <th></th>\n",
       "    </tr>\n",
       "  </thead>\n",
       "  <tbody>\n",
       "    <tr>\n",
       "      <th rowspan=\"4\" valign=\"top\">April</th>\n",
       "      <th>2019</th>\n",
       "      <td>1.360358</td>\n",
       "      <td>1.000000</td>\n",
       "      <td>1.200000</td>\n",
       "      <td>NaN</td>\n",
       "      <td>1.385888</td>\n",
       "      <td>1.000000</td>\n",
       "    </tr>\n",
       "    <tr>\n",
       "      <th>2020</th>\n",
       "      <td>1.339197</td>\n",
       "      <td>1.538462</td>\n",
       "      <td>1.560606</td>\n",
       "      <td>1.442308</td>\n",
       "      <td>1.442780</td>\n",
       "      <td>1.000000</td>\n",
       "    </tr>\n",
       "    <tr>\n",
       "      <th>2021</th>\n",
       "      <td>1.353704</td>\n",
       "      <td>1.000000</td>\n",
       "      <td>1.000000</td>\n",
       "      <td>2.000000</td>\n",
       "      <td>1.420137</td>\n",
       "      <td>1.181818</td>\n",
       "    </tr>\n",
       "    <tr>\n",
       "      <th>2022</th>\n",
       "      <td>1.357578</td>\n",
       "      <td>1.000000</td>\n",
       "      <td>1.500000</td>\n",
       "      <td>1.250000</td>\n",
       "      <td>1.485714</td>\n",
       "      <td>1.181818</td>\n",
       "    </tr>\n",
       "    <tr>\n",
       "      <th rowspan=\"4\" valign=\"top\">August</th>\n",
       "      <th>2019</th>\n",
       "      <td>1.383017</td>\n",
       "      <td>1.636364</td>\n",
       "      <td>1.000000</td>\n",
       "      <td>1.000000</td>\n",
       "      <td>1.458948</td>\n",
       "      <td>1.304348</td>\n",
       "    </tr>\n",
       "    <tr>\n",
       "      <th>2020</th>\n",
       "      <td>1.375027</td>\n",
       "      <td>1.578947</td>\n",
       "      <td>1.000000</td>\n",
       "      <td>2.000000</td>\n",
       "      <td>1.450013</td>\n",
       "      <td>1.304348</td>\n",
       "    </tr>\n",
       "    <tr>\n",
       "      <th>2021</th>\n",
       "      <td>1.385929</td>\n",
       "      <td>2.090909</td>\n",
       "      <td>NaN</td>\n",
       "      <td>1.000000</td>\n",
       "      <td>1.463757</td>\n",
       "      <td>1.000000</td>\n",
       "    </tr>\n",
       "    <tr>\n",
       "      <th>2022</th>\n",
       "      <td>1.379569</td>\n",
       "      <td>1.750000</td>\n",
       "      <td>1.500000</td>\n",
       "      <td>2.000000</td>\n",
       "      <td>1.415216</td>\n",
       "      <td>1.400000</td>\n",
       "    </tr>\n",
       "    <tr>\n",
       "      <th rowspan=\"4\" valign=\"top\">December</th>\n",
       "      <th>2019</th>\n",
       "      <td>1.286649</td>\n",
       "      <td>1.531915</td>\n",
       "      <td>1.350850</td>\n",
       "      <td>1.181818</td>\n",
       "      <td>1.422541</td>\n",
       "      <td>1.000000</td>\n",
       "    </tr>\n",
       "    <tr>\n",
       "      <th>2020</th>\n",
       "      <td>1.335708</td>\n",
       "      <td>1.708333</td>\n",
       "      <td>1.345857</td>\n",
       "      <td>1.252427</td>\n",
       "      <td>1.401117</td>\n",
       "      <td>1.142857</td>\n",
       "    </tr>\n",
       "    <tr>\n",
       "      <th>2021</th>\n",
       "      <td>1.274566</td>\n",
       "      <td>1.500000</td>\n",
       "      <td>1.380342</td>\n",
       "      <td>1.374680</td>\n",
       "      <td>1.388427</td>\n",
       "      <td>1.461538</td>\n",
       "    </tr>\n",
       "    <tr>\n",
       "      <th>2022</th>\n",
       "      <td>1.297656</td>\n",
       "      <td>1.600000</td>\n",
       "      <td>1.385561</td>\n",
       "      <td>1.376316</td>\n",
       "      <td>1.415217</td>\n",
       "      <td>1.125000</td>\n",
       "    </tr>\n",
       "    <tr>\n",
       "      <th rowspan=\"4\" valign=\"top\">February</th>\n",
       "      <th>2019</th>\n",
       "      <td>1.315298</td>\n",
       "      <td>1.083333</td>\n",
       "      <td>1.287305</td>\n",
       "      <td>1.312000</td>\n",
       "      <td>1.401046</td>\n",
       "      <td>1.133333</td>\n",
       "    </tr>\n",
       "    <tr>\n",
       "      <th>2020</th>\n",
       "      <td>1.318313</td>\n",
       "      <td>1.600000</td>\n",
       "      <td>1.346648</td>\n",
       "      <td>1.661017</td>\n",
       "      <td>1.383009</td>\n",
       "      <td>1.071429</td>\n",
       "    </tr>\n",
       "    <tr>\n",
       "      <th>2021</th>\n",
       "      <td>1.326901</td>\n",
       "      <td>1.176471</td>\n",
       "      <td>1.364519</td>\n",
       "      <td>1.303318</td>\n",
       "      <td>1.362491</td>\n",
       "      <td>1.272727</td>\n",
       "    </tr>\n",
       "    <tr>\n",
       "      <th>2022</th>\n",
       "      <td>1.325941</td>\n",
       "      <td>1.714286</td>\n",
       "      <td>1.317593</td>\n",
       "      <td>1.402632</td>\n",
       "      <td>1.388079</td>\n",
       "      <td>1.187500</td>\n",
       "    </tr>\n",
       "    <tr>\n",
       "      <th rowspan=\"4\" valign=\"top\">January</th>\n",
       "      <th>2019</th>\n",
       "      <td>1.301965</td>\n",
       "      <td>1.358974</td>\n",
       "      <td>1.331887</td>\n",
       "      <td>1.278571</td>\n",
       "      <td>1.403802</td>\n",
       "      <td>1.150000</td>\n",
       "    </tr>\n",
       "    <tr>\n",
       "      <th>2020</th>\n",
       "      <td>1.305425</td>\n",
       "      <td>1.515625</td>\n",
       "      <td>1.308008</td>\n",
       "      <td>1.301887</td>\n",
       "      <td>1.369336</td>\n",
       "      <td>1.217391</td>\n",
       "    </tr>\n",
       "    <tr>\n",
       "      <th>2021</th>\n",
       "      <td>1.331680</td>\n",
       "      <td>1.333333</td>\n",
       "      <td>1.315061</td>\n",
       "      <td>1.346535</td>\n",
       "      <td>1.387118</td>\n",
       "      <td>1.357143</td>\n",
       "    </tr>\n",
       "    <tr>\n",
       "      <th>2022</th>\n",
       "      <td>1.285207</td>\n",
       "      <td>1.111111</td>\n",
       "      <td>1.336806</td>\n",
       "      <td>1.334642</td>\n",
       "      <td>1.347077</td>\n",
       "      <td>1.222222</td>\n",
       "    </tr>\n",
       "    <tr>\n",
       "      <th rowspan=\"4\" valign=\"top\">July</th>\n",
       "      <th>2019</th>\n",
       "      <td>1.342417</td>\n",
       "      <td>1.538462</td>\n",
       "      <td>1.000000</td>\n",
       "      <td>1.400000</td>\n",
       "      <td>1.459278</td>\n",
       "      <td>1.444444</td>\n",
       "    </tr>\n",
       "    <tr>\n",
       "      <th>2020</th>\n",
       "      <td>1.324689</td>\n",
       "      <td>1.583333</td>\n",
       "      <td>1.000000</td>\n",
       "      <td>1.000000</td>\n",
       "      <td>1.445199</td>\n",
       "      <td>1.500000</td>\n",
       "    </tr>\n",
       "    <tr>\n",
       "      <th>2021</th>\n",
       "      <td>1.340411</td>\n",
       "      <td>1.444444</td>\n",
       "      <td>1.000000</td>\n",
       "      <td>NaN</td>\n",
       "      <td>1.474479</td>\n",
       "      <td>1.066667</td>\n",
       "    </tr>\n",
       "    <tr>\n",
       "      <th>2022</th>\n",
       "      <td>1.339222</td>\n",
       "      <td>1.750000</td>\n",
       "      <td>1.000000</td>\n",
       "      <td>1.000000</td>\n",
       "      <td>1.470771</td>\n",
       "      <td>1.000000</td>\n",
       "    </tr>\n",
       "    <tr>\n",
       "      <th rowspan=\"4\" valign=\"top\">June</th>\n",
       "      <th>2019</th>\n",
       "      <td>1.336180</td>\n",
       "      <td>1.506667</td>\n",
       "      <td>1.000000</td>\n",
       "      <td>1.000000</td>\n",
       "      <td>1.447362</td>\n",
       "      <td>1.117647</td>\n",
       "    </tr>\n",
       "    <tr>\n",
       "      <th>2020</th>\n",
       "      <td>1.333754</td>\n",
       "      <td>1.166667</td>\n",
       "      <td>1.000000</td>\n",
       "      <td>NaN</td>\n",
       "      <td>1.416375</td>\n",
       "      <td>1.076923</td>\n",
       "    </tr>\n",
       "    <tr>\n",
       "      <th>2021</th>\n",
       "      <td>1.329111</td>\n",
       "      <td>1.555556</td>\n",
       "      <td>NaN</td>\n",
       "      <td>1.333333</td>\n",
       "      <td>1.442604</td>\n",
       "      <td>1.714286</td>\n",
       "    </tr>\n",
       "    <tr>\n",
       "      <th>2022</th>\n",
       "      <td>1.339122</td>\n",
       "      <td>2.000000</td>\n",
       "      <td>1.000000</td>\n",
       "      <td>NaN</td>\n",
       "      <td>1.399510</td>\n",
       "      <td>1.000000</td>\n",
       "    </tr>\n",
       "    <tr>\n",
       "      <th rowspan=\"4\" valign=\"top\">March</th>\n",
       "      <th>2019</th>\n",
       "      <td>1.330359</td>\n",
       "      <td>1.294118</td>\n",
       "      <td>1.231579</td>\n",
       "      <td>1.411111</td>\n",
       "      <td>1.435946</td>\n",
       "      <td>1.062500</td>\n",
       "    </tr>\n",
       "    <tr>\n",
       "      <th>2020</th>\n",
       "      <td>1.333562</td>\n",
       "      <td>1.352941</td>\n",
       "      <td>1.452555</td>\n",
       "      <td>1.352381</td>\n",
       "      <td>1.405273</td>\n",
       "      <td>1.450000</td>\n",
       "    </tr>\n",
       "    <tr>\n",
       "      <th>2021</th>\n",
       "      <td>1.334661</td>\n",
       "      <td>1.200000</td>\n",
       "      <td>1.346939</td>\n",
       "      <td>1.678571</td>\n",
       "      <td>1.413530</td>\n",
       "      <td>1.250000</td>\n",
       "    </tr>\n",
       "    <tr>\n",
       "      <th>2022</th>\n",
       "      <td>1.325219</td>\n",
       "      <td>1.333333</td>\n",
       "      <td>1.246914</td>\n",
       "      <td>1.500000</td>\n",
       "      <td>1.411477</td>\n",
       "      <td>1.227273</td>\n",
       "    </tr>\n",
       "    <tr>\n",
       "      <th rowspan=\"4\" valign=\"top\">May</th>\n",
       "      <th>2019</th>\n",
       "      <td>1.346532</td>\n",
       "      <td>1.684211</td>\n",
       "      <td>1.000000</td>\n",
       "      <td>1.000000</td>\n",
       "      <td>1.442656</td>\n",
       "      <td>1.100000</td>\n",
       "    </tr>\n",
       "    <tr>\n",
       "      <th>2020</th>\n",
       "      <td>1.337205</td>\n",
       "      <td>1.400000</td>\n",
       "      <td>1.500000</td>\n",
       "      <td>1.333333</td>\n",
       "      <td>1.457971</td>\n",
       "      <td>1.352941</td>\n",
       "    </tr>\n",
       "    <tr>\n",
       "      <th>2021</th>\n",
       "      <td>1.354493</td>\n",
       "      <td>1.666667</td>\n",
       "      <td>1.500000</td>\n",
       "      <td>1.333333</td>\n",
       "      <td>1.417683</td>\n",
       "      <td>1.071429</td>\n",
       "    </tr>\n",
       "    <tr>\n",
       "      <th>2022</th>\n",
       "      <td>1.338688</td>\n",
       "      <td>1.250000</td>\n",
       "      <td>1.333333</td>\n",
       "      <td>1.000000</td>\n",
       "      <td>1.500753</td>\n",
       "      <td>1.250000</td>\n",
       "    </tr>\n",
       "    <tr>\n",
       "      <th rowspan=\"4\" valign=\"top\">November</th>\n",
       "      <th>2019</th>\n",
       "      <td>1.290865</td>\n",
       "      <td>1.260870</td>\n",
       "      <td>1.369295</td>\n",
       "      <td>1.428571</td>\n",
       "      <td>1.400236</td>\n",
       "      <td>1.043478</td>\n",
       "    </tr>\n",
       "    <tr>\n",
       "      <th>2020</th>\n",
       "      <td>1.300952</td>\n",
       "      <td>1.583333</td>\n",
       "      <td>1.434132</td>\n",
       "      <td>1.384615</td>\n",
       "      <td>1.387696</td>\n",
       "      <td>1.200000</td>\n",
       "    </tr>\n",
       "    <tr>\n",
       "      <th>2021</th>\n",
       "      <td>1.294445</td>\n",
       "      <td>1.452381</td>\n",
       "      <td>1.243243</td>\n",
       "      <td>1.923077</td>\n",
       "      <td>1.393972</td>\n",
       "      <td>1.421053</td>\n",
       "    </tr>\n",
       "    <tr>\n",
       "      <th>2022</th>\n",
       "      <td>1.318023</td>\n",
       "      <td>1.444444</td>\n",
       "      <td>1.356423</td>\n",
       "      <td>1.371429</td>\n",
       "      <td>1.389572</td>\n",
       "      <td>1.142857</td>\n",
       "    </tr>\n",
       "    <tr>\n",
       "      <th rowspan=\"4\" valign=\"top\">October</th>\n",
       "      <th>2019</th>\n",
       "      <td>1.330498</td>\n",
       "      <td>1.272727</td>\n",
       "      <td>1.400000</td>\n",
       "      <td>1.000000</td>\n",
       "      <td>1.393419</td>\n",
       "      <td>1.153846</td>\n",
       "    </tr>\n",
       "    <tr>\n",
       "      <th>2020</th>\n",
       "      <td>1.314318</td>\n",
       "      <td>1.518519</td>\n",
       "      <td>1.347150</td>\n",
       "      <td>1.485714</td>\n",
       "      <td>1.397198</td>\n",
       "      <td>1.090909</td>\n",
       "    </tr>\n",
       "    <tr>\n",
       "      <th>2021</th>\n",
       "      <td>1.324756</td>\n",
       "      <td>1.533333</td>\n",
       "      <td>2.200000</td>\n",
       "      <td>1.000000</td>\n",
       "      <td>1.426586</td>\n",
       "      <td>1.076923</td>\n",
       "    </tr>\n",
       "    <tr>\n",
       "      <th>2022</th>\n",
       "      <td>1.336587</td>\n",
       "      <td>1.705882</td>\n",
       "      <td>1.188679</td>\n",
       "      <td>1.714286</td>\n",
       "      <td>1.388816</td>\n",
       "      <td>1.210526</td>\n",
       "    </tr>\n",
       "    <tr>\n",
       "      <th rowspan=\"4\" valign=\"top\">September</th>\n",
       "      <th>2019</th>\n",
       "      <td>1.339429</td>\n",
       "      <td>1.250000</td>\n",
       "      <td>1.000000</td>\n",
       "      <td>1.500000</td>\n",
       "      <td>1.435417</td>\n",
       "      <td>1.307692</td>\n",
       "    </tr>\n",
       "    <tr>\n",
       "      <th>2020</th>\n",
       "      <td>1.323790</td>\n",
       "      <td>1.509804</td>\n",
       "      <td>1.000000</td>\n",
       "      <td>1.000000</td>\n",
       "      <td>1.395795</td>\n",
       "      <td>1.083333</td>\n",
       "    </tr>\n",
       "    <tr>\n",
       "      <th>2021</th>\n",
       "      <td>1.328964</td>\n",
       "      <td>2.111111</td>\n",
       "      <td>NaN</td>\n",
       "      <td>1.500000</td>\n",
       "      <td>1.401223</td>\n",
       "      <td>1.411765</td>\n",
       "    </tr>\n",
       "    <tr>\n",
       "      <th>2022</th>\n",
       "      <td>1.332019</td>\n",
       "      <td>1.400000</td>\n",
       "      <td>1.000000</td>\n",
       "      <td>2.000000</td>\n",
       "      <td>1.408525</td>\n",
       "      <td>1.636364</td>\n",
       "    </tr>\n",
       "  </tbody>\n",
       "</table>\n",
       "</div>"
      ],
      "text/plain": [
       "Road_Surface_Conditions       Dry  Flood over 3cm. deep  Frost or ice  \\\n",
       "Month     Year                                                          \n",
       "April     2019           1.360358              1.000000      1.200000   \n",
       "          2020           1.339197              1.538462      1.560606   \n",
       "          2021           1.353704              1.000000      1.000000   \n",
       "          2022           1.357578              1.000000      1.500000   \n",
       "August    2019           1.383017              1.636364      1.000000   \n",
       "          2020           1.375027              1.578947      1.000000   \n",
       "          2021           1.385929              2.090909           NaN   \n",
       "          2022           1.379569              1.750000      1.500000   \n",
       "December  2019           1.286649              1.531915      1.350850   \n",
       "          2020           1.335708              1.708333      1.345857   \n",
       "          2021           1.274566              1.500000      1.380342   \n",
       "          2022           1.297656              1.600000      1.385561   \n",
       "February  2019           1.315298              1.083333      1.287305   \n",
       "          2020           1.318313              1.600000      1.346648   \n",
       "          2021           1.326901              1.176471      1.364519   \n",
       "          2022           1.325941              1.714286      1.317593   \n",
       "January   2019           1.301965              1.358974      1.331887   \n",
       "          2020           1.305425              1.515625      1.308008   \n",
       "          2021           1.331680              1.333333      1.315061   \n",
       "          2022           1.285207              1.111111      1.336806   \n",
       "July      2019           1.342417              1.538462      1.000000   \n",
       "          2020           1.324689              1.583333      1.000000   \n",
       "          2021           1.340411              1.444444      1.000000   \n",
       "          2022           1.339222              1.750000      1.000000   \n",
       "June      2019           1.336180              1.506667      1.000000   \n",
       "          2020           1.333754              1.166667      1.000000   \n",
       "          2021           1.329111              1.555556           NaN   \n",
       "          2022           1.339122              2.000000      1.000000   \n",
       "March     2019           1.330359              1.294118      1.231579   \n",
       "          2020           1.333562              1.352941      1.452555   \n",
       "          2021           1.334661              1.200000      1.346939   \n",
       "          2022           1.325219              1.333333      1.246914   \n",
       "May       2019           1.346532              1.684211      1.000000   \n",
       "          2020           1.337205              1.400000      1.500000   \n",
       "          2021           1.354493              1.666667      1.500000   \n",
       "          2022           1.338688              1.250000      1.333333   \n",
       "November  2019           1.290865              1.260870      1.369295   \n",
       "          2020           1.300952              1.583333      1.434132   \n",
       "          2021           1.294445              1.452381      1.243243   \n",
       "          2022           1.318023              1.444444      1.356423   \n",
       "October   2019           1.330498              1.272727      1.400000   \n",
       "          2020           1.314318              1.518519      1.347150   \n",
       "          2021           1.324756              1.533333      2.200000   \n",
       "          2022           1.336587              1.705882      1.188679   \n",
       "September 2019           1.339429              1.250000      1.000000   \n",
       "          2020           1.323790              1.509804      1.000000   \n",
       "          2021           1.328964              2.111111           NaN   \n",
       "          2022           1.332019              1.400000      1.000000   \n",
       "\n",
       "Road_Surface_Conditions      Snow  Wet or damp  unaccounted  \n",
       "Month     Year                                               \n",
       "April     2019                NaN     1.385888     1.000000  \n",
       "          2020           1.442308     1.442780     1.000000  \n",
       "          2021           2.000000     1.420137     1.181818  \n",
       "          2022           1.250000     1.485714     1.181818  \n",
       "August    2019           1.000000     1.458948     1.304348  \n",
       "          2020           2.000000     1.450013     1.304348  \n",
       "          2021           1.000000     1.463757     1.000000  \n",
       "          2022           2.000000     1.415216     1.400000  \n",
       "December  2019           1.181818     1.422541     1.000000  \n",
       "          2020           1.252427     1.401117     1.142857  \n",
       "          2021           1.374680     1.388427     1.461538  \n",
       "          2022           1.376316     1.415217     1.125000  \n",
       "February  2019           1.312000     1.401046     1.133333  \n",
       "          2020           1.661017     1.383009     1.071429  \n",
       "          2021           1.303318     1.362491     1.272727  \n",
       "          2022           1.402632     1.388079     1.187500  \n",
       "January   2019           1.278571     1.403802     1.150000  \n",
       "          2020           1.301887     1.369336     1.217391  \n",
       "          2021           1.346535     1.387118     1.357143  \n",
       "          2022           1.334642     1.347077     1.222222  \n",
       "July      2019           1.400000     1.459278     1.444444  \n",
       "          2020           1.000000     1.445199     1.500000  \n",
       "          2021                NaN     1.474479     1.066667  \n",
       "          2022           1.000000     1.470771     1.000000  \n",
       "June      2019           1.000000     1.447362     1.117647  \n",
       "          2020                NaN     1.416375     1.076923  \n",
       "          2021           1.333333     1.442604     1.714286  \n",
       "          2022                NaN     1.399510     1.000000  \n",
       "March     2019           1.411111     1.435946     1.062500  \n",
       "          2020           1.352381     1.405273     1.450000  \n",
       "          2021           1.678571     1.413530     1.250000  \n",
       "          2022           1.500000     1.411477     1.227273  \n",
       "May       2019           1.000000     1.442656     1.100000  \n",
       "          2020           1.333333     1.457971     1.352941  \n",
       "          2021           1.333333     1.417683     1.071429  \n",
       "          2022           1.000000     1.500753     1.250000  \n",
       "November  2019           1.428571     1.400236     1.043478  \n",
       "          2020           1.384615     1.387696     1.200000  \n",
       "          2021           1.923077     1.393972     1.421053  \n",
       "          2022           1.371429     1.389572     1.142857  \n",
       "October   2019           1.000000     1.393419     1.153846  \n",
       "          2020           1.485714     1.397198     1.090909  \n",
       "          2021           1.000000     1.426586     1.076923  \n",
       "          2022           1.714286     1.388816     1.210526  \n",
       "September 2019           1.500000     1.435417     1.307692  \n",
       "          2020           1.000000     1.395795     1.083333  \n",
       "          2021           1.500000     1.401223     1.411765  \n",
       "          2022           2.000000     1.408525     1.636364  "
      ]
     },
     "execution_count": 50,
     "metadata": {},
     "output_type": "execute_result"
    }
   ],
   "source": [
    "ukroadaccident.groupby(['Month', 'Year', 'Road_Surface_Conditions'])['Number_of_Casualties'].mean().unstack()"
   ]
  },
  {
   "cell_type": "markdown",
   "id": "3341efd7-182b-4f9f-9cbd-18c39bfa3231",
   "metadata": {},
   "source": [
    "<h2> <strong>Insight 1: </strong> <i>The <strong>average casualties are slightly higher on wet/damp roads (around 1.40–1.47)</strong> compared to dry roads (around 1.30–1.36) across almost months and years.</i> </h2>\n",
    "<h2> <strong>Insight 2: </strong> <i>The <strong>\"Flood over 3cm deep\" condition</strong> often shows averages <strong>above 1.5 and sometimes above 2.0</strong> casualties per accident.</i> </h2>\n",
    "<h2> <strong></strong> <i>Averages of <strong>frost/ice and snow condition varies</strong>frost/ice and snow condition varies a lot, both of them has usually around <strong>1.0</strong> average but there are times that it spikes to above <strong>2.0</strong> (October 2021 has the highest value with 2.2).</i> </h2>\n",
    "<h2> <strong>Insight 4: </strong> <i>Most accidents happen on dry roads but accidents on wet and flooded roads are a bit more dangerous. Snow and ice road surface condition tend to happen less frequent but it is the most dangerous and causes more casualties when they do happen.</i> </h2>"
   ]
  },
  {
   "cell_type": "markdown",
   "id": "64b5aee1-a46d-452f-88a7-ca30a18e7fed",
   "metadata": {},
   "source": [
    "<h1>25. What is the distribution of accidents by year, month, and rural/urban area?</h1>"
   ]
  },
  {
   "cell_type": "code",
   "execution_count": 51,
   "id": "647be0d7-2993-4554-a5f0-2f39bb02df80",
   "metadata": {},
   "outputs": [
    {
     "data": {
      "text/html": [
       "<div>\n",
       "<style scoped>\n",
       "    .dataframe tbody tr th:only-of-type {\n",
       "        vertical-align: middle;\n",
       "    }\n",
       "\n",
       "    .dataframe tbody tr th {\n",
       "        vertical-align: top;\n",
       "    }\n",
       "\n",
       "    .dataframe thead th {\n",
       "        text-align: right;\n",
       "    }\n",
       "</style>\n",
       "<table border=\"1\" class=\"dataframe\">\n",
       "  <thead>\n",
       "    <tr style=\"text-align: right;\">\n",
       "      <th></th>\n",
       "      <th>Month</th>\n",
       "      <th>April</th>\n",
       "      <th>August</th>\n",
       "      <th>December</th>\n",
       "      <th>February</th>\n",
       "      <th>January</th>\n",
       "      <th>July</th>\n",
       "      <th>June</th>\n",
       "      <th>March</th>\n",
       "      <th>May</th>\n",
       "      <th>November</th>\n",
       "      <th>October</th>\n",
       "      <th>September</th>\n",
       "    </tr>\n",
       "    <tr>\n",
       "      <th>Urban_or_Rural_Area</th>\n",
       "      <th>Year</th>\n",
       "      <th></th>\n",
       "      <th></th>\n",
       "      <th></th>\n",
       "      <th></th>\n",
       "      <th></th>\n",
       "      <th></th>\n",
       "      <th></th>\n",
       "      <th></th>\n",
       "      <th></th>\n",
       "      <th></th>\n",
       "      <th></th>\n",
       "      <th></th>\n",
       "    </tr>\n",
       "  </thead>\n",
       "  <tbody>\n",
       "    <tr>\n",
       "      <th rowspan=\"4\" valign=\"top\">Rural</th>\n",
       "      <th>2019</th>\n",
       "      <td>5169</td>\n",
       "      <td>6001</td>\n",
       "      <td>5499</td>\n",
       "      <td>4874</td>\n",
       "      <td>5807</td>\n",
       "      <td>6047</td>\n",
       "      <td>5835</td>\n",
       "      <td>5350</td>\n",
       "      <td>5802</td>\n",
       "      <td>5974</td>\n",
       "      <td>5518</td>\n",
       "      <td>5682</td>\n",
       "    </tr>\n",
       "    <tr>\n",
       "      <th>2020</th>\n",
       "      <td>4752</td>\n",
       "      <td>5204</td>\n",
       "      <td>5167</td>\n",
       "      <td>5226</td>\n",
       "      <td>5182</td>\n",
       "      <td>5415</td>\n",
       "      <td>5105</td>\n",
       "      <td>4947</td>\n",
       "      <td>5184</td>\n",
       "      <td>5251</td>\n",
       "      <td>5415</td>\n",
       "      <td>5143</td>\n",
       "    </tr>\n",
       "    <tr>\n",
       "      <th>2021</th>\n",
       "      <td>4555</td>\n",
       "      <td>5256</td>\n",
       "      <td>5106</td>\n",
       "      <td>4144</td>\n",
       "      <td>4925</td>\n",
       "      <td>5277</td>\n",
       "      <td>4943</td>\n",
       "      <td>4391</td>\n",
       "      <td>4873</td>\n",
       "      <td>5456</td>\n",
       "      <td>5260</td>\n",
       "      <td>4830</td>\n",
       "    </tr>\n",
       "    <tr>\n",
       "      <th>2022</th>\n",
       "      <td>3956</td>\n",
       "      <td>4537</td>\n",
       "      <td>3589</td>\n",
       "      <td>3896</td>\n",
       "      <td>3626</td>\n",
       "      <td>4476</td>\n",
       "      <td>4317</td>\n",
       "      <td>4118</td>\n",
       "      <td>4266</td>\n",
       "      <td>4671</td>\n",
       "      <td>4593</td>\n",
       "      <td>4380</td>\n",
       "    </tr>\n",
       "    <tr>\n",
       "      <th rowspan=\"4\" valign=\"top\">Unallocated</th>\n",
       "      <th>2019</th>\n",
       "      <td>0</td>\n",
       "      <td>0</td>\n",
       "      <td>2</td>\n",
       "      <td>0</td>\n",
       "      <td>1</td>\n",
       "      <td>1</td>\n",
       "      <td>1</td>\n",
       "      <td>0</td>\n",
       "      <td>0</td>\n",
       "      <td>0</td>\n",
       "      <td>0</td>\n",
       "      <td>0</td>\n",
       "    </tr>\n",
       "    <tr>\n",
       "      <th>2020</th>\n",
       "      <td>1</td>\n",
       "      <td>0</td>\n",
       "      <td>1</td>\n",
       "      <td>0</td>\n",
       "      <td>0</td>\n",
       "      <td>0</td>\n",
       "      <td>1</td>\n",
       "      <td>1</td>\n",
       "      <td>2</td>\n",
       "      <td>0</td>\n",
       "      <td>0</td>\n",
       "      <td>0</td>\n",
       "    </tr>\n",
       "    <tr>\n",
       "      <th>2021</th>\n",
       "      <td>0</td>\n",
       "      <td>0</td>\n",
       "      <td>0</td>\n",
       "      <td>0</td>\n",
       "      <td>0</td>\n",
       "      <td>0</td>\n",
       "      <td>0</td>\n",
       "      <td>0</td>\n",
       "      <td>0</td>\n",
       "      <td>0</td>\n",
       "      <td>0</td>\n",
       "      <td>0</td>\n",
       "    </tr>\n",
       "    <tr>\n",
       "      <th>2022</th>\n",
       "      <td>0</td>\n",
       "      <td>0</td>\n",
       "      <td>0</td>\n",
       "      <td>0</td>\n",
       "      <td>0</td>\n",
       "      <td>0</td>\n",
       "      <td>0</td>\n",
       "      <td>0</td>\n",
       "      <td>0</td>\n",
       "      <td>0</td>\n",
       "      <td>0</td>\n",
       "      <td>0</td>\n",
       "    </tr>\n",
       "    <tr>\n",
       "      <th rowspan=\"4\" valign=\"top\">Urban</th>\n",
       "      <th>2019</th>\n",
       "      <td>8956</td>\n",
       "      <td>9043</td>\n",
       "      <td>9207</td>\n",
       "      <td>8379</td>\n",
       "      <td>9547</td>\n",
       "      <td>9814</td>\n",
       "      <td>9692</td>\n",
       "      <td>9699</td>\n",
       "      <td>10031</td>\n",
       "      <td>10585</td>\n",
       "      <td>10010</td>\n",
       "      <td>9589</td>\n",
       "    </tr>\n",
       "    <tr>\n",
       "      <th>2020</th>\n",
       "      <td>8641</td>\n",
       "      <td>8162</td>\n",
       "      <td>8626</td>\n",
       "      <td>9127</td>\n",
       "      <td>8951</td>\n",
       "      <td>9215</td>\n",
       "      <td>9099</td>\n",
       "      <td>8546</td>\n",
       "      <td>9150</td>\n",
       "      <td>9519</td>\n",
       "      <td>10269</td>\n",
       "      <td>9289</td>\n",
       "    </tr>\n",
       "    <tr>\n",
       "      <th>2021</th>\n",
       "      <td>8160</td>\n",
       "      <td>8159</td>\n",
       "      <td>8603</td>\n",
       "      <td>6806</td>\n",
       "      <td>8492</td>\n",
       "      <td>9023</td>\n",
       "      <td>8993</td>\n",
       "      <td>8811</td>\n",
       "      <td>8938</td>\n",
       "      <td>10017</td>\n",
       "      <td>9574</td>\n",
       "      <td>8962</td>\n",
       "    </tr>\n",
       "    <tr>\n",
       "      <th>2022</th>\n",
       "      <td>7554</td>\n",
       "      <td>7551</td>\n",
       "      <td>6036</td>\n",
       "      <td>7039</td>\n",
       "      <td>6341</td>\n",
       "      <td>8177</td>\n",
       "      <td>8495</td>\n",
       "      <td>8223</td>\n",
       "      <td>8106</td>\n",
       "      <td>8951</td>\n",
       "      <td>8941</td>\n",
       "      <td>8580</td>\n",
       "    </tr>\n",
       "  </tbody>\n",
       "</table>\n",
       "</div>"
      ],
      "text/plain": [
       "Month                     April  August  December  February  January  July  \\\n",
       "Urban_or_Rural_Area Year                                                     \n",
       "Rural               2019   5169    6001      5499      4874     5807  6047   \n",
       "                    2020   4752    5204      5167      5226     5182  5415   \n",
       "                    2021   4555    5256      5106      4144     4925  5277   \n",
       "                    2022   3956    4537      3589      3896     3626  4476   \n",
       "Unallocated         2019      0       0         2         0        1     1   \n",
       "                    2020      1       0         1         0        0     0   \n",
       "                    2021      0       0         0         0        0     0   \n",
       "                    2022      0       0         0         0        0     0   \n",
       "Urban               2019   8956    9043      9207      8379     9547  9814   \n",
       "                    2020   8641    8162      8626      9127     8951  9215   \n",
       "                    2021   8160    8159      8603      6806     8492  9023   \n",
       "                    2022   7554    7551      6036      7039     6341  8177   \n",
       "\n",
       "Month                     June  March    May  November  October  September  \n",
       "Urban_or_Rural_Area Year                                                    \n",
       "Rural               2019  5835   5350   5802      5974     5518       5682  \n",
       "                    2020  5105   4947   5184      5251     5415       5143  \n",
       "                    2021  4943   4391   4873      5456     5260       4830  \n",
       "                    2022  4317   4118   4266      4671     4593       4380  \n",
       "Unallocated         2019     1      0      0         0        0          0  \n",
       "                    2020     1      1      2         0        0          0  \n",
       "                    2021     0      0      0         0        0          0  \n",
       "                    2022     0      0      0         0        0          0  \n",
       "Urban               2019  9692   9699  10031     10585    10010       9589  \n",
       "                    2020  9099   8546   9150      9519    10269       9289  \n",
       "                    2021  8993   8811   8938     10017     9574       8962  \n",
       "                    2022  8495   8223   8106      8951     8941       8580  "
      ]
     },
     "execution_count": 51,
     "metadata": {},
     "output_type": "execute_result"
    }
   ],
   "source": [
    "ukroadaccident.groupby(['Urban_or_Rural_Area','Year', 'Month']).size().unstack()"
   ]
  },
  {
   "cell_type": "markdown",
   "id": "c94bf17c-7e4b-42ab-a148-a7f06282b95d",
   "metadata": {},
   "source": [
    "<h2> <strong>Insight 1: </strong> <i>In all months and years, accidents mostly happens in <strong>urban areas at 76%-80%.</strong> While accidents in <strong>rural areas are lower with 19%-23%.</strong></i></h2>\n",
    "<h2> <strong>Insight 2: </strong> <i>The highest percentage in <strong>urban areas</strong> was in <strong>November 2021 at 80.16%</strong>, followed by both September 2021 and October 2020 at 80.15%. While the <strong>lowest was April 2019 (76.56%).</strong></i></h2>\n",
    "<h2> <strong>Insight 3: </strong> <i>In <strong>rural areas</strong>, the lowest percentage was <strong>19.84%</strong> on November 2021, while the highest was on April 2019 at <strong>23.44%.</strong></i></h2>\n",
    "<h2> <strong>Insight 4: </strong> <i>Most accidents happen in urban areas (cities) regardless of the month and year. Rural accidents are fewer but the still have a peak month (April).</i></h2>"
   ]
  },
  {
   "cell_type": "markdown",
   "id": "f01e81ec-6ac1-4a25-8278-244fc0c6ef46",
   "metadata": {},
   "source": [
    "<h1>---Additional questions with matplotlib---</h1>"
   ]
  },
  {
   "cell_type": "code",
   "execution_count": 52,
   "id": "6670eea7-48ff-4217-80f2-bbd19b28434d",
   "metadata": {},
   "outputs": [],
   "source": [
    "import matplotlib.pyplot as plt"
   ]
  },
  {
   "cell_type": "code",
   "execution_count": 53,
   "id": "4e97fdaf-3329-425e-b31e-15f3ccd52605",
   "metadata": {},
   "outputs": [
    {
     "name": "stdout",
     "output_type": "stream",
     "text": [
      "<class 'pandas.core.frame.DataFrame'>\n",
      "RangeIndex: 660679 entries, 0 to 660678\n",
      "Data columns (total 19 columns):\n",
      " #   Column                   Non-Null Count   Dtype         \n",
      "---  ------                   --------------   -----         \n",
      " 0   Index                    660679 non-null  category      \n",
      " 1   Accident_Severity        660679 non-null  category      \n",
      " 2   Accident Date            660679 non-null  datetime64[ns]\n",
      " 3   Latitude                 660679 non-null  float64       \n",
      " 4   Light_Conditions         660679 non-null  category      \n",
      " 5   District Area            660679 non-null  category      \n",
      " 6   Longitude                660679 non-null  float64       \n",
      " 7   Number_of_Casualties     660679 non-null  int64         \n",
      " 8   Number_of_Vehicles       660679 non-null  int64         \n",
      " 9   Road_Surface_Conditions  660679 non-null  category      \n",
      " 10  Road_Type                660679 non-null  category      \n",
      " 11  Urban_or_Rural_Area      660679 non-null  category      \n",
      " 12  Weather_Conditions       660679 non-null  category      \n",
      " 13  Vehicle_Type             660679 non-null  category      \n",
      " 14  Year                     660679 non-null  category      \n",
      " 15  Month_Number             660679 non-null  int32         \n",
      " 16  Month                    660679 non-null  category      \n",
      " 17  Day                      660679 non-null  int32         \n",
      " 18  DayofWeek                660679 non-null  int32         \n",
      "dtypes: category(11), datetime64[ns](1), float64(2), int32(3), int64(2)\n",
      "memory usage: 61.6 MB\n"
     ]
    }
   ],
   "source": [
    "ukroadaccident.info()"
   ]
  },
  {
   "cell_type": "markdown",
   "id": "f52c1d23-c9e2-41c0-aeaa-1da5139fcab5",
   "metadata": {},
   "source": [
    "<h1>26. What is the accident distribution by severity at Birmingham (highest accident record district area)?</h1>"
   ]
  },
  {
   "cell_type": "code",
   "execution_count": 54,
   "id": "2e74cfe4-aa96-49c1-93e6-6e52d8bb25aa",
   "metadata": {},
   "outputs": [
    {
     "data": {
      "text/plain": [
       "Accident_Severity  Light_Conditions           \n",
       "Fatal              Darkness - lighting unknown       2\n",
       "                   Darkness - lights lit            47\n",
       "                   Darkness - lights unlit           3\n",
       "                   Darkness - no lighting            0\n",
       "                   Daylight                         53\n",
       "Serious            Darkness - lighting unknown       2\n",
       "                   Darkness - lights lit           483\n",
       "                   Darkness - lights unlit           3\n",
       "                   Darkness - no lighting            6\n",
       "                   Daylight                        980\n",
       "Slight             Darkness - lighting unknown      78\n",
       "                   Darkness - lights lit          3142\n",
       "                   Darkness - lights unlit          45\n",
       "                   Darkness - no lighting           13\n",
       "                   Daylight                       8634\n",
       "dtype: int64"
      ]
     },
     "execution_count": 54,
     "metadata": {},
     "output_type": "execute_result"
    }
   ],
   "source": [
    "birmingham = ukroadaccident[ukroadaccident['District Area'] == 'Birmingham']\n",
    "accidentbirmingham = birmingham.groupby(['Accident_Severity', 'Light_Conditions']).size()\n",
    "accidentbirmingham"
   ]
  },
  {
   "cell_type": "code",
   "execution_count": 55,
   "id": "53eb3363-e121-47bd-863f-aeacc82e41de",
   "metadata": {},
   "outputs": [
    {
     "data": {
      "image/png": "[encoded data removed]",
      "text/plain": [
       "<Figure size 1000x600 with 1 Axes>"
      ]
     },
     "metadata": {},
     "output_type": "display_data"
    }
   ],
   "source": [
    "accidentbirmingham.plot(kind='bar', stacked=True, figsize=(10,6))\n",
    "plt.title(\"Accidents in Birmingham by Severity & Light Conditions\")\n",
    "plt.xlabel(\"Light Conditions\")\n",
    "plt.ylabel(\"Number of Accidents\")\n",
    "plt.legend(title=\"Accident Severity\")\n",
    "plt.show()"
   ]
  },
  {
   "cell_type": "markdown",
   "id": "7e7d0f2e-16e4-4435-9d8a-d65f28695930",
   "metadata": {},
   "source": [
    "<h2><strong>Insight: </strong> <i>The illustration shows that most <strong>slight</strong> severity accidents happen during <strong>daylight in Birmingham.</strong> Followed by slight accidents in darkness- light lit. Lastly, there's a small portion of serious accidents during daylight.</i> </h2>"
   ]
  },
  {
   "cell_type": "markdown",
   "id": "597cfba4-f739-4691-a4be-13445e166d46",
   "metadata": {},
   "source": [
    "<h1>27. What is the car accident distribution by severity per year and month?</h1>"
   ]
  },
  {
   "cell_type": "code",
   "execution_count": 56,
   "id": "890c24c8-1226-41f7-bd94-2e5987df72b6",
   "metadata": {},
   "outputs": [
    {
     "data": {
      "text/html": [
       "<div>\n",
       "<style scoped>\n",
       "    .dataframe tbody tr th:only-of-type {\n",
       "        vertical-align: middle;\n",
       "    }\n",
       "\n",
       "    .dataframe tbody tr th {\n",
       "        vertical-align: top;\n",
       "    }\n",
       "\n",
       "    .dataframe thead th {\n",
       "        text-align: right;\n",
       "    }\n",
       "</style>\n",
       "<table border=\"1\" class=\"dataframe\">\n",
       "  <thead>\n",
       "    <tr style=\"text-align: right;\">\n",
       "      <th></th>\n",
       "      <th>Year</th>\n",
       "      <th>Accident_Severity</th>\n",
       "      <th>Count</th>\n",
       "    </tr>\n",
       "  </thead>\n",
       "  <tbody>\n",
       "    <tr>\n",
       "      <th>0</th>\n",
       "      <td>2019</td>\n",
       "      <td>Fatal</td>\n",
       "      <td>1948</td>\n",
       "    </tr>\n",
       "    <tr>\n",
       "      <th>1</th>\n",
       "      <td>2019</td>\n",
       "      <td>Serious</td>\n",
       "      <td>17469</td>\n",
       "    </tr>\n",
       "    <tr>\n",
       "      <th>2</th>\n",
       "      <td>2019</td>\n",
       "      <td>Slight</td>\n",
       "      <td>110887</td>\n",
       "    </tr>\n",
       "    <tr>\n",
       "      <th>3</th>\n",
       "      <td>2020</td>\n",
       "      <td>Fatal</td>\n",
       "      <td>1772</td>\n",
       "    </tr>\n",
       "    <tr>\n",
       "      <th>4</th>\n",
       "      <td>2020</td>\n",
       "      <td>Serious</td>\n",
       "      <td>17384</td>\n",
       "    </tr>\n",
       "    <tr>\n",
       "      <th>5</th>\n",
       "      <td>2020</td>\n",
       "      <td>Slight</td>\n",
       "      <td>108738</td>\n",
       "    </tr>\n",
       "    <tr>\n",
       "      <th>6</th>\n",
       "      <td>2021</td>\n",
       "      <td>Fatal</td>\n",
       "      <td>1616</td>\n",
       "    </tr>\n",
       "    <tr>\n",
       "      <th>7</th>\n",
       "      <td>2021</td>\n",
       "      <td>Serious</td>\n",
       "      <td>17143</td>\n",
       "    </tr>\n",
       "    <tr>\n",
       "      <th>8</th>\n",
       "      <td>2021</td>\n",
       "      <td>Slight</td>\n",
       "      <td>109267</td>\n",
       "    </tr>\n",
       "    <tr>\n",
       "      <th>9</th>\n",
       "      <td>2022</td>\n",
       "      <td>Fatal</td>\n",
       "      <td>1241</td>\n",
       "    </tr>\n",
       "    <tr>\n",
       "      <th>10</th>\n",
       "      <td>2022</td>\n",
       "      <td>Serious</td>\n",
       "      <td>14465</td>\n",
       "    </tr>\n",
       "    <tr>\n",
       "      <th>11</th>\n",
       "      <td>2022</td>\n",
       "      <td>Slight</td>\n",
       "      <td>96062</td>\n",
       "    </tr>\n",
       "  </tbody>\n",
       "</table>\n",
       "</div>"
      ],
      "text/plain": [
       "    Year Accident_Severity   Count\n",
       "0   2019             Fatal    1948\n",
       "1   2019           Serious   17469\n",
       "2   2019            Slight  110887\n",
       "3   2020             Fatal    1772\n",
       "4   2020           Serious   17384\n",
       "5   2020            Slight  108738\n",
       "6   2021             Fatal    1616\n",
       "7   2021           Serious   17143\n",
       "8   2021            Slight  109267\n",
       "9   2022             Fatal    1241\n",
       "10  2022           Serious   14465\n",
       "11  2022            Slight   96062"
      ]
     },
     "execution_count": 56,
     "metadata": {},
     "output_type": "execute_result"
    }
   ],
   "source": [
    "car = ukroadaccident[ukroadaccident['Vehicle_Type'] == 'Car']\n",
    "grouped = car.groupby(['Year', 'Accident_Severity']).size().reset_index(name='Count')\n",
    "grouped.columns = ['Year', 'Accident_Severity', 'Count']\n",
    "grouped"
   ]
  },
  {
   "cell_type": "code",
   "execution_count": 57,
   "id": "278c8485-93c1-4d29-83c1-b94629730ef6",
   "metadata": {},
   "outputs": [],
   "source": [
    "pivoted = grouped.pivot(index='Year', columns='Accident_Severity', values='Count')"
   ]
  },
  {
   "cell_type": "code",
   "execution_count": 58,
   "id": "388df50f-01bd-415e-807b-4d9e0a7765f5",
   "metadata": {},
   "outputs": [
    {
     "data": {
      "image/png": "[encoded data removed]",
      "text/plain": [
       "<Figure size 1000x600 with 1 Axes>"
      ]
     },
     "metadata": {},
     "output_type": "display_data"
    }
   ],
   "source": [
    "pivoted.plot(kind='line', marker='o', figsize=(10,6))\n",
    "plt.title(\"Car Accident Distribution by Severity per Year\")\n",
    "plt.xlabel(\"Year\")\n",
    "plt.ylabel(\"Number of Car Accidents\")\n",
    "plt.legend(title=\"Severity\")\n",
    "plt.show()"
   ]
  },
  {
   "cell_type": "markdown",
   "id": "db69204b-ee92-4a1d-835b-01313932390f",
   "metadata": {},
   "source": [
    "<h2> <strong>Insight: </strong> <i>As we can see from the line graph, there is a huge gap between slight severity and the other two severities. Fatality rate is the lowest of them all. Serious car accidents are around 15,000 number of accidents. While slight severity car accidents are on the top with above 100k records across 2019-2021, and it dropped a bit in 2022.</i></h2>"
   ]
  },
  {
   "cell_type": "markdown",
   "id": "184bf93b-4459-4345-bc55-298fa8725801",
   "metadata": {},
   "source": [
    "<h1>28. What is the accident distribution by road surface conditions per areas (rural, urban)? </h1>"
   ]
  },
  {
   "cell_type": "code",
   "execution_count": 59,
   "id": "1a6ebb2e-4760-456c-9871-f053065038eb",
   "metadata": {},
   "outputs": [
    {
     "data": {
      "image/png": "[encoded data removed]",
      "text/plain": [
       "<Figure size 1000x600 with 1 Axes>"
      ]
     },
     "metadata": {},
     "output_type": "display_data"
    }
   ],
   "source": [
    "surfacearea = ukroadaccident.groupby(['Urban_or_Rural_Area', 'Road_Surface_Conditions']).size().unstack()\n",
    "surfacearea.plot(kind='bar', figsize=(10,6))\n",
    "plt.title(\"Accidents by Road Surface Conditions and Area Type\")\n",
    "plt.ylabel(\"Number of Accidents\")\n",
    "plt.xlabel(\"Area (Urban / Rural)\")\n",
    "plt.legend(title=\"Road Surface Conditions\")\n",
    "plt.show()"
   ]
  },
  {
   "cell_type": "markdown",
   "id": "cd425757-80a4-48fe-ae3d-bec3ca4af875",
   "metadata": {},
   "source": [
    "<h2> <strong>Insight: </strong> <i>Both rural and urban have both types of condition rate in terms of road surface. However, Urban got the highest number of accidents on dry or wet/damp surface conditions and on the other hand, Rural is much higher in terms of number of accidents on frost/ice and snow condition.</i></h2>"
   ]
  },
  {
   "cell_type": "markdown",
   "id": "c0260b95-6b03-426a-b45c-001447b83e42",
   "metadata": {},
   "source": [
    "<h1>29. Comparing the weather condtions among the three highest disctrict areas and lowest area.</h1>"
   ]
  },
  {
   "cell_type": "code",
   "execution_count": 60,
   "id": "cea8bca1-ca74-4c49-8173-390478a9a4b4",
   "metadata": {},
   "outputs": [
    {
     "data": {
      "text/plain": [
       "District Area\n",
       "Birmingham    13491\n",
       "Leeds          8898\n",
       "Manchester     6720\n",
       "Name: count, dtype: int64"
      ]
     },
     "execution_count": 60,
     "metadata": {},
     "output_type": "execute_result"
    }
   ],
   "source": [
    "ukroadaccident['District Area'].value_counts().head(3)"
   ]
  },
  {
   "cell_type": "code",
   "execution_count": 61,
   "id": "e0e6c9b5-b43c-4ccd-8b8a-bea7fbbdb95e",
   "metadata": {},
   "outputs": [
    {
     "data": {
      "text/plain": [
       "District Area\n",
       "Clackmannanshire    91\n",
       "Name: count, dtype: int64"
      ]
     },
     "execution_count": 61,
     "metadata": {},
     "output_type": "execute_result"
    }
   ],
   "source": [
    "ukroadaccident['District Area'].value_counts().tail(1)"
   ]
  },
  {
   "cell_type": "code",
   "execution_count": 62,
   "id": "1d00e72b-4295-4e65-aa20-080d2089f84f",
   "metadata": {},
   "outputs": [
    {
     "data": {
      "image/png": "[encoded data removed]",
      "text/plain": [
       "<Figure size 1000x600 with 1 Axes>"
      ]
     },
     "metadata": {},
     "output_type": "display_data"
    }
   ],
   "source": [
    "weatherbirmingham = ukroadaccident[ukroadaccident['District Area'] == 'Birmingham']\n",
    "birmiweather = weatherbirmingham['Weather_Conditions'].value_counts()\n",
    "birmiweather.plot(kind='line', marker='o', figsize=(10,6))\n",
    "plt.title(\"Weather condition in Birmingham\")\n",
    "plt.xlabel(\"Weather Conditions\")\n",
    "plt.ylabel(\"Number of Accidents\")\n",
    "plt.xticks(rotation=45)\n",
    "plt.show()"
   ]
  },
  {
   "cell_type": "code",
   "execution_count": 63,
   "id": "7c972409-b9f7-4018-8641-044d5cd17d97",
   "metadata": {},
   "outputs": [
    {
     "data": {
      "image/png": "[encoded data removed]",
      "text/plain": [
       "<Figure size 1000x600 with 1 Axes>"
      ]
     },
     "metadata": {},
     "output_type": "display_data"
    }
   ],
   "source": [
    "weatherleeds = ukroadaccident[ukroadaccident['District Area'] == 'Leeds']\n",
    "leedsweather = weatherleeds['Weather_Conditions'].value_counts()\n",
    "leedsweather.plot(kind='line', marker='o', figsize=(10,6))\n",
    "plt.title(\"Weather condition in Leeds\")\n",
    "plt.xlabel(\"Weather Conditions\")\n",
    "plt.ylabel(\"Number of Accidents\")\n",
    "plt.xticks(rotation=45)\n",
    "plt.show()"
   ]
  },
  {
   "cell_type": "code",
   "execution_count": 64,
   "id": "b9f1df1a-8e5e-4ef0-9854-665093450e79",
   "metadata": {},
   "outputs": [
    {
     "data": {
      "image/png": "[encoded data removed]",
      "text/plain": [
       "<Figure size 1000x600 with 1 Axes>"
      ]
     },
     "metadata": {},
     "output_type": "display_data"
    }
   ],
   "source": [
    "weathermanchester = ukroadaccident[ukroadaccident['District Area'] == 'Manchester']\n",
    "manchesterweather = weathermanchester['Weather_Conditions'].value_counts()\n",
    "manchesterweather.plot(kind='line', marker='o', figsize=(10,6))\n",
    "plt.title(\"Weather condition in Manchester\")\n",
    "plt.xlabel(\"Weather Conditions\")\n",
    "plt.ylabel(\"Number of Accidents\")\n",
    "plt.xticks(rotation=45)\n",
    "plt.show()"
   ]
  },
  {
   "cell_type": "code",
   "execution_count": 65,
   "id": "8614e3a5-5dbd-4918-bfa7-c7f6c9be0191",
   "metadata": {},
   "outputs": [
    {
     "data": {
      "image/png": "[encoded data removed]",
      "text/plain": [
       "<Figure size 1000x600 with 1 Axes>"
      ]
     },
     "metadata": {},
     "output_type": "display_data"
    }
   ],
   "source": [
    "weatherclack = ukroadaccident[ukroadaccident['District Area'] == 'Clackmannanshire']\n",
    "clackweather = weatherclack['Weather_Conditions'].value_counts()\n",
    "clackweather.plot(kind='line', marker='o', figsize=(10,6))\n",
    "plt.title(\"Weather condition in Clackmannanshire\")\n",
    "plt.xlabel(\"Weather Conditions\")\n",
    "plt.ylabel(\"Number of Accidents\")\n",
    "plt.xticks(rotation=45)\n",
    "plt.show()"
   ]
  },
  {
   "cell_type": "markdown",
   "id": "6794fd75-190e-44a7-84a8-6a3c47f30013",
   "metadata": {},
   "source": [
    "<h2> <strong>Insight 1: </strong> <i>It looks like there isnt much difference but if we really analyze it we can see their difference.</i></h2>\n",
    "<h2> <strong>Insight 2: </strong> <i>First, all four districts has the same type of weather condtion (free no high winds) as the highest number of incidents(regardless of the total number of incidents per district) , and \"snowy without winds\" is the lowest.</i></h2>\n",
    "<h2> <strong>Insight 3: </strong> <i>Raining without high winds is the second most condition among the four districts too.</i></h2>\n",
    "<h2> <strong>Insight 4: </strong> <i>From the third to eighth conditions across all charts now varies.</i></h2>"
   ]
  },
  {
   "cell_type": "code",
   "execution_count": 66,
   "id": "03795ccf-4401-488b-ac18-bf4edf51dda2",
   "metadata": {},
   "outputs": [],
   "source": [
    "#look for the data without the the outlier(fine no high winds) in all four district above."
   ]
  },
  {
   "cell_type": "markdown",
   "id": "4ca5d4b4-84b9-497a-89e1-17c8da51e1a0",
   "metadata": {},
   "source": [
    "<hr>\n",
    "<h1>---SIX DISTRICT AREA ANALYSIS COMPARED TO NATIONAL TRENDS---</h1>"
   ]
  },
  {
   "cell_type": "code",
   "execution_count": 67,
   "id": "0dafb135-fd2f-4b90-a71b-5eb8aae4772f",
   "metadata": {},
   "outputs": [],
   "source": [
    "import folium\n",
    "from folium.plugins import HeatMap"
   ]
  },
  {
   "cell_type": "markdown",
   "id": "4823793e-95d6-4fdd-afca-b819762311d9",
   "metadata": {},
   "source": [
    "<h1>-National Analysis-</h1>"
   ]
  },
  {
   "cell_type": "code",
   "execution_count": 68,
   "id": "bd72cd2a-bd06-4765-92b8-698711253585",
   "metadata": {},
   "outputs": [
    {
     "data": {
      "image/png": "[encoded data removed]",
      "text/plain": [
       "<Figure size 1000x500 with 1 Axes>"
      ]
     },
     "metadata": {},
     "output_type": "display_data"
    }
   ],
   "source": [
    "import matplotlib.pyplot as plt\n",
    "\n",
    "# 1. Group by Year FIRST, then Month (critical order!)\n",
    "monthly_data = ukroadaccident.groupby(['Year', 'Month']).size()\n",
    "\n",
    "# 2. Unstack Year to create separate lines for each year\n",
    "monthly_data = monthly_data.unstack(level=0)\n",
    "\n",
    "# 3. Plot with clean formatting (only 4 lines!)\n",
    "monthly_data.plot(\n",
    "    marker='o', \n",
    "    figsize=(10, 5),\n",
    "    title='Monthly Road Accidents by Year (2019-2022)'\n",
    ")\n",
    "plt.xticks(range(0, 12), ['Jan','Feb','Mar','Apr','May','Jun','Jul','Aug','Sep','Oct','Nov','Dec'])\n",
    "plt.legend(title='Year and Month Severity Comparison', bbox_to_anchor = (1.05,1), loc='upper left')\n",
    "plt.grid(alpha=0.3)\n",
    "plt.show()"
   ]
  },
  {
   "cell_type": "markdown",
   "id": "0740a5e4-d4e7-4713-987f-6b30ee42ab84",
   "metadata": {},
   "source": [
    "<h1>-National Seasonal Analysis-</h1>"
   ]
  },
  {
   "cell_type": "code",
   "execution_count": 69,
   "id": "4bf1cff4-1ed2-4e6e-933c-7e9ee801f423",
   "metadata": {},
   "outputs": [
    {
     "data": {
      "image/png": "[encoded data removed]",
      "text/plain": [
       "<Figure size 640x480 with 1 Axes>"
      ]
     },
     "metadata": {},
     "output_type": "display_data"
    },
    {
     "data": {
      "image/png": "[encoded data removed]",
      "text/plain": [
       "<Figure size 640x480 with 1 Axes>"
      ]
     },
     "metadata": {},
     "output_type": "display_data"
    },
    {
     "name": "stdout",
     "output_type": "stream",
     "text": [
      "DayofWeek\n",
      "Monday        72680\n",
      "Tuesday       94550\n",
      "Wednesday     99558\n",
      "Thursday      99511\n",
      "Friday        97900\n",
      "Saturday     107178\n",
      "Sunday        89302\n",
      "Name: count, dtype: int64\n"
     ]
    },
    {
     "data": {
      "image/png": "[encoded data removed]",
      "text/plain": [
       "<Figure size 640x480 with 1 Axes>"
      ]
     },
     "metadata": {},
     "output_type": "display_data"
    }
   ],
   "source": [
    "# Accidents per year\n",
    "accidents_per_year = ukroadaccident['Year'].value_counts().sort_index()\n",
    "accidents_per_month = ukroadaccident['Month_Number'].value_counts().sort_index()\n",
    "accidents_per_day = ukroadaccident['DayofWeek'].value_counts().sort_index()\n",
    "\n",
    "\n",
    "#PER YEAR \n",
    "accidents_per_year.plot(kind='bar')\n",
    "plt.title('Accidents per Year')\n",
    "plt.xlabel('Year')\n",
    "plt.ylabel('Number of Accidents')\n",
    "plt.show()\n",
    "\n",
    "month_names = {\n",
    "    1: 'January', 2: 'February', 3: 'March', 4: 'April',\n",
    "    5: 'May', 6: 'June', 7: 'July', 8: 'August',\n",
    "    9: 'September', 10: 'October', 11: 'November', 12: 'December'\n",
    "}\n",
    "\n",
    "# Replace numerical months with their names\n",
    "accidents_per_month.index = accidents_per_month.index.astype(int).map(month_names)\n",
    "\n",
    "\n",
    "accidents_per_month.plot(kind='bar')\n",
    "plt.title('Accidents per Month')\n",
    "plt.xlabel('Month')\n",
    "plt.ylabel('Number of Accidents')\n",
    "plt.show()\n",
    "\n",
    "\n",
    "#accident per day\n",
    "day_names = {\n",
    "    0: 'Monday',\n",
    "    1: 'Tuesday',\n",
    "    2: 'Wednesday',\n",
    "    3: 'Thursday',\n",
    "    4: 'Friday',\n",
    "    5: 'Saturday',\n",
    "    6: 'Sunday'\n",
    "}\n",
    "\n",
    "accidents_per_day.index = accidents_per_day.index.map(day_names)\n",
    "accidents_per_day.plot(kind='bar')\n",
    "print(accidents_per_day)"
   ]
  },
  {
   "cell_type": "markdown",
   "id": "b65fd613-95a6-4a4e-995a-7f6ebdb51d95",
   "metadata": {},
   "source": [
    "<h1>Accident Severity</h1>"
   ]
  },
  {
   "cell_type": "code",
   "execution_count": 70,
   "id": "03e445dc-455d-436b-9c11-147250361212",
   "metadata": {},
   "outputs": [
    {
     "data": {
      "image/png": "[encoded data removed]",
      "text/plain": [
       "<Figure size 1000x700 with 1 Axes>"
      ]
     },
     "metadata": {},
     "output_type": "display_data"
    },
    {
     "data": {
      "image/png": "[encoded data removed]",
      "text/plain": [
       "<Figure size 1000x700 with 1 Axes>"
      ]
     },
     "metadata": {},
     "output_type": "display_data"
    }
   ],
   "source": [
    "severity_counts = ukroadaccident['Accident_Severity'].value_counts()\n",
    "\n",
    "plt.pie(severity_counts,\n",
    "        labels = severity_counts.index,\n",
    "        autopct = '%1.1f%%',\n",
    "        startangle = 90)\n",
    "plt.gcf().set_size_inches(10,7)\n",
    "plt.title('Accident Severity Distribution')\n",
    "plt.show()\n",
    "\n",
    "severity_2019 = ukroadaccident[ukroadaccident['Year'] == 2019]\n",
    "# severity_2019\n",
    "sc_2019 = severity_2019['Accident_Severity'].value_counts()\n",
    "\n",
    "plt.pie(sc_2019,\n",
    "        labels = sc_2019.index,\n",
    "        autopct = '%1.1f%%',\n",
    "        startangle = 90)\n",
    "plt.gcf().set_size_inches(10,7)\n",
    "plt.title('Accident Severity Distribution')\n",
    "plt.show()\n"
   ]
  },
  {
   "cell_type": "code",
   "execution_count": null,
   "id": "8bedebe3-cb80-4ec0-afb5-5e7f61a48e04",
   "metadata": {},
   "outputs": [],
   "source": [
    "ukmap = folium.Map(location=[54, -2], zoom_start=6)\n",
    "\n",
    "for idx, row in ukroadaccident.iterrows():\n",
    "    folium.Marker([row['Latitude'], row['Longitude']]).add_to(ukmap)\n",
    "\n",
    "ukmap.save('Accident_map.html')"
   ]
  },
  {
   "cell_type": "code",
   "execution_count": null,
   "id": "086ae9f0-932b-4c93-a7e4-6e3b4912ed9e",
   "metadata": {},
   "outputs": [],
   "source": [
    "ukroadaccident['District Area'].unique()"
   ]
  },
  {
   "cell_type": "markdown",
   "id": "f3ef98c3-5331-48eb-9d68-f423ecdb5998",
   "metadata": {},
   "source": [
    "<hr>\n",
    "<h1>Using District Area to make a comparison to a general result </h1>\n",
    "<h3>1. Aberdeen City Analysis</h3>"
   ]
  },
  {
   "cell_type": "code",
   "execution_count": null,
   "id": "6172eff0-535f-42bb-ac6b-8947fb883e31",
   "metadata": {},
   "outputs": [],
   "source": [
    "aberdeen_df = ukroadaccident[ukroadaccident['District Area'] == 'Aberdeen City']"
   ]
  },
  {
   "cell_type": "code",
   "execution_count": null,
   "id": "ebc52cb6-791f-407e-90ea-63d133254ebf",
   "metadata": {},
   "outputs": [],
   "source": [
    "monthly_aberdeendata = aberdeen_df.groupby(['Year', 'Month']).size()\n",
    "\n",
    "monthly_aberdeendata = monthly_aberdeendata.unstack(level=0)\n",
    "\n",
    "monthly_aberdeendata.plot(\n",
    "    marker='o', \n",
    "    figsize=(10, 5),\n",
    "    title='Monthly Road Accidents in Aberdeen City by Year (2019-2022)'\n",
    ")\n",
    "plt.xticks(range(0, 12), ['Jan','Feb','Mar','Apr','May','Jun','Jul','Aug','Sep','Oct','Nov','Dec'])\n",
    "plt.legend(title='Yearly Accident Comparison', bbox_to_anchor = (1.05,1), loc='upper left')\n",
    "plt.grid(alpha=0.3)\n",
    "plt.show()"
   ]
  },
  {
   "cell_type": "markdown",
   "id": "8a18ab27-df01-4297-ad72-e098dafbe53f",
   "metadata": {},
   "source": [
    "<h2> <strong> <i>Insight 1: </i> </strong> On the national analytics, there is a noticeable spike in November 2019. However in Aberdeen City, there was a peak in February 2020. The lowest point on the national record was in December 2022, while in Aberdeen City there was a consistent zero record of all months on 2022. Overall, the national record is generally decreasing by year, but in the Aberdeen City it is quite unstable by year.</h2>"
   ]
  },
  {
   "cell_type": "code",
   "execution_count": null,
   "id": "8b439ad9-957e-4584-9912-f065e7af6170",
   "metadata": {},
   "outputs": [],
   "source": [
    "# Accidents per year\n",
    "accidents_per_year = aberdeen_df['Year'].value_counts().sort_index()\n",
    "accidents_per_month = aberdeen_df['Month_Number'].value_counts().sort_index()\n",
    "accidents_per_day = aberdeen_df['DayofWeek'].value_counts().sort_index()\n",
    "\n",
    "\n",
    "#PER YEAR \n",
    "accidents_per_year.plot(kind='bar')\n",
    "plt.title('Accidents per Year')\n",
    "plt.xlabel('Year')\n",
    "plt.ylabel('Number of Accidents')\n",
    "plt.show()\n",
    "\n",
    "month_names = {\n",
    "    1: 'January', 2: 'February', 3: 'March', 4: 'April',\n",
    "    5: 'May', 6: 'June', 7: 'July', 8: 'August',\n",
    "    9: 'September', 10: 'October', 11: 'November', 12: 'December'\n",
    "}\n",
    "\n",
    "# Replace numerical months with their names\n",
    "accidents_per_month.index = accidents_per_month.index.map(month_names)\n",
    "\n",
    "\n",
    "accidents_per_month.plot(kind='bar')\n",
    "plt.title('Accidents per Month')\n",
    "plt.xlabel('Month')\n",
    "plt.ylabel('Number of Accidents')\n",
    "plt.show()\n",
    "\n",
    "#accident per day\n",
    "day_names = {\n",
    "    0: 'Monday',\n",
    "    1: 'Tuesday',\n",
    "    2: 'Wednesday',\n",
    "    3: 'Thursday',\n",
    "    4: 'Friday',\n",
    "    5: 'Saturday',\n",
    "    6: 'Sunday'\n",
    "}\n",
    "\n",
    "accidents_per_day.index = accidents_per_day.index.map(day_names)\n",
    "accidents_per_day.plot(kind='bar')\n",
    "print(accidents_per_day)"
   ]
  },
  {
   "cell_type": "markdown",
   "id": "64257d64-d916-41db-a2ce-143ec473f94f",
   "metadata": {},
   "source": [
    "<h2> <strong> <i>Insight 2: </i> </strong>In terms of Year, the sequence of the national records is 2019 -being the highest- to 2020 to 2021 and to 2022 (lowest). While, in Aberdeen City, they got 2020 with the higest record to 2021 to 2019 and to 2020 with zero record.</h2>\n",
    "\n",
    "<h2> <strong> <i>Insight 3: </i> </strong>In terms of Month, accidents usually happen on November with almost 60,000 records, while February is the least month with almost 50,000 records (national record). On the other hand, road accidents in the Aberdeen City usually happen on the month of May with above 120 records, while the least accidents is on the month of April with 90 records.</h2>\n",
    "\n",
    "<h2> <strong> <i>Insight 4: </i> </strong>In terms of Day of the Week, Saturday is the day with highest records (above 100,000) while Monday is the lowest (around 70,000). While in Aberdeen City, accidents usually happen during Wednesday (around 200), and the least is on Monday (125 records). Though most of the weekdays have the most records. </h2>"
   ]
  },
  {
   "cell_type": "markdown",
   "id": "fbedd053-39c4-4a52-b9f0-bf635c0bdf1c",
   "metadata": {},
   "source": [
    "<h1>Accident Severity in Aberdeen City</h1>"
   ]
  },
  {
   "cell_type": "code",
   "execution_count": null,
   "id": "76e82b5e-3547-44c0-8930-9d7533505995",
   "metadata": {},
   "outputs": [],
   "source": [
    "severity_aberdeen  = aberdeen_df['Accident_Severity'].value_counts()\n",
    "\n",
    "plt.pie(severity_aberdeen,\n",
    "        labels = severity_aberdeen.index,\n",
    "        autopct = '%1.1f%%',\n",
    "        startangle = 90)\n",
    "plt.gcf().set_size_inches(10,7)\n",
    "plt.title('Accident Severity Distribution')\n",
    "plt.show()\n",
    "\n",
    "severity_2019_aberdeen = aberdeen_df[aberdeen_df['Year'] == 2019]\n",
    "# severity_2019\n",
    "lsc_2019 = severity_2019_aberdeen['Accident_Severity'].value_counts()\n",
    "\n",
    "plt.pie(lsc_2019,\n",
    "        labels = lsc_2019.index,\n",
    "        autopct = '%1.1f%%',\n",
    "        startangle = 90)\n",
    "plt.gcf().set_size_inches(10,7)\n",
    "plt.title('Accident Severity Distribution')\n",
    "plt.show()"
   ]
  },
  {
   "cell_type": "markdown",
   "id": "4c152236-9808-44ee-83ac-f72d3be5668f",
   "metadata": {},
   "source": [
    "<h2> <strong> <i>Insight 5: </i> </strong> Both records of the National and the Aberdeen City is almost the same with slight severity being the highest and serious severity being the second, and the lowest is the 'fatal'. </h2>"
   ]
  },
  {
   "cell_type": "code",
   "execution_count": null,
   "id": "d7e31b76-2e1b-4f40-8b68-86871002fa9e",
   "metadata": {},
   "outputs": [],
   "source": [
    "aber = list(zip(aderdeen_df['Latitude'], aberdeen_df['Longitude']))\n",
    "m = folium.Map(location=[aderdeen_df['Latitude'].mean(), aderdeen_df['Longitude'].mean()], zoom_start=10)\n",
    "\n",
    "HeatMap(aber).add_to(m)\n",
    "m.save('Aberdeen_heatmap.html')\n",
    "m"
   ]
  },
  {
   "cell_type": "markdown",
   "id": "2a202934-7b5b-4a91-8c60-ea5ae698aeb3",
   "metadata": {},
   "source": [
    "<hr>\n",
    "<h1>Wyre Analysis</h1>"
   ]
  },
  {
   "cell_type": "code",
   "execution_count": null,
   "id": "833f7744-5dd3-4272-adfb-1f306f278f3a",
   "metadata": {},
   "outputs": [],
   "source": [
    "ukroadaccident['District Area'].unique()"
   ]
  },
  {
   "cell_type": "code",
   "execution_count": null,
   "id": "822fad7a-79ed-4d1a-a31c-2fa26aa62682",
   "metadata": {},
   "outputs": [],
   "source": [
    "wyre_df = ukroadaccident[ukroadaccident['District Area'] == 'Wyre']"
   ]
  },
  {
   "cell_type": "code",
   "execution_count": null,
   "id": "f980ba59-0a08-433e-b059-13521a8363e9",
   "metadata": {},
   "outputs": [],
   "source": [
    "monthly_wyredata = wyre_df.groupby(['Year', 'Month']).size()\n",
    "\n",
    "monthly_wyredata = monthly_wyredata.unstack(level=0)\n",
    "\n",
    "monthly_wyredata.plot(\n",
    "    marker='o', \n",
    "    figsize=(10, 5),\n",
    "    title='Monthly Road Accidents in Wyre by Year (2019-2022)'\n",
    ")\n",
    "plt.xticks(range(0, 12), ['Jan','Feb','Mar','Apr','May','Jun','Jul','Aug','Sep','Oct','Nov','Dec'])\n",
    "plt.legend(title='Yearly Accident Comparison', bbox_to_anchor = (1.05,1), loc='upper left')\n",
    "plt.grid(alpha=0.3)\n",
    "plt.show()"
   ]
  },
  {
   "cell_type": "markdown",
   "id": "d067f873-ebfb-4bc2-bddf-a538d479a50b",
   "metadata": {},
   "source": [
    "<h2> <strong> <i>Insight 1: </i> </strong> Compared to the national analytics, Wyre had its peak in August 2021, and the lowest point in December 2022. The distribution of accidents by year and month is quite unstable in Wyre.</h2>"
   ]
  },
  {
   "cell_type": "code",
   "execution_count": null,
   "id": "c9cfb604-c72f-490d-b5a8-00b5b7ee713b",
   "metadata": {},
   "outputs": [],
   "source": [
    "# Accidents per year\n",
    "accidents_per_year = wyre_df['Year'].value_counts().sort_index()\n",
    "accidents_per_month = wyre_df['Month_Number'].value_counts().sort_index()\n",
    "accidents_per_day = wyre_df['DayofWeek'].value_counts().sort_index()\n",
    "\n",
    "\n",
    "#PER YEAR \n",
    "accidents_per_year.plot(kind='bar')\n",
    "plt.title('Accidents per Year')\n",
    "plt.xlabel('Year')\n",
    "plt.ylabel('Number of Accidents')\n",
    "plt.show()\n",
    "\n",
    "month_names = {\n",
    "    1: 'January', 2: 'February', 3: 'March', 4: 'April',\n",
    "    5: 'May', 6: 'June', 7: 'July', 8: 'August',\n",
    "    9: 'September', 10: 'October', 11: 'November', 12: 'December'\n",
    "}\n",
    "\n",
    "# Replace numerical months with their names\n",
    "accidents_per_month.index = accidents_per_month.index.map(month_names)\n",
    "\n",
    "\n",
    "accidents_per_month.plot(kind='bar')\n",
    "plt.title('Accidents per Month')\n",
    "plt.xlabel('Month')\n",
    "plt.ylabel('Number of Accidents')\n",
    "plt.show()\n",
    "\n",
    "#accident per day\n",
    "day_names = {\n",
    "    0: 'Monday',\n",
    "    1: 'Tuesday',\n",
    "    2: 'Wednesday',\n",
    "    3: 'Thursday',\n",
    "    4: 'Friday',\n",
    "    5: 'Saturday',\n",
    "    6: 'Sunday'\n",
    "}\n",
    "\n",
    "accidents_per_day.index = accidents_per_day.index.map(day_names)\n",
    "accidents_per_day.plot(kind='bar')\n",
    "print(accidents_per_day)"
   ]
  },
  {
   "cell_type": "markdown",
   "id": "bc53990a-2649-44db-8872-d5dad21bc7df",
   "metadata": {},
   "source": [
    "<h2> <strong> <i>Insight 2: </i> </strong>In terms of Year, the national record is decreasing by year. While in Wyre, year 2019 and 2021, and year 2020 and 2022, almost have the same record, it looks like it has a pattern.</h2>\n",
    "\n",
    "<h2> <strong> <i>Insight 3: </i> </strong>In terms of Month, both has the month of November with being the highest. February is the lowest month in the national analytics while in Wyre, the lowest is the month of September.</h2>\n",
    "\n",
    "<h2> <strong> <i>Insight 4: </i> </strong>In terms of Day of the Week, Saturday is the day with highest records in both of them (national record and Wyre), though Wednesday is almost the same as Saturday, then same goes with the lowest which is also both Monday.</h2>"
   ]
  },
  {
   "cell_type": "markdown",
   "id": "42421e4a-bfa2-4558-a98d-bfce5b1a4ee0",
   "metadata": {},
   "source": [
    "<h1>Wyre Accident Severity</h1>"
   ]
  },
  {
   "cell_type": "code",
   "execution_count": null,
   "id": "91a1a04d-88e8-456f-89d2-9cf483b700ad",
   "metadata": {},
   "outputs": [],
   "source": [
    "severity_wyre  = wyre_df['Accident_Severity'].value_counts()\n",
    "\n",
    "plt.pie(severity_wyre,\n",
    "        labels = severity_wyre.index,\n",
    "        autopct = '%1.1f%%',\n",
    "        startangle = 90)\n",
    "plt.gcf().set_size_inches(10,7)\n",
    "plt.title('Accident Severity Distribution')\n",
    "plt.show()\n",
    "\n",
    "severity_2019_wyre = wyre_df[wyre_df['Year'] == 2019]\n",
    "# severity_2019\n",
    "lsc_2019 = severity_2019_wyre['Accident_Severity'].value_counts()\n",
    "\n",
    "plt.pie(lsc_2019,\n",
    "        labels = lsc_2019.index,\n",
    "        autopct = '%1.1f%%',\n",
    "        startangle = 90)\n",
    "plt.gcf().set_size_inches(10,7)\n",
    "plt.title('Accident Severity Distribution')\n",
    "plt.show()"
   ]
  },
  {
   "cell_type": "markdown",
   "id": "5edd48e6-d9be-4823-945c-cf52cac2b6c8",
   "metadata": {},
   "source": [
    "<h2> <strong> <i>Insight 5: </i> </strong> Both also has the same distribution of accident severity in the graph, but the record of fatality in Wyre is slightly higher than the usual.</h2>"
   ]
  },
  {
   "cell_type": "code",
   "execution_count": null,
   "id": "3de9026c-38ec-460e-8566-6bf6974ee153",
   "metadata": {},
   "outputs": [],
   "source": [
    "wyre = list(zip(wyre_df['Latitude'], wyre_df['Longitude']))\n",
    "m = folium.Map(location=[wyre_df['Latitude'].mean(), wyre_df['Longitude'].mean()], zoom_start=10)\n",
    "\n",
    "HeatMap(wyre).add_to(m)\n",
    "m.save('Wyre_heatmap.html')\n",
    "m"
   ]
  },
  {
   "cell_type": "code",
   "execution_count": null,
   "id": "a52b9ecb-ced9-41bc-943e-70d32ee5e8f5",
   "metadata": {},
   "outputs": [],
   "source": [
    "ukroadaccident['District Area'].unique()"
   ]
  },
  {
   "cell_type": "markdown",
   "id": "7a5fd777-5c2b-4436-a78b-67a59ec85660",
   "metadata": {},
   "source": [
    "<hr>\n",
    "<h1>Sedgemoor Analysis</h1>"
   ]
  },
  {
   "cell_type": "code",
   "execution_count": null,
   "id": "d4f9ca08-9d73-4317-a395-b3db0e4952bf",
   "metadata": {},
   "outputs": [],
   "source": [
    "sedgemoor_df = ukroadaccident[ukroadaccident['District Area'] == 'Sedgemoor']"
   ]
  },
  {
   "cell_type": "code",
   "execution_count": null,
   "id": "67934371-bc1b-4262-921f-624fb4a7acc7",
   "metadata": {},
   "outputs": [],
   "source": [
    "monthly_sedgemoordata = sedgemoor_df.groupby(['Year', 'Month']).size()\n",
    "\n",
    "monthly_sedgemoordata = monthly_sedgemoordata.unstack(level=0)\n",
    "\n",
    "monthly_sedgemoordata.plot(\n",
    "    marker='o', \n",
    "    figsize=(10, 5),\n",
    "    title='Monthly Road Accidents in Sedgemoor by Year (2019-2022)'\n",
    ")\n",
    "plt.xticks(range(1, 13), ['Jan','Feb','Mar','Apr','May','Jun','Jul','Aug','Sep','Oct','Nov','Dec'])\n",
    "plt.legend(title='Yearly Accident Comparison', bbox_to_anchor = (1.05,1), loc='upper left')\n",
    "plt.grid(alpha=0.3)\n",
    "plt.show()"
   ]
  },
  {
   "cell_type": "markdown",
   "id": "335109b2-839e-4738-9582-0101f8cc8c01",
   "metadata": {},
   "source": [
    "<h2> <strong> <i>Insight 1: </i> </strong>Compared to the national where we can actually see the clear distribution of accidents per year, in the disctrict of Sedgemoor, the records per year is mostly overlapping with each other and there are incosistent ups and downs.</h2>"
   ]
  },
  {
   "cell_type": "code",
   "execution_count": null,
   "id": "acaf394f-f937-48cc-97b2-613e49c6ad79",
   "metadata": {},
   "outputs": [],
   "source": [
    "# Accidents per year\n",
    "accidents_per_year = sedgemoor_df['Year'].value_counts().sort_index()\n",
    "accidents_per_month = sedgemoor_df['Month_Number'].value_counts().sort_index()\n",
    "accidents_per_day = sedgemoor_df['DayofWeek'].value_counts().sort_index()\n",
    "\n",
    "\n",
    "#PER YEAR \n",
    "accidents_per_year.plot(kind='bar')\n",
    "plt.title('Accidents per Year')\n",
    "plt.xlabel('Year')\n",
    "plt.ylabel('Number of Accidents')\n",
    "plt.show()\n",
    "\n",
    "month_names = {\n",
    "    1: 'January', 2: 'February', 3: 'March', 4: 'April',\n",
    "    5: 'May', 6: 'June', 7: 'July', 8: 'August',\n",
    "    9: 'September', 10: 'October', 11: 'November', 12: 'December'\n",
    "}\n",
    "\n",
    "# Replace numerical months with their names\n",
    "accidents_per_month.index = accidents_per_month.index.map(month_names)\n",
    "\n",
    "\n",
    "accidents_per_month.plot(kind='bar')\n",
    "plt.title('Accidents per Month')\n",
    "plt.xlabel('Month')\n",
    "plt.ylabel('Number of Accidents')\n",
    "plt.show()\n",
    "\n",
    "\n",
    "#accident per day\n",
    "day_names = {\n",
    "    0: 'Monday',\n",
    "    1: 'Tuesday',\n",
    "    2: 'Wednesday',\n",
    "    3: 'Thursday',\n",
    "    4: 'Friday',\n",
    "    5: 'Saturday',\n",
    "    6: 'Sunday'\n",
    "}\n",
    "\n",
    "accidents_per_day.index = accidents_per_day.index.map(day_names)\n",
    "accidents_per_day.plot(kind='bar')\n",
    "plt.xticks(rotation=45)\n",
    "print(accidents_per_day)"
   ]
  },
  {
   "cell_type": "markdown",
   "id": "089ab399-3c50-4cd9-8d00-761f995aaf4a",
   "metadata": {},
   "source": [
    "<h2> <strong> <i>Insight 2: </i> </strong>In terms of Year, the national record is decreasing by year. While in Sedgemoor, year 2019 is the highest, followed by 2021, then 2020, 2022 is the lowest.</h2>\n",
    "\n",
    "<h2> <strong> <i>Insight 3: </i> </strong>In terms of Month, if November is peak month in the national record, in Sedgemoor, September is the peak month. Then both has February as the month with the lowest record.</h2>\n",
    "\n",
    "<h2> <strong> <i>Insight 4: </i> </strong>In terms of Day of the Week, Saturday is the day with highest records in both of them (national record and Wyre) but Friday and Wednesday are also high, then same goes with the lowest which is also both Monday.</h2>"
   ]
  },
  {
   "cell_type": "markdown",
   "id": "48afceb8-458b-46a1-aea0-181e68e4ca6d",
   "metadata": {},
   "source": [
    "<h3>Accident Severity in Sedgemoor</h3>"
   ]
  },
  {
   "cell_type": "code",
   "execution_count": null,
   "id": "a99cf033-25db-49d7-bb13-5880471038c6",
   "metadata": {},
   "outputs": [],
   "source": [
    "severity_sedgemoor  = sedgemoor_df['Accident_Severity'].value_counts()\n",
    "\n",
    "plt.pie(severity_sedgemoor,\n",
    "        labels = severity_sedgemoor.index,\n",
    "        autopct = '%1.1f%%',\n",
    "        startangle = 90)\n",
    "plt.gcf().set_size_inches(10,7)\n",
    "plt.title('Accident Severity Distribution')\n",
    "plt.show()\n",
    "\n",
    "severity_2019_sedgemoor = sedgemoor_df[sedgemoor_df['Year'] == 2019]\n",
    "# severity_2019\n",
    "lsc_2019 = severity_2019_sedgemoor['Accident_Severity'].value_counts()\n",
    "\n",
    "plt.pie(lsc_2019,\n",
    "        labels = lsc_2019.index,\n",
    "        autopct = '%1.1f%%',\n",
    "        startangle = 90)\n",
    "plt.gcf().set_size_inches(10,7)\n",
    "plt.title('Accident Severity Distribution')\n",
    "plt.show()\n"
   ]
  },
  {
   "cell_type": "markdown",
   "id": "354f6c8b-1596-40ad-9766-f7d24b13de54",
   "metadata": {},
   "source": [
    "<h2> <strong> <i>Insight 5: </i> </strong> Both also has the same distribution of accident severity in the graph, but the record of fatality in Sedgemoor in both charts are slightly higher (above 2%) than the national records.</h2>"
   ]
  },
  {
   "cell_type": "code",
   "execution_count": null,
   "id": "27e87f77-8968-4446-873f-7d6971476d8a",
   "metadata": {},
   "outputs": [],
   "source": [
    "sedge = list(zip(sedgemoor_df['Latitude'], sedgemoor_df['Longitude']))\n",
    "m = folium.Map(location=[sedgemoor_df['Latitude'].mean(), sedgemoor_df['Longitude'].mean()], zoom_start=10)\n",
    "\n",
    "HeatMap(sedge).add_to(m)\n",
    "m.save('Sedgemoor_heatmap.html')\n",
    "m"
   ]
  },
  {
   "cell_type": "markdown",
   "id": "7c4f98b0-7974-4c90-87e6-3747d89f9bad",
   "metadata": {},
   "source": [
    "<hr>\n",
    "<h1>Stirling Analysis</h1>"
   ]
  },
  {
   "cell_type": "code",
   "execution_count": null,
   "id": "df26024f-f99a-436a-ab42-1a00787f41d1",
   "metadata": {},
   "outputs": [],
   "source": [
    "stirling_df = ukroadaccident[ukroadaccident['District Area'] == 'Stirling']"
   ]
  },
  {
   "cell_type": "code",
   "execution_count": null,
   "id": "e07f1fd5-47fc-4043-80c4-bf4a1400eb7a",
   "metadata": {},
   "outputs": [],
   "source": [
    "monthly_stirlingdata = stirling_df.groupby(['Year', 'Month']).size()\n",
    "\n",
    "monthly_stirlingdata = monthly_stirlingdata.unstack(level=0)\n",
    "\n",
    "monthly_stirlingdata.plot(\n",
    "    marker='o', \n",
    "    figsize=(10, 5),\n",
    "    title='Monthly Road Accidents in Stirling by Year (2019-2022)'\n",
    ")\n",
    "plt.xticks(range(1, 13), ['Jan','Feb','Mar','Apr','May','Jun','Jul','Aug','Sep','Oct','Nov','Dec'])\n",
    "plt.legend(title='Yearly Accident Comparison', bbox_to_anchor = (1.05,1), loc='upper left')\n",
    "plt.grid(alpha=0.3)\n",
    "plt.show()"
   ]
  },
  {
   "cell_type": "markdown",
   "id": "1320fc88-4cb3-4ff0-8f18-7f7ef5862b34",
   "metadata": {},
   "source": [
    "<h2> <strong> <i>Insight 1: </i> </strong>Compared to the national where we can actually see the clear distribution of accidents per year, in Stirling, there is a peak in June 2020. Also, same with Aberdeen City, there is also a consistent zero record in all months on the year 2022 in this district.</h2>"
   ]
  },
  {
   "cell_type": "code",
   "execution_count": null,
   "id": "256d9425-427f-4dc6-975d-077fac09e624",
   "metadata": {},
   "outputs": [],
   "source": [
    "# Accidents per year\n",
    "accidents_per_year = stirling_df['Year'].value_counts().sort_index()\n",
    "accidents_per_month = stirling_df['Month_Number'].value_counts().sort_index()\n",
    "accidents_per_day = stirling_df['DayofWeek'].value_counts().sort_index()\n",
    "\n",
    "\n",
    "#PER YEAR \n",
    "accidents_per_year.plot(kind='bar')\n",
    "plt.title('Accidents per Year')\n",
    "plt.xlabel('Year')\n",
    "plt.ylabel('Number of Accidents')\n",
    "plt.show()\n",
    "\n",
    "month_names = {\n",
    "    1: 'January', 2: 'February', 3: 'March', 4: 'April',\n",
    "    5: 'May', 6: 'June', 7: 'July', 8: 'August',\n",
    "    9: 'September', 10: 'October', 11: 'November', 12: 'December'\n",
    "}\n",
    "\n",
    "# Replace numerical months with their names\n",
    "accidents_per_month.index = accidents_per_month.index.map(month_names)\n",
    "\n",
    "accidents_per_month.plot(kind='bar')\n",
    "plt.title('Accidents per Month')\n",
    "plt.xlabel('Month')\n",
    "plt.ylabel('Number of Accidents')\n",
    "plt.show()\n",
    "\n",
    "\n",
    "#accident per day\n",
    "day_names = {\n",
    "    0: 'Monday',\n",
    "    1: 'Tuesday',\n",
    "    2: 'Wednesday',\n",
    "    3: 'Thursday',\n",
    "    4: 'Friday',\n",
    "    5: 'Saturday',\n",
    "    6: 'Sunday'\n",
    "}\n",
    "\n",
    "accidents_per_day.index = accidents_per_day.index.map(day_names)\n",
    "accidents_per_day.plot(kind='bar')\n",
    "print(accidents_per_day)"
   ]
  },
  {
   "cell_type": "markdown",
   "id": "c3d5bc88-362f-43ec-9ac0-60a68ded4cc3",
   "metadata": {},
   "source": [
    "<h2> <strong> <i>Insight 2: </i> </strong>In terms of Year, the national record is decreasing by year. While in Stirling, it is also decreasing per year.</h2>\n",
    "\n",
    "<h2> <strong> <i>Insight 3: </i> </strong>In terms of Month, if November is the peak month in the national record, it is actually the lowest month in Stirling. While the peak month is June.</h2>\n",
    "\n",
    "<h2> <strong> <i>Insight 4: </i> </strong>In terms of Day of the Week, weekends is being the top, but Saturday got the highest record, which is the same with the national analytics. Then the day that has the lowest record in Stirling is Friday, while the national record is Monday, both are weekdays.</h2>"
   ]
  },
  {
   "cell_type": "markdown",
   "id": "4bc3dc39-2cb3-4140-bd32-fe2da4b44b05",
   "metadata": {},
   "source": [
    "<h3>Accident Severity in Stirling</h3>"
   ]
  },
  {
   "cell_type": "code",
   "execution_count": null,
   "id": "44e2af31-f3ce-46a9-a36e-71e0c9899a21",
   "metadata": {},
   "outputs": [],
   "source": [
    "severity_stirling  = stirling_df['Accident_Severity'].value_counts()\n",
    "\n",
    "plt.pie(severity_stirling,\n",
    "        labels = severity_stirling.index,\n",
    "        autopct = '%1.1f%%',\n",
    "        startangle = 90)\n",
    "plt.gcf().set_size_inches(10,7)\n",
    "plt.title('Accident Severity Distribution')\n",
    "plt.show()\n",
    "\n",
    "severity_2019_stirling = stirling_df[stirling_df['Year'] == 2019]\n",
    "# severity_2019\n",
    "lsc_2019 = severity_2019_stirling['Accident_Severity'].value_counts()\n",
    "\n",
    "plt.pie(lsc_2019,\n",
    "        labels = lsc_2019.index,\n",
    "        autopct = '%1.1f%%',\n",
    "        startangle = 90)\n",
    "plt.gcf().set_size_inches(10,7)\n",
    "plt.title('Accident Severity Distribution')\n",
    "plt.show()\n"
   ]
  },
  {
   "cell_type": "markdown",
   "id": "f2c6b871-c5c7-451f-a87d-6fe06b391e27",
   "metadata": {},
   "source": [
    "<h2> <strong> <i>Insight 5: </i> </strong> Both also has the same distribution of accident severity in the graph, but the rate of fatality and serious injury is slightly higher.</h2>"
   ]
  },
  {
   "cell_type": "code",
   "execution_count": null,
   "id": "90875c89-817a-4e38-af61-5c0b8e857c23",
   "metadata": {},
   "outputs": [],
   "source": [
    "stir = list(zip(stirling_df['Latitude'], stirling_df['Longitude']))\n",
    "m = folium.Map(location=[stirling_df['Latitude'].mean(), stirling_df['Longitude'].mean()], zoom_start=10)\n",
    "\n",
    "HeatMap(stir).add_to(m)\n",
    "m.save('Stirling_heatmap.html')\n",
    "m"
   ]
  },
  {
   "cell_type": "markdown",
   "id": "fba5f9ee-3710-4289-a8a0-4cc2cc1223e7",
   "metadata": {},
   "source": [
    "<hr>\n",
    "<h1>Rushcliffe Analysis</h1>"
   ]
  },
  {
   "cell_type": "code",
   "execution_count": null,
   "id": "576cbd33-b106-4f5c-85bf-93543c382b8a",
   "metadata": {},
   "outputs": [],
   "source": [
    "rushcliffe_df = ukroadaccident[ukroadaccident['District Area'] == 'Rushcliffe']"
   ]
  },
  {
   "cell_type": "code",
   "execution_count": null,
   "id": "cc16f1c7-bc0a-4084-9064-27aa357c6bfa",
   "metadata": {},
   "outputs": [],
   "source": [
    "monthly_rushcliffedata = rushcliffe_df.groupby(['Year', 'Month']).size()\n",
    "\n",
    "monthly_rushcliffedata = monthly_rushcliffedata.unstack(level=0)\n",
    "\n",
    "monthly_rushcliffedata.plot(\n",
    "    marker='o', \n",
    "    figsize=(10, 5),\n",
    "    title='Monthly Road Accidents in Rushcliffe by Year (2019-2022)'\n",
    ")\n",
    "plt.xticks(range(1, 13), ['Jan','Feb','Mar','Apr','May','Jun','Jul','Aug','Sep','Oct','Nov','Dec'])\n",
    "plt.legend(title='Yearly Accident Comparison', bbox_to_anchor = (1.05,1), loc='upper left')\n",
    "plt.grid(alpha=0.3)\n",
    "plt.show()"
   ]
  },
  {
   "cell_type": "markdown",
   "id": "804269c1-6f23-467d-8707-ce0ff52275c4",
   "metadata": {},
   "source": [
    "<h2> <strong> <i>Insight 1: </i> </strong> In the national analytics, it is sequential and decreasing by year. While in Rushcliffe district, the distribution of accidents per month goes up and down by year, and there is a peak in September 2019.</h2>"
   ]
  },
  {
   "cell_type": "code",
   "execution_count": null,
   "id": "548775bf-abaf-4423-8761-d614a7da4ecf",
   "metadata": {},
   "outputs": [],
   "source": [
    "# Accidents per year\n",
    "accidents_per_year = rushcliffe_df['Year'].value_counts().sort_index()\n",
    "accidents_per_month = rushcliffe_df['Month_Number'].value_counts().sort_index()\n",
    "accidents_per_day = rushcliffe_df['DayofWeek'].value_counts().sort_index()\n",
    "\n",
    "\n",
    "#PER YEAR \n",
    "accidents_per_year.plot(kind='bar')\n",
    "plt.title('Accidents per Year')\n",
    "plt.xlabel('Year')\n",
    "plt.ylabel('Number of Accidents')\n",
    "plt.show()\n",
    "\n",
    "month_names = {\n",
    "    1: 'January', 2: 'February', 3: 'March', 4: 'April',\n",
    "    5: 'May', 6: 'June', 7: 'July', 8: 'August',\n",
    "    9: 'September', 10: 'October', 11: 'November', 12: 'December'\n",
    "}\n",
    "\n",
    "# Replace numerical months with their names\n",
    "accidents_per_month.index = accidents_per_month.index.map(month_names)\n",
    "\n",
    "\n",
    "accidents_per_month.plot(kind='bar')\n",
    "plt.title('Accidents per Month')\n",
    "plt.xlabel('Month')\n",
    "plt.ylabel('Number of Accidents')\n",
    "plt.show()\n",
    "\n",
    "#accident per day\n",
    "day_names = {\n",
    "    0: 'Monday',\n",
    "    1: 'Tuesday',\n",
    "    2: 'Wednesday',\n",
    "    3: 'Thursday',\n",
    "    4: 'Friday',\n",
    "    5: 'Saturday',\n",
    "    6: 'Sunday'\n",
    "}\n",
    "\n",
    "accidents_per_day.index = accidents_per_day.index.map(day_names)\n",
    "accidents_per_day.plot(kind='bar')\n",
    "print(accidents_per_day)"
   ]
  },
  {
   "cell_type": "markdown",
   "id": "2db36453-1598-439b-b0d0-3eb0fc2d4324",
   "metadata": {},
   "source": [
    "<h2> <strong> <i>Insight 2: </i> </strong>In terms of Year, both the national record and Rushcliffe analytics is decreasing by year.</h2>\n",
    "\n",
    "<h2> <strong> <i>Insight 3: </i> </strong>In terms of Month, November is the peak month of both analytics, while the lowest point in the National is February and August in Rushcliffe which is very far from each other.</h2>\n",
    "\n",
    "<h2> <strong> <i>Insight 4: </i> </strong>In terms of Day of the Week, Saturday is the peak day in the national, while in Rushcliffe it is both weekends, Sunday is only one record difference from Saturday. Whereas the lowest records of accidents in both analytics is Monday.</h2>"
   ]
  },
  {
   "cell_type": "markdown",
   "id": "b756c248-b08a-490a-80f5-c4562e9859da",
   "metadata": {},
   "source": [
    "<h3>Accident Severity in Rushcliffe</h3>"
   ]
  },
  {
   "cell_type": "code",
   "execution_count": null,
   "id": "64dd5573-5863-4be0-a050-9d41c758664a",
   "metadata": {},
   "outputs": [],
   "source": [
    "severity_rushcliffe  = rushcliffe_df['Accident_Severity'].value_counts()\n",
    "\n",
    "plt.pie(severity_rushcliffe,\n",
    "        labels = severity_rushcliffe.index,\n",
    "        autopct = '%1.1f%%',\n",
    "        startangle = 90)\n",
    "plt.gcf().set_size_inches(10,7)\n",
    "plt.title('Accident Severity Distribution')\n",
    "plt.show()\n",
    "\n",
    "severity_2019_rushcliffe = rushcliffe_df[rushcliffe_df['Year'] == 2019]\n",
    "# severity_2019\n",
    "lsc_2019 = severity_2019_rushcliffe['Accident_Severity'].value_counts()\n",
    "\n",
    "plt.pie(lsc_2019,\n",
    "        labels = lsc_2019.index,\n",
    "        autopct = '%1.1f%%',\n",
    "        startangle = 90)\n",
    "plt.gcf().set_size_inches(10,7)\n",
    "plt.title('Accident Severity Distribution')\n",
    "plt.show()\n"
   ]
  },
  {
   "cell_type": "markdown",
   "id": "78af3aff-ba40-4b98-a750-e98da52bbc6e",
   "metadata": {},
   "source": [
    "<h2> <strong> <i>Insight 5: </i> </strong> Both also has almost the same distribution of accident severity in the graph.</h2>"
   ]
  },
  {
   "cell_type": "code",
   "execution_count": null,
   "id": "013be7e5-2a01-48ba-b328-c7b7fbaac009",
   "metadata": {},
   "outputs": [],
   "source": [
    "rush = list(zip(rushcliffe_df['Latitude'], rushcliffe_df['Longitude']))\n",
    "m = folium.Map(location=[rushcliffe_df['Latitude'].mean(), rushcliffe_df['Longitude'].mean()], zoom_start=10)\n",
    "\n",
    "HeatMap(rush).add_to(m)\n",
    "m.save('Rushcliffe_heatmap.html')\n",
    "m"
   ]
  },
  {
   "cell_type": "markdown",
   "id": "6351e452-40ef-45c6-b35e-260bbfaf596d",
   "metadata": {},
   "source": [
    "<hr>\n",
    "<h1>Dacorum Analysis</h1>"
   ]
  },
  {
   "cell_type": "code",
   "execution_count": null,
   "id": "35186c70-8e21-4a1a-b989-418d8bc67fa3",
   "metadata": {},
   "outputs": [],
   "source": [
    "dacorum_df = ukroadaccident[ukroadaccident['District Area'] == 'Dacorum']"
   ]
  },
  {
   "cell_type": "code",
   "execution_count": null,
   "id": "9ac987ec-6643-408b-bb0f-1ac3def7771c",
   "metadata": {},
   "outputs": [],
   "source": [
    "monthly_dacorumdata = dacorum_df.groupby(['Year', 'Month']).size()\n",
    "\n",
    "monthly_dacorumdata = monthly_dacorumdata.unstack(level=0)\n",
    "\n",
    "monthly_dacorumdata.plot(\n",
    "    marker='o', \n",
    "    figsize=(10, 5),\n",
    "    title='Monthly Road Accidents in Dacorum by Year (2019-2022)'\n",
    ")\n",
    "plt.xticks(range(1, 13), ['Jan','Feb','Mar','Apr','May','Jun','Jul','Aug','Sep','Oct','Nov','Dec'])\n",
    "plt.legend(title='Yearly Accident Comparison', bbox_to_anchor = (1.05,1), loc='upper left')\n",
    "plt.grid(alpha=0.3)\n",
    "plt.show()"
   ]
  },
  {
   "cell_type": "markdown",
   "id": "c86ebe18-df17-45cd-a440-e7093b6f4eac",
   "metadata": {},
   "source": [
    "<h2> <strong> <i>Insight 1: </i> </strong> In the national analytics, it is sequential and decreasing by year. While in Dacorum, there is a peak in August, 2019, and a lowest point in June 2021.</h2>"
   ]
  },
  {
   "cell_type": "code",
   "execution_count": null,
   "id": "c3954bc3-453f-4193-9efb-64d7cfd0af10",
   "metadata": {},
   "outputs": [],
   "source": [
    "# Accidents per year\n",
    "accidents_per_year = dacorum_df['Year'].value_counts().sort_index()\n",
    "accidents_per_month = dacorum_df['Month_Number'].value_counts().sort_index()\n",
    "accidents_per_day = dacorum_df['DayofWeek'].value_counts().sort_index()\n",
    "\n",
    "\n",
    "#PER YEAR \n",
    "accidents_per_year.plot(kind='bar')\n",
    "plt.title('Accidents per Year')\n",
    "plt.xlabel('Year')\n",
    "plt.ylabel('Number of Accidents')\n",
    "plt.show()\n",
    "\n",
    "month_names = {\n",
    "    1: 'January', 2: 'February', 3: 'March', 4: 'April',\n",
    "    5: 'May', 6: 'June', 7: 'July', 8: 'August',\n",
    "    9: 'September', 10: 'October', 11: 'November', 12: 'December'\n",
    "}\n",
    "\n",
    "# Replace numerical months with their names\n",
    "accidents_per_month.index = accidents_per_month.index.map(month_names)\n",
    "\n",
    "\n",
    "accidents_per_month.plot(kind='bar')\n",
    "plt.title('Accidents per Month')\n",
    "plt.xlabel('Month')\n",
    "plt.ylabel('Number of Accidents')\n",
    "plt.show()\n",
    "\n",
    "\n",
    "#accident per day\n",
    "day_names = {\n",
    "    0: 'Monday',\n",
    "    1: 'Tuesday',\n",
    "    2: 'Wednesday',\n",
    "    3: 'Thursday',\n",
    "    4: 'Friday',\n",
    "    5: 'Saturday',\n",
    "    6: 'Sunday'\n",
    "}\n",
    "\n",
    "accidents_per_day.index = accidents_per_day.index.map(day_names)\n",
    "accidents_per_day.plot(kind='bar')\n",
    "print(accidents_per_day)"
   ]
  },
  {
   "cell_type": "markdown",
   "id": "10a9570d-6ffd-4a13-b50f-519b14cb1c8f",
   "metadata": {},
   "source": [
    "<h2> <strong> <i>Insight 2: </i> </strong>In terms of Year, the national record is decreasing per year, while in Dacorum, it is decreasing from 2019-2021, but in 2022. the record of accidents increases slightly.</h2>\n",
    "\n",
    "<h2> <strong> <i>Insight 3: </i> </strong>In terms of Month, November is the peak month of both analytics, while the lowest point in the National is February and August in Dacorum (the same with the analysis in Rushcliffe).</h2>\n",
    "\n",
    "<h2> <strong> <i>Insight 4: </i> </strong>In terms of Day of the Week, Saturday is the peak day in the national, while in Dacorum, it is Thursday. Whereas the lowest records of accidents in both analytics is Monday.</h2>"
   ]
  },
  {
   "cell_type": "code",
   "execution_count": null,
   "id": "ac72d1fb-b0bb-48b1-b34b-e9b1b515a702",
   "metadata": {},
   "outputs": [],
   "source": [
    "severity_dacorum  = dacorum_df['Accident_Severity'].value_counts()\n",
    "\n",
    "plt.pie(severity_dacorum,\n",
    "        labels = severity_dacorum.index,\n",
    "        autopct = '%1.1f%%',\n",
    "        startangle = 90)\n",
    "plt.gcf().set_size_inches(10,7)\n",
    "plt.title('Accident Severity Distribution')\n",
    "plt.show()\n",
    "\n",
    "severity_2019_dacorum = dacorum_df[dacorum_df['Year'] == 2019]\n",
    "# severity_2019\n",
    "lsc_2019 = severity_2019_dacorum['Accident_Severity'].value_counts()\n",
    "\n",
    "plt.pie(lsc_2019,\n",
    "        labels = lsc_2019.index,\n",
    "        autopct = '%1.1f%%',\n",
    "        startangle = 90)\n",
    "plt.gcf().set_size_inches(10,7)\n",
    "plt.title('Accident Severity Distribution')\n",
    "plt.show()\n"
   ]
  },
  {
   "cell_type": "markdown",
   "id": "7431b131-1aa3-4571-b721-59b9aafcc4db",
   "metadata": {},
   "source": [
    "<h2> <strong> <i>Insight 5: </i> </strong> Both also has almost the same distribution of accident severity in the graph, but the fatality rate is very much low in Dacorum.</h2>"
   ]
  },
  {
   "cell_type": "code",
   "execution_count": null,
   "id": "6dc35eae-afd8-431a-bb79-b0102c24afd3",
   "metadata": {},
   "outputs": [],
   "source": [
    "dac = list(zip(dacorum_df['Latitude'], dacorum_df['Longitude']))\n",
    "m = folium.Map(location=[dacorum_df['Latitude'].mean(), dacorum_df['Longitude'].mean()], zoom_start=10)\n",
    "\n",
    "HeatMap(dac).add_to(m)\n",
    "m.save('Dacorum_heatmap.html')\n",
    "m"
   ]
  },
  {
   "cell_type": "code",
   "execution_count": null,
   "id": "eccc3aa8-a1a7-4918-862f-5e48d2f4c656",
   "metadata": {},
   "outputs": [],
   "source": [
    "pd.DataFrame(ukroadaccident['District Area'].unique(), columns=['District Area'])\n",
    "ukroadaccident['District Area'].value_counts()\n",
    "\n",
    "for area in ukroadaccident['District Area'].unique():\n",
    "    print(area)"
   ]
  },
  {
   "cell_type": "markdown",
   "id": "d1121e24-9337-4b6e-ac8f-78052d17fa59",
   "metadata": {},
   "source": [
    "<hr>\n",
    "<h1>Dundee City Analysis</h1>"
   ]
  },
  {
   "cell_type": "code",
   "execution_count": null,
   "id": "3105aca4-0c89-4900-b38a-fd757da3f481",
   "metadata": {},
   "outputs": [],
   "source": [
    "dundee_df = ukroadaccident[ukroadaccident['District Area'] == 'Dundee City']"
   ]
  },
  {
   "cell_type": "code",
   "execution_count": null,
   "id": "d33eb3b5-a47f-4b77-9f65-3705a947d5e2",
   "metadata": {},
   "outputs": [],
   "source": [
    "monthly_dundeedata = dundee_df.groupby(['Year', 'Month']).size()\n",
    "\n",
    "monthly_dundeedata = monthly_dundeedata.unstack(level=0)\n",
    "\n",
    "monthly_dundeedata.plot(\n",
    "    marker='o', \n",
    "    figsize=(10, 5),\n",
    "    title='Monthly Road Accidents in Dundee City by Year (2019-2022)'\n",
    ")\n",
    "plt.xticks(range(1, 13), ['Jan','Feb','Mar','Apr','May','Jun','Jul','Aug','Sep','Oct','Nov','Dec'])\n",
    "plt.legend(title='Yearly Accident Comparison', bbox_to_anchor = (1.05,1), loc='upper left')\n",
    "plt.grid(alpha=0.3)\n",
    "plt.show()"
   ]
  },
  {
   "cell_type": "markdown",
   "id": "aa6b35b1-80d9-4d2a-9cb9-e5e3ac02e244",
   "metadata": {},
   "source": [
    "<h2> <strong> <i>Insight 1: </i> </strong> In the national analytics, it is sequential and decreasing by year. While in Dundee City, the record is quite inconsistent in 2019,2020, and 2021. Also, same with Aberdeen City, and Stirling, it doesnt have any records in 2022.</h2>"
   ]
  },
  {
   "cell_type": "code",
   "execution_count": null,
   "id": "9cf2dd29-dc28-4b17-8f3c-3280c082673f",
   "metadata": {},
   "outputs": [],
   "source": [
    "# Accidents per year\n",
    "accidents_per_year = dundee_df['Year'].value_counts().sort_index()\n",
    "accidents_per_month = dundee_df['Month_Number'].value_counts().sort_index()\n",
    "accidents_per_day = dundee_df['DayofWeek'].value_counts().sort_index()\n",
    "\n",
    "\n",
    "#PER YEAR \n",
    "accidents_per_year.plot(kind='bar')\n",
    "plt.title('Accidents per Year')\n",
    "plt.xlabel('Year')\n",
    "plt.ylabel('Number of Accidents')\n",
    "plt.show()\n",
    "\n",
    "month_names = {\n",
    "    1: 'January', 2: 'February', 3: 'March', 4: 'April',\n",
    "    5: 'May', 6: 'June', 7: 'July', 8: 'August',\n",
    "    9: 'September', 10: 'October', 11: 'November', 12: 'December'\n",
    "}\n",
    "\n",
    "# Replace numerical months with their names\n",
    "accidents_per_month.index = accidents_per_month.index.map(month_names)\n",
    "\n",
    "\n",
    "accidents_per_month.plot(kind='bar')\n",
    "plt.title('Accidents per Month')\n",
    "plt.xlabel('Month')\n",
    "plt.ylabel('Number of Accidents')\n",
    "plt.show()\n",
    "\n",
    "\n",
    "#accident per day\n",
    "day_names = {\n",
    "    0: 'Monday',\n",
    "    1: 'Tuesday',\n",
    "    2: 'Wednesday',\n",
    "    3: 'Thursday',\n",
    "    4: 'Friday',\n",
    "    5: 'Saturday',\n",
    "    6: 'Sunday'\n",
    "}\n",
    "\n",
    "accidents_per_day.index = accidents_per_day.index.map(day_names)\n",
    "accidents_per_day.plot(kind='bar')\n",
    "print(accidents_per_day)"
   ]
  },
  {
   "cell_type": "markdown",
   "id": "455ee596-5925-48bd-bca8-b3a21e2b9a1f",
   "metadata": {},
   "source": [
    "<h2> <strong> <i>Insight 2: </i> </strong>In terms of Year, if the national record is decreasing per year, the records in Dundee City is increasing per year (2019-2021), then it is a sudden drop with literally zero record in 2022.</h2>\n",
    "\n",
    "<h2> <strong> <i>Insight 3: </i> </strong>In terms of Month, both analysis has November as the peak month, and February as the lowest month.</h2>\n",
    "\n",
    "<h2> <strong> <i>Insight 4: </i> </strong>In terms of Day of the Week, both has Saturday as the peak day, and Monday as the lowest.</h2>"
   ]
  },
  {
   "cell_type": "markdown",
   "id": "9b6d4cb7-8dac-497b-8dc2-f32f84a013f2",
   "metadata": {},
   "source": [
    "<h3>Accident Severity in Dundee City</h3>"
   ]
  },
  {
   "cell_type": "code",
   "execution_count": null,
   "id": "34ebd40a-1c06-4667-9aad-aa07c71a7f0c",
   "metadata": {},
   "outputs": [],
   "source": [
    "severity_dundee  = dundee_df['Accident_Severity'].value_counts()\n",
    "\n",
    "plt.pie(severity_dundee,\n",
    "        labels = severity_dundee.index,\n",
    "        autopct = '%1.1f%%',\n",
    "        startangle = 90)\n",
    "plt.gcf().set_size_inches(10,7)\n",
    "plt.title('Accident Severity Distribution')\n",
    "plt.show()\n",
    "\n",
    "severity_2019_dundee = dundee_df[dundee_df['Year'] == 2019]\n",
    "# severity_2019\n",
    "lsc_2019 = severity_2019_dundee['Accident_Severity'].value_counts()\n",
    "\n",
    "plt.pie(lsc_2019,\n",
    "        labels = lsc_2019.index,\n",
    "        autopct = '%1.1f%%',\n",
    "        startangle = 90)\n",
    "plt.gcf().set_size_inches(10,7)\n",
    "plt.title('Accident Severity Distribution')\n",
    "plt.show()\n"
   ]
  },
  {
   "cell_type": "markdown",
   "id": "4b9bdb9a-3b7b-4ceb-a321-71bbc22620dc",
   "metadata": {},
   "source": [
    "<h2> <strong> <i>Insight 5: </i> </strong> Both also has almost the same distribution of accident severity in the graph, but the serious injury is very much higher in Dundee City.</h2>"
   ]
  },
  {
   "cell_type": "code",
   "execution_count": null,
   "id": "fa8d26c9-58dc-4d49-83c9-e82b87fe2f7e",
   "metadata": {},
   "outputs": [],
   "source": [
    "dun = list(zip(dundee_df['Latitude'], dundee_df['Longitude']))\n",
    "m = folium.Map(location=[dundee_df['Latitude'].mean(), dundee_df['Longitude'].mean()], zoom_start=10)\n",
    "\n",
    "HeatMap(dun).add_to(m)\n",
    "m.save('Dundee_heatmap.html')\n",
    "m"
   ]
  },
  {
   "cell_type": "markdown",
   "id": "979b99d1-da46-4ea9-a54b-805938b92649",
   "metadata": {},
   "source": [
    "<hr>\n",
    "<h1>Glasgow City Analysis</h1>"
   ]
  },
  {
   "cell_type": "code",
   "execution_count": null,
   "id": "6cce4541-d998-4810-b01e-28ce3e3a3cf1",
   "metadata": {},
   "outputs": [],
   "source": [
    "glasgow_df = ukroadaccident[ukroadaccident['District Area'] == 'Glasgow City']"
   ]
  },
  {
   "cell_type": "code",
   "execution_count": null,
   "id": "e17ca2dc-754c-4d05-9b7b-deda0d8fd5ed",
   "metadata": {},
   "outputs": [],
   "source": [
    "monthly_glasgowdata = glasgow_df.groupby(['Year', 'Month']).size()\n",
    "\n",
    "monthly_glasgowdata = monthly_glasgowdata.unstack(level=0)\n",
    "\n",
    "monthly_glasgowdata.plot(\n",
    "    marker='o', \n",
    "    figsize=(10, 5),\n",
    "    title='Monthly Road Accidents in Glasgow City by Year (2019-2022)'\n",
    ")\n",
    "plt.xticks(range(1, 13), ['Jan','Feb','Mar','Apr','May','Jun','Jul','Aug','Sep','Oct','Nov','Dec'])\n",
    "plt.legend(title='Yearly Accident Comparison', bbox_to_anchor = (1.05,1), loc='upper left')\n",
    "plt.grid(alpha=0.3)\n",
    "plt.show()"
   ]
  },
  {
   "cell_type": "markdown",
   "id": "2957ca7e-0ea9-4eaa-b88c-534e14876edf",
   "metadata": {},
   "source": [
    "<h2> <strong> <i>Insight 1: </i> </strong> In the national analytics, it is sequential and decreasing by year. While in Glasgow City, the record is quite inconsistent in 2019,2020, and 2021. Also, same with Aberdeen City, Stirling, and Dundee City, this district has zero record in 2022.</h2>"
   ]
  },
  {
   "cell_type": "code",
   "execution_count": null,
   "id": "fee5f118-f641-454a-8a2c-0e2ea7418a4c",
   "metadata": {},
   "outputs": [],
   "source": [
    "# Accidents per year\n",
    "accidents_per_year = glasgow_df['Year'].value_counts().sort_index()\n",
    "accidents_per_month = glasgow_df['Month_Number'].value_counts().sort_index()\n",
    "accidents_per_day = glasgow_df['DayofWeek'].value_counts().sort_index()\n",
    "\n",
    "\n",
    "#PER YEAR \n",
    "accidents_per_year.plot(kind='bar')\n",
    "plt.title('Accidents per Year')\n",
    "plt.xlabel('Year')\n",
    "plt.ylabel('Number of Accidents')\n",
    "plt.show()\n",
    "\n",
    "month_names = {\n",
    "    1: 'January', 2: 'February', 3: 'March', 4: 'April',\n",
    "    5: 'May', 6: 'June', 7: 'July', 8: 'August',\n",
    "    9: 'September', 10: 'October', 11: 'November', 12: 'December'\n",
    "}\n",
    "\n",
    "# Replace numerical months with their names\n",
    "accidents_per_month.index = accidents_per_month.index.map(month_names)\n",
    "\n",
    "\n",
    "accidents_per_month.plot(kind='bar')\n",
    "plt.title('Accidents per Month')\n",
    "plt.xlabel('Month')\n",
    "plt.ylabel('Number of Accidents')\n",
    "plt.show()\n",
    "\n",
    "\n",
    "#accident per day\n",
    "day_names = {\n",
    "    0: 'Monday',\n",
    "    1: 'Tuesday',\n",
    "    2: 'Wednesday',\n",
    "    3: 'Thursday',\n",
    "    4: 'Friday',\n",
    "    5: 'Saturday',\n",
    "    6: 'Sunday'\n",
    "}\n",
    "\n",
    "accidents_per_day.index = accidents_per_day.index.map(day_names)\n",
    "accidents_per_day.plot(kind='bar')\n",
    "print(accidents_per_day)"
   ]
  },
  {
   "cell_type": "markdown",
   "id": "f5cf2f77-4775-445c-a717-2a876c2dff4f",
   "metadata": {},
   "source": [
    "<h2> <strong> <i>Insight 2: </i> </strong>In terms of Year, both analysis record of accidents decreases per year, but Glasgow City has a sudden drop to zero in 2022.</h2>\n",
    "\n",
    "<h2> <strong> <i>Insight 3: </i> </strong>In terms of Month, both analysis has November as the peak month, while the lowest record in the national is February and Glasgow City has June.</h2>\n",
    "\n",
    "<h2> <strong> <i>Insight 4: </i> </strong>In terms of Day of the Week, both has Saturday as the peak day, and Monday as the lowest.</h2>"
   ]
  },
  {
   "cell_type": "markdown",
   "id": "190ee072-cddc-4696-87b8-a900701d5925",
   "metadata": {},
   "source": [
    "<h3>Accident Severity in Glasgow City</h3>"
   ]
  },
  {
   "cell_type": "code",
   "execution_count": null,
   "id": "d313437e-f9cd-4629-8834-7e1aad6bfe72",
   "metadata": {},
   "outputs": [],
   "source": [
    "severity_glasgow  = glasgow_df['Accident_Severity'].value_counts()\n",
    "\n",
    "plt.pie(severity_glasgow,\n",
    "        labels = severity_glasgow.index,\n",
    "        autopct = '%1.1f%%',\n",
    "        startangle = 90)\n",
    "plt.gcf().set_size_inches(10,7)\n",
    "plt.title('Accident Severity Distribution')\n",
    "plt.show()\n",
    "\n",
    "severity_2019_glasgow = glasgow_df[glasgow_df['Year'] == 2019]\n",
    "# severity_2019\n",
    "lsc_2019 = severity_2019_glasgow['Accident_Severity'].value_counts()\n",
    "\n",
    "plt.pie(lsc_2019,\n",
    "        labels = lsc_2019.index,\n",
    "        autopct = '%1.1f%%',\n",
    "        startangle = 90)\n",
    "plt.gcf().set_size_inches(10,7)\n",
    "plt.title('Accident Severity Distribution')\n",
    "plt.show()\n"
   ]
  },
  {
   "cell_type": "markdown",
   "id": "9cf2862f-5f7f-4936-aac8-4969153f350c",
   "metadata": {},
   "source": [
    "<h2> <strong> <i>Insight 5: </i> </strong> Both also has almost the same distribution of accident severity in the graph.</h2>"
   ]
  },
  {
   "cell_type": "code",
   "execution_count": null,
   "id": "4b1b7cf1-1fea-4e01-96fa-4fb1914cb1f5",
   "metadata": {},
   "outputs": [],
   "source": [
    "glas = list(zip(glasgow_df['Latitude'], glasgow_df['Longitude']))\n",
    "m = folium.Map(location=[glasgow_df['Latitude'].mean(), glasgow_df['Longitude'].mean()], zoom_start=10)\n",
    "\n",
    "HeatMap(glas).add_to(m)\n",
    "m.save('Glasgow_heatmap.html')\n",
    "m"
   ]
  },
  {
   "cell_type": "markdown",
   "id": "7c4c1999-a29e-4b55-bead-6c85fece4d1b",
   "metadata": {},
   "source": [
    "<hr>\n",
    "<h1>Barking and Dagenham Analysis</h1>"
   ]
  },
  {
   "cell_type": "code",
   "execution_count": null,
   "id": "8a8f2c2a-a57c-4112-b828-bf072160a1ef",
   "metadata": {},
   "outputs": [],
   "source": [
    "barda_df = ukroadaccident[ukroadaccident['District Area'] == 'Barking and Dagenham']"
   ]
  },
  {
   "cell_type": "code",
   "execution_count": null,
   "id": "c330b285-a9e9-4ee1-acf1-88b65f24590f",
   "metadata": {},
   "outputs": [],
   "source": [
    "monthly_bardadata = barda_df.groupby(['Year', 'Month']).size()\n",
    "\n",
    "monthly_bardadata = monthly_bardadata.unstack(level=0)\n",
    "\n",
    "monthly_bardadata.plot(\n",
    "    marker='o', \n",
    "    figsize=(10, 5),\n",
    "    title='Monthly Road Accidents in Barking and Dagenham by Year (2019-2022)'\n",
    ")\n",
    "plt.xticks(range(1, 13), ['Jan','Feb','Mar','Apr','May','Jun','Jul','Aug','Sep','Oct','Nov','Dec'])\n",
    "plt.legend(title='Yearly Accident Comparison', bbox_to_anchor = (1.05,1), loc='upper left')\n",
    "plt.grid(alpha=0.3)\n",
    "plt.show()"
   ]
  },
  {
   "cell_type": "markdown",
   "id": "31d20ad1-5c8f-4fa0-8ecf-d07f53589461",
   "metadata": {},
   "source": [
    "<h2> <strong> <i>Insight 1: </i> </strong> In the national analytics, it is sequential and decreasing by year. While in Barking and Dagenham, there is a lowest point in March 2021, and a peak in September 2020.</h2>"
   ]
  },
  {
   "cell_type": "code",
   "execution_count": null,
   "id": "7a0fc872-9cee-4976-bdbb-d13074ca0564",
   "metadata": {},
   "outputs": [],
   "source": [
    "# Accidents per year\n",
    "accidents_per_year = barda_df['Year'].value_counts().sort_index()\n",
    "accidents_per_month = barda_df['Month_Number'].value_counts().sort_index()\n",
    "accidents_per_day = barda_df['DayofWeek'].value_counts().sort_index()\n",
    "\n",
    "\n",
    "#PER YEAR \n",
    "accidents_per_year.plot(kind='bar')\n",
    "plt.title('Accidents per Year')\n",
    "plt.xlabel('Year')\n",
    "plt.ylabel('Number of Accidents')\n",
    "plt.show()\n",
    "\n",
    "month_names = {\n",
    "    1: 'January', 2: 'February', 3: 'March', 4: 'April',\n",
    "    5: 'May', 6: 'June', 7: 'July', 8: 'August',\n",
    "    9: 'September', 10: 'October', 11: 'November', 12: 'December'\n",
    "}\n",
    "\n",
    "# Replace numerical months with their names\n",
    "accidents_per_month.index = accidents_per_month.index.map(month_names)\n",
    "\n",
    "\n",
    "accidents_per_month.plot(kind='bar')\n",
    "plt.title('Accidents per Month')\n",
    "plt.xlabel('Month')\n",
    "plt.ylabel('Number of Accidents')\n",
    "plt.show()\n",
    "\n",
    "\n",
    "#accident per day\n",
    "day_names = {\n",
    "    0: 'Monday',\n",
    "    1: 'Tuesday',\n",
    "    2: 'Wednesday',\n",
    "    3: 'Thursday',\n",
    "    4: 'Friday',\n",
    "    5: 'Saturday',\n",
    "    6: 'Sunday'\n",
    "}\n",
    "\n",
    "accidents_per_day.index = accidents_per_day.index.map(day_names)\n",
    "accidents_per_day.plot(kind='bar')\n",
    "print(accidents_per_day)"
   ]
  },
  {
   "cell_type": "markdown",
   "id": "81669335-1001-422e-92a8-9a0affe619a6",
   "metadata": {},
   "source": [
    "<h2> <strong> <i>Insight 2: </i> </strong>In terms of Year, the national record decreases per year, while in Barking and Dagenham, it looks like it has a pattern of decreasing-increasing-decreasing-increasing.</h2>\n",
    "\n",
    "<h2> <strong> <i>Insight 3: </i> </strong>In terms of Month, both analysis has November as the peak month, while the lowest record is February in both as well.</h2>\n",
    "\n",
    "<h2> <strong> <i>Insight 4: </i> </strong>In terms of Day of the Week, both has Saturday as the peak day, and Monday as the lowest.</h2>"
   ]
  },
  {
   "cell_type": "markdown",
   "id": "258fdba7-bd18-45ea-a89d-ef63c072f651",
   "metadata": {},
   "source": [
    "<h3>Accident Severity in Barking and Dagenham</h3>"
   ]
  },
  {
   "cell_type": "code",
   "execution_count": null,
   "id": "45365903-392f-4eb2-a6b4-69fff1565af2",
   "metadata": {},
   "outputs": [],
   "source": [
    "severity_barda  = barda_df['Accident_Severity'].value_counts()\n",
    "\n",
    "plt.pie(severity_barda,\n",
    "        labels = severity_barda.index,\n",
    "        autopct = '%1.1f%%',\n",
    "        startangle = 90)\n",
    "plt.gcf().set_size_inches(10,7)\n",
    "plt.title('Accident Severity Distribution')\n",
    "plt.show()\n",
    "\n",
    "severity_2019_barda = barda_df[barda_df['Year'] == 2019]\n",
    "# severity_2019\n",
    "lsc_2019 = severity_2019_barda['Accident_Severity'].value_counts()\n",
    "\n",
    "plt.pie(lsc_2019,\n",
    "        labels = lsc_2019.index,\n",
    "        autopct = '%1.1f%%',\n",
    "        startangle = 90)\n",
    "plt.gcf().set_size_inches(10,7)\n",
    "plt.title('Accident Severity Distribution')\n",
    "plt.show()\n"
   ]
  },
  {
   "cell_type": "markdown",
   "id": "de85d21a-9642-4bdc-922c-b061041dbfa9",
   "metadata": {},
   "source": [
    "<h2> <strong> <i>Insight 5: </i> </strong> Both also has almost the same distribution of accident severity in the graph, but the serious injury is much lower in Barking and Dagenham district.</h2>"
   ]
  },
  {
   "cell_type": "code",
   "execution_count": null,
   "id": "7b56dfa6-88ad-4e9f-acbc-5edb1677b437",
   "metadata": {},
   "outputs": [],
   "source": [
    "bark = list(zip(barda_df['Latitude'], barda_df['Longitude']))\n",
    "m = folium.Map(location=[barda_df['Latitude'].mean(), barda_df['Longitude'].mean()], zoom_start=10)\n",
    "\n",
    "HeatMap(bark).add_to(m)\n",
    "m.save('BarkingAndDagenham_heatmap.html')\n",
    "m"
   ]
  },
  {
   "cell_type": "markdown",
   "id": "bc5a0207-bbf5-44dd-935c-9da7a331fafb",
   "metadata": {},
   "source": [
    "<hr>\n",
    "<h1>Kingston upon Thames Analysis</h1>"
   ]
  },
  {
   "cell_type": "code",
   "execution_count": null,
   "id": "ca58e806-2373-45b4-b54e-611fd478fcfb",
   "metadata": {},
   "outputs": [],
   "source": [
    "kingtha_df = ukroadaccident[ukroadaccident['District Area'] == 'Kingston upon Thames']"
   ]
  },
  {
   "cell_type": "code",
   "execution_count": null,
   "id": "53148b44-9bd6-48c9-ad22-0231ae036df1",
   "metadata": {},
   "outputs": [],
   "source": [
    "monthly_kingthadata = kingtha_df.groupby(['Year', 'Month']).size()\n",
    "\n",
    "monthly_kingthadata = monthly_kingthadata.unstack(level=0)\n",
    "\n",
    "monthly_kingthadata.plot(\n",
    "    marker='o', \n",
    "    figsize=(10, 5),\n",
    "    title='Monthly Road Accidents in Kingston upon Thames by Year (2019-2022)'\n",
    ")\n",
    "plt.xticks(range(1, 13), ['Jan','Feb','Mar','Apr','May','Jun','Jul','Aug','Sep','Oct','Nov','Dec'])\n",
    "plt.legend(title='Yearly Accident Comparison', bbox_to_anchor = (1.05,1), loc='upper left')\n",
    "plt.grid(alpha=0.3)\n",
    "plt.show()"
   ]
  },
  {
   "cell_type": "markdown",
   "id": "28908ec4-1c9d-47d6-a515-1cee956471bd",
   "metadata": {},
   "source": [
    "<h2> <strong> <i>Insight 1: </i> </strong> In the national analytics, it is sequential and decreasing by year. While in Kingston upon Thames, there is a peak in September 2021, and a lowest point in April 2021.</h2>"
   ]
  },
  {
   "cell_type": "code",
   "execution_count": null,
   "id": "011d7067-9312-4487-ba09-c9c9d7b28e4a",
   "metadata": {},
   "outputs": [],
   "source": [
    "# Accidents per year\n",
    "accidents_per_year = kingtha_df['Year'].value_counts().sort_index()\n",
    "accidents_per_month = kingtha_df['Month_Number'].value_counts().sort_index()\n",
    "accidents_per_day = kingtha_df['DayofWeek'].value_counts().sort_index()\n",
    "\n",
    "\n",
    "#PER YEAR \n",
    "accidents_per_year.plot(kind='bar')\n",
    "plt.title('Accidents per Year')\n",
    "plt.xlabel('Year')\n",
    "plt.ylabel('Number of Accidents')\n",
    "plt.show()\n",
    "\n",
    "month_names = {\n",
    "    1: 'January', 2: 'February', 3: 'March', 4: 'April',\n",
    "    5: 'May', 6: 'June', 7: 'July', 8: 'August',\n",
    "    9: 'September', 10: 'October', 11: 'November', 12: 'December'\n",
    "}\n",
    "\n",
    "# Replace numerical months with their names\n",
    "accidents_per_month.index = accidents_per_month.index.map(month_names)\n",
    "\n",
    "\n",
    "accidents_per_month.plot(kind='bar')\n",
    "plt.title('Accidents per Month')\n",
    "plt.xlabel('Month')\n",
    "plt.ylabel('Number of Accidents')\n",
    "plt.show()\n",
    "\n",
    "\n",
    "#accident per day\n",
    "day_names = {\n",
    "    0: 'Monday',\n",
    "    1: 'Tuesday',\n",
    "    2: 'Wednesday',\n",
    "    3: 'Thursday',\n",
    "    4: 'Friday',\n",
    "    5: 'Saturday',\n",
    "    6: 'Sunday'\n",
    "}\n",
    "\n",
    "accidents_per_day.index = accidents_per_day.index.map(day_names)\n",
    "accidents_per_day.plot(kind='bar')\n",
    "print(accidents_per_day)"
   ]
  },
  {
   "cell_type": "markdown",
   "id": "9d621d9e-eb1b-454e-9fd7-6dbeabed89e4",
   "metadata": {},
   "source": [
    "<h2> <strong> <i>Insight 2: </i> </strong>In terms of Year, the national record decreases per year, while the record in Kingston upon Thames increases by year in 3 years only because it decreases by 2022.</h2>\n",
    "\n",
    "<h2> <strong> <i>Insight 3: </i> </strong>In terms of Month, both analysis has November as the peak month, while the lowest record in the national is February and in Kingston upon Thames is January.</h2>\n",
    "\n",
    "<h2> <strong> <i>Insight 4: </i> </strong>In terms of Day of the Week, both has Monday as the lowest. The highest day in the national is Saturday, while in Kingston upon Thames, Friday is only one record higher from Thursday.</h2>"
   ]
  },
  {
   "cell_type": "markdown",
   "id": "167b3344-ef10-4f3d-a163-336a5a66d470",
   "metadata": {},
   "source": [
    "<h3>Accident Severity in Kingston upon Thames</h3>"
   ]
  },
  {
   "cell_type": "code",
   "execution_count": null,
   "id": "26a2a7c9-f064-42f4-a9b2-ae2bf226819c",
   "metadata": {},
   "outputs": [],
   "source": [
    "severity_kingtha  = kingtha_df['Accident_Severity'].value_counts()\n",
    "\n",
    "plt.pie(severity_kingtha,\n",
    "        labels = severity_kingtha.index,\n",
    "        autopct = '%1.1f%%',\n",
    "        startangle = 90)\n",
    "plt.gcf().set_size_inches(10,7)\n",
    "plt.title('Accident Severity Distribution')\n",
    "plt.show()\n",
    "\n",
    "severity_2019_kingtha = kingtha_df[kingtha_df['Year'] == 2019]\n",
    "# severity_2019\n",
    "lsc_2019 = severity_2019_kingtha['Accident_Severity'].value_counts()\n",
    "\n",
    "plt.pie(lsc_2019,\n",
    "        labels = lsc_2019.index,\n",
    "        autopct = '%1.1f%%',\n",
    "        startangle = 90)\n",
    "plt.gcf().set_size_inches(10,7)\n",
    "plt.title('Accident Severity Distribution')\n",
    "plt.show()\n"
   ]
  },
  {
   "cell_type": "markdown",
   "id": "0065afac-3907-4ca8-b354-642702ea55e3",
   "metadata": {},
   "source": [
    "<h2> <strong> <i>Insight 5: </i> </strong> Both also has almost the same distribution of accident severity in the graph, but the overall analysis in Kingston upon Thames is much lower.</h2>"
   ]
  },
  {
   "cell_type": "code",
   "execution_count": null,
   "id": "a45f500c-0082-4ce5-9e7a-3061ff133edb",
   "metadata": {},
   "outputs": [],
   "source": [
    "thame = list(zip(kingtha_df['Latitude'], v['Longitude']))\n",
    "m = folium.Map(location=[kingtha_df['Latitude'].mean(), kingtha_df['Longitude'].mean()], zoom_start=10)\n",
    "\n",
    "HeatMap(thame).add_to(m)\n",
    "m.save('KingstonUponThames_heatmap.html')\n",
    "m"
   ]
  },
  {
   "cell_type": "code",
   "execution_count": null,
   "id": "141b95cd-112c-437c-a681-8b106ad92e0b",
   "metadata": {},
   "outputs": [],
   "source": [
    "# di po nagana sa akin yung heatmap po dito sa jupyter, ayaw po magshow :("
   ]
  },
  {
   "cell_type": "code",
   "execution_count": null,
   "id": "d577fe2f-f367-4cf4-9192-4045fa9c4ad9",
   "metadata": {},
   "outputs": [],
   "source": []
  }
 ],
 "metadata": {
  "kernelspec": {
   "display_name": "Python 3 (ipykernel)",
   "language": "python",
   "name": "python3"
  },
  "language_info": {
   "codemirror_mode": {
    "name": "ipython",
    "version": 3
   },
   "file_extension": ".py",
   "mimetype": "text/x-python",
   "name": "python",
   "nbconvert_exporter": "python",
   "pygments_lexer": "ipython3",
   "version": "3.13.6"
  }
 },
 "nbformat": 4,
 "nbformat_minor": 5
}
